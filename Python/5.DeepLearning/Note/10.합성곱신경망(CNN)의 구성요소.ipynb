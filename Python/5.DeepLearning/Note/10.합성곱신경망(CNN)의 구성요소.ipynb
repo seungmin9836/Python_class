{
 "cells": [
  {
   "cell_type": "markdown",
   "metadata": {},
   "source": [
    "### CNN(Convolution Neural Network)에서 본 심층신경망(다층 퍼셉트론)의 단점\n",
    "- 입력값으로 고유 이미지 생김새 정보를 알수 없다. 2차원 배열 자료를 1차원으로 변경하여 작업이 시작된다.  \n",
    "- 심층신경망은 픽셀 하나 하나의 변화에 상당히 민감하다.( 낮에 찍은 얼굴과 밤에 찍은 얼굴 사진 구별X)  \n",
    "    - 이미지 생김새를 사용할 수 없으므로 한두개의 픽셀이 모델 예측에 영향을 끼친다.  \n",
    "    - 픽셀 한두개의 정보에도 민감하게 반응하기 위해 상당히 많은 변수를 모델안에 가지고 있다.  \n",
    "    - 이로 인해 학습시간이 오래 걸리고 잘못하면 과대적합이 발생한다.\n",
    "\n"
   ]
  },
  {
   "cell_type": "markdown",
   "metadata": {},
   "source": [
    "### 합성곱 신경망 (CNN: Convolution Neural Network)의 구성요소\n",
    "    *** keyword : 특징점을 추출 ***\n",
    "- 밀집층 \n",
    "1차원 합성곱   \n",
    "- 합성곱 신경망은 노드의 가중치 갯수가 전체갯수가 아니고 정하여 사용한다.(3or5개 : 가중치가 3개 혹은 5개)\n",
    "- 입력층을 아래로 한칸 이동하여 위에서 계산한 동일한 가중치와 절편을 사용한다.\n",
    "- 밀집층 보다 가중치의 갯수가 훨씬 작음.\n",
    "- 10개의 입력이 있으면 출력은 9개만 만들어짐.\n",
    "- 3개씩 있는 것을 필터라고 하며 필터의 커널은 3이다.\n",
    "\n",
    "2차원 합성곱\n",
    "- 이미지의 크기는 4X4\n",
    "- 필터의 커널은 3X3이고 각 입력층에 곱해지는 Weight와 Bias는 동일하다.\n",
    "- 발생하는 출력의 갯수는 2X2개이다.\n",
    "- numpy random(중요)으로 처음 필터값을 정하고 이동하면서 값이 변한다.\n",
    "\n",
    "특성맵  \n",
    "- 특성맵을 활성화 출력이다고도 한다. 이유는 커널과 특성맵 사이에 활성화 함수(Relu)가 들어가기 때문이다.\n",
    "- 그러나 CNN에서는 특성맵 이라고 불리운다.\n",
    "- 2차원으로 구성된 입력층을 그대로 특성맵도 2차원으로 출력한다.\n",
    "\n",
    "여러개의 필터\n",
    "- 필터가 여러개 이므로 모든 가중치와 절편이 달라야한다.\n",
    "- 특성맵의 구성은 가로X세로X필터의 갯수로 3차원이 생성됨.\n",
    "\n",
    "  * keras.layers.Conv2D(10, kernel_size=(3,3), activation='relu') <- 10 : 필터갯수  \n",
    "\n",
    "Padding  \n",
    "- 입력값과 동일한 특성맵의 크기를 구하는 방법으로 same 패딩이 있으며, valid는 Padding이없이 구하는 방법이다.\n",
    "- same padding : 'same'을 치면 padding을 자동으로 생성하여 검은색(0)으로 채워준다.\n",
    "  \n",
    "  * keras.layers.Conv2D(10, kernel_size=(3,3), activation='relu' padding='same')\n",
    "\n"
   ]
  },
  {
   "cell_type": "markdown",
   "metadata": {},
   "source": [
    "<img src='../Data/2차원합성곱.png' width=800 height=400>\n",
    "<img src='../Data/필터.png' width=800 height=400>\n",
    "<img src='../Data/Padding.png' width=800 height=400>"
   ]
  },
  {
   "cell_type": "markdown",
   "metadata": {},
   "source": [
    "<용어정리>\n",
    "\n",
    "Stride\n",
    "- 필터의 이동을 한칸씩이 아닌 여러칸으로 이동할 경우, 이 이동하는 크기를 stride라고 함.\n",
    "- 아주 특수한 경우를 빼고는 stride는 1을 초과하여 사용하지 않는다.\n",
    "\n",
    "    * keras.layers.Conv2D(10, kernel_size=(3,3), activation='relu', padding ='same', stride = 1)\n",
    "\n",
    "Pooling 층\n",
    "- 특성맵의 다음단계를 차원축소를 하는 필터\n",
    "- 최대플링(max pooling)과 평균플링(mean pooling)의 2종류가 있다.\n",
    "\n",
    "최대플링의 경우\n",
    "- 플링의 경우 계산하는 값이 픽셀이 겹치지 않는다.\n",
    "- 플링은 가중치가 없으며 플링의 결과도 특성맵이라고도 한다."
   ]
  },
  {
   "cell_type": "markdown",
   "metadata": {},
   "source": [
    "똑같은 특징점(가중치)으로 해서 <br>\n",
    "1차원 합성곱은 밑으로 내려가면서 곱하고 2차원합성곱은 옆으로 이동하며 곱한다.\n",
    "\n",
    "두번째 사진은 커널이 3인 \n",
    "Edge Detection 윤곽선을 기억하는 것\n",
    "<img src='../Data/1차원 합성곱.png' width=250 height=190>\n",
    "<img src='../Data/2차원 합성곱.png' width=250 height=190>"
   ]
  },
  {
   "cell_type": "markdown",
   "metadata": {},
   "source": [
    "# 합성곱 신경망의 전체 그림\n",
    "   *** 면접 단골 질문들 ***\n",
    "\n",
    "<img src='../Data/합성곱신경망정리.png' width=800 height=400>"
   ]
  }
 ],
 "metadata": {
  "kernelspec": {
   "display_name": "Python 3.9.7 ('base')",
   "language": "python",
   "name": "python3"
  },
  "language_info": {
   "codemirror_mode": {
    "name": "ipython",
    "version": 3
   },
   "file_extension": ".py",
   "mimetype": "text/x-python",
   "name": "python",
   "nbconvert_exporter": "python",
   "pygments_lexer": "ipython3",
   "version": "3.9.7"
  },
  "orig_nbformat": 4,
  "vscode": {
   "interpreter": {
    "hash": "c34e8390e776d2ee205b71ed5a6130fee3cef8da5e87e926ce18e14f4a070d72"
   }
  }
 },
 "nbformat": 4,
 "nbformat_minor": 2
}
