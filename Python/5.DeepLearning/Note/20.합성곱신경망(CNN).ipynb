{
 "cells": [
  {
   "cell_type": "markdown",
   "metadata": {},
   "source": [
    "# 합성곱 신경망\n",
    "---"
   ]
  },
  {
   "cell_type": "markdown",
   "metadata": {},
   "source": [
    "합성곱 신경망의 전체 그림\n",
    "\n",
    "<img src = \"../Data/합성곱신경망.png\">"
   ]
  },
  {
   "cell_type": "code",
   "execution_count": 1,
   "metadata": {},
   "outputs": [],
   "source": [
    "from tensorflow import keras"
   ]
  },
  {
   "cell_type": "code",
   "execution_count": 2,
   "metadata": {},
   "outputs": [
    {
     "name": "stderr",
     "output_type": "stream",
     "text": [
      "2022-07-28 10:39:13.604794: I tensorflow/core/platform/cpu_feature_guard.cc:193] This TensorFlow binary is optimized with oneAPI Deep Neural Network Library (oneDNN) to use the following CPU instructions in performance-critical operations:  AVX2 FMA\n",
      "To enable them in other operations, rebuild TensorFlow with the appropriate compiler flags.\n"
     ]
    }
   ],
   "source": [
    "# h5 모델 불러오기\n",
    "model = keras.models.load_model(\"../Data/best_cnn_model.h5\")"
   ]
  },
  {
   "cell_type": "code",
   "execution_count": 3,
   "metadata": {},
   "outputs": [
    {
     "data": {
      "text/plain": [
       "[<keras.layers.convolutional.conv2d.Conv2D at 0x7feb6ea5c820>,\n",
       " <keras.layers.pooling.max_pooling2d.MaxPooling2D at 0x7feb6ea5cd00>,\n",
       " <keras.layers.convolutional.conv2d.Conv2D at 0x7feb6f324490>,\n",
       " <keras.layers.pooling.max_pooling2d.MaxPooling2D at 0x7feb6f324fa0>,\n",
       " <keras.layers.reshaping.flatten.Flatten at 0x7feb6f366ac0>,\n",
       " <keras.layers.core.dense.Dense at 0x7feb6f35fe20>,\n",
       " <keras.layers.regularization.dropout.Dropout at 0x7feb6f35f7f0>,\n",
       " <keras.layers.core.dense.Dense at 0x7feb6f372880>]"
      ]
     },
     "execution_count": 3,
     "metadata": {},
     "output_type": "execute_result"
    }
   ],
   "source": [
    "# model의 layer 확인하기\n",
    "\n",
    "model.layers"
   ]
  },
  {
   "cell_type": "markdown",
   "metadata": {},
   "source": [
    "Convolutional.conv2d\n",
    "\n",
    "<img src = \"../Data/convolutional_conv2d.png\" width =600>"
   ]
  },
  {
   "cell_type": "markdown",
   "metadata": {},
   "source": [
    "### kernel size (3X3)로 구성된 이미지 보기"
   ]
  },
  {
   "cell_type": "code",
   "execution_count": 5,
   "metadata": {},
   "outputs": [
    {
     "name": "stdout",
     "output_type": "stream",
     "text": [
      "(3, 3, 1, 32) (32,)\n"
     ]
    }
   ],
   "source": [
    "# 32개의 노드로 구성된 layer 선택\n",
    "\n",
    "conv = model.layers[0]\n",
    "print(conv.weights[0].shape, conv.weights[1].shape)"
   ]
  },
  {
   "cell_type": "code",
   "execution_count": 6,
   "metadata": {},
   "outputs": [
    {
     "name": "stdout",
     "output_type": "stream",
     "text": [
      "-0.018338172 0.25283182\n"
     ]
    }
   ],
   "source": [
    "# 가중치(weight)값 보기\n",
    "conv_weights = conv.weights[0].numpy()\n",
    "print(conv_weights.mean(), conv_weights.std())"
   ]
  },
  {
   "cell_type": "code",
   "execution_count": 7,
   "metadata": {},
   "outputs": [
    {
     "data": {
      "text/plain": [
       "array([[[[ 0.15961626,  0.17982742,  0.09360796, -0.00863037,\n",
       "           0.15170601, -0.7402885 ,  0.06737743,  0.11864051,\n",
       "           0.21002765, -0.09400906,  0.32506183,  0.14367698,\n",
       "          -0.11057805, -0.20532972, -0.17150092, -0.0381934 ,\n",
       "          -0.24339432,  0.07496916, -0.08883929, -0.0473005 ,\n",
       "          -0.41395557, -0.18060853,  0.0379527 , -0.01289226,\n",
       "          -0.18372202, -0.22041121, -0.18225108, -0.07309847,\n",
       "          -0.35442632,  0.05912845,  0.07868536,  0.00311868]],\n",
       "\n",
       "        [[-0.09841575,  0.15018032, -0.00600497,  0.17907499,\n",
       "           0.16022651, -0.36989   ,  0.14853294, -0.13992496,\n",
       "           0.40256286, -0.16466741, -0.17620637, -0.2469607 ,\n",
       "           0.27289525, -1.8303336 , -0.3002636 , -0.03797501,\n",
       "           0.17620398,  0.05331283,  0.26359713,  0.14344642,\n",
       "           0.31219643, -0.12635559,  0.01171631,  0.01403628,\n",
       "          -0.43704447,  0.08898875, -0.09450746, -0.05898875,\n",
       "          -0.19817065,  0.06176293,  0.08572558,  0.0614665 ]],\n",
       "\n",
       "        [[ 0.05028253, -0.00803712, -0.02660392, -0.14420736,\n",
       "          -0.14863247, -0.0924319 ,  0.17389531,  0.18741426,\n",
       "           0.2855626 , -0.1709129 , -0.25863048, -0.29150808,\n",
       "           0.13075618, -0.6121797 , -0.14533731,  0.01363159,\n",
       "           0.06937896, -0.21803303, -0.17216931, -0.31016853,\n",
       "           0.10776386,  0.33123025, -0.03684856, -0.08394193,\n",
       "          -0.16490924,  0.2312929 ,  0.27603415, -0.10481178,\n",
       "           0.36527622, -0.33775362,  0.14058931, -0.04018195]]],\n",
       "\n",
       "\n",
       "       [[[-0.22106026,  0.0619233 , -0.00220959,  0.03560755,\n",
       "           0.25931314, -0.35155898,  0.1610164 ,  0.16859238,\n",
       "          -0.258079  , -0.36805263,  0.08186211,  0.26984686,\n",
       "          -0.06275284,  0.18497546,  0.02330755, -0.12543373,\n",
       "           0.03158731,  0.2514265 , -0.10267595,  0.27361387,\n",
       "          -0.39112225,  0.33620438,  0.02603059, -0.08377855,\n",
       "           0.36268532,  0.23836716, -0.2619476 , -0.11882786,\n",
       "           0.2109421 ,  0.03215896,  0.17530584, -0.1528429 ]],\n",
       "\n",
       "        [[-0.2663296 ,  0.082125  ,  0.10504273,  0.27024996,\n",
       "          -0.205687  , -0.18017147,  0.2715764 , -0.18041953,\n",
       "          -0.13350452,  0.14946549,  0.36730713,  0.0899681 ,\n",
       "           0.08736557, -0.69814074,  0.28049392, -0.03049012,\n",
       "           0.2330602 , -0.02496377,  0.36058617,  0.03351306,\n",
       "           0.2604762 ,  0.002336  , -0.18218023,  0.1615909 ,\n",
       "           0.24245936,  0.26148945,  0.27452406, -0.06546065,\n",
       "           0.323529  ,  0.25030404,  0.14942326,  0.32054943]],\n",
       "\n",
       "        [[ 0.37376693,  0.25045732, -0.09355982, -0.2556829 ,\n",
       "          -0.2042823 ,  0.15554294, -0.3951311 ,  0.11238435,\n",
       "          -0.07883829,  0.26746672, -0.25899974, -0.04154373,\n",
       "           0.17372018, -0.4299638 ,  0.31013775,  0.02026045,\n",
       "          -0.28444636, -0.24933366, -0.2543188 , -0.27879357,\n",
       "           0.11323183, -0.28198   ,  0.28772876,  0.20803449,\n",
       "           0.10434471, -0.20245643, -0.0145996 ,  0.04134331,\n",
       "          -0.00856488,  0.07384735,  0.05156061, -0.21535908]]],\n",
       "\n",
       "\n",
       "       [[[-0.2344015 , -0.21078005, -0.03674892,  0.24347141,\n",
       "           0.14862618,  0.01357161,  0.00739892,  0.09451451,\n",
       "          -0.27021852,  0.1198145 , -0.3927103 ,  0.08247209,\n",
       "           0.04611886,  0.28106213, -0.04849154, -0.07817025,\n",
       "           0.27771422,  0.27027375,  0.0052154 ,  0.12768653,\n",
       "          -0.27922696, -0.0257485 , -0.23640215,  0.1503672 ,\n",
       "           0.10231571, -0.00761028,  0.42060784,  0.12647776,\n",
       "           0.1096537 ,  0.04813475, -0.0095495 , -0.15425704]],\n",
       "\n",
       "        [[-0.07420456, -0.29706687, -0.21317391,  0.03660115,\n",
       "          -0.21406083,  0.22776626,  0.00562863, -0.30028054,\n",
       "          -0.34623545, -0.05421511,  0.2628519 ,  0.09665858,\n",
       "          -0.41030237, -0.00549897,  0.18684487,  0.08366455,\n",
       "          -0.04391583, -0.02934098,  0.23252924, -0.2184761 ,\n",
       "           0.2266497 , -0.18531814, -0.2739399 , -0.05929525,\n",
       "           0.04088235, -0.12112279, -0.1646487 , -0.01606345,\n",
       "          -0.05649862, -0.07427518,  0.02670874,  0.2152944 ]],\n",
       "\n",
       "        [[ 0.31725833, -0.20141605,  0.04217866, -0.28389004,\n",
       "           0.05058524,  0.27685282, -0.36893523,  0.15236494,\n",
       "           0.06655784, -0.02335167,  0.19196886, -0.10368452,\n",
       "          -0.3003865 ,  0.29220247, -0.1701381 , -0.03507078,\n",
       "          -1.5435039 , -0.11307164, -0.24126469,  0.27414903,\n",
       "           0.05520051,  0.07720762,  0.4020019 , -0.27293837,\n",
       "          -0.04938157, -0.22505362, -0.27088684,  0.03817546,\n",
       "          -0.39109433, -0.10808981,  0.14930418, -0.06105106]]]],\n",
       "      dtype=float32)"
      ]
     },
     "execution_count": 7,
     "metadata": {},
     "output_type": "execute_result"
    }
   ],
   "source": [
    "conv_weights"
   ]
  },
  {
   "cell_type": "code",
   "execution_count": 8,
   "metadata": {},
   "outputs": [],
   "source": [
    "import matplotlib.pyplot as plt"
   ]
  },
  {
   "cell_type": "code",
   "execution_count": 10,
   "metadata": {},
   "outputs": [
    {
     "data": {
      "image/png": "[encoded data removed]",
      "text/plain": [
       "<Figure size 432x288 with 1 Axes>"
      ]
     },
     "metadata": {
      "needs_background": "light"
     },
     "output_type": "display_data"
    }
   ],
   "source": [
    "# 시각화 해보기\n",
    "\n",
    "plt.hist(conv_weights.reshape(-1, 1))\n",
    "plt.xlabel('weight')\n",
    "plt.ylabel('count')\n",
    "plt.show()"
   ]
  },
  {
   "cell_type": "code",
   "execution_count": 11,
   "metadata": {},
   "outputs": [
    {
     "data": {
      "image/png": "[encoded data removed]",
      "text/plain": [
       "<Figure size 1080x144 with 32 Axes>"
      ]
     },
     "metadata": {
      "needs_background": "light"
     },
     "output_type": "display_data"
    }
   ],
   "source": [
    "# 32개의 커널로 이루어진 이미지 확인하기\n",
    "    # 2줄에 컬럼 16개\n",
    "fig, axs = plt.subplots(2, 16, figsize=(15,2))\n",
    "\n",
    "for i in range(2):\n",
    "    for j in range(16):\n",
    "        axs[i, j].imshow(conv_weights[:,:,0,i*16+j])\n",
    "        axs[i, j].axis('off')\n",
    "\n",
    "plt.show()"
   ]
  },
  {
   "cell_type": "markdown",
   "metadata": {},
   "source": [
    "> 아래는 위의 final 커널의 이미지 색상\n",
    "\n",
    "<img src = \"../Data/3_3필터커널.png\" width =400>"
   ]
  },
  {
   "cell_type": "markdown",
   "metadata": {},
   "source": [
    "---\n",
    "## 특성맵 시각화"
   ]
  },
  {
   "cell_type": "code",
   "execution_count": 12,
   "metadata": {},
   "outputs": [
    {
     "name": "stdout",
     "output_type": "stream",
     "text": [
      "KerasTensor(type_spec=TensorSpec(shape=(None, 28, 28, 1), dtype=tf.float32, name='conv2d_input'), name='conv2d_input', description=\"created by layer 'conv2d_input'\")\n"
     ]
    }
   ],
   "source": [
    "print(model.input)"
   ]
  },
  {
   "cell_type": "code",
   "execution_count": 13,
   "metadata": {},
   "outputs": [],
   "source": [
    "# Model 불러오기\n",
    "    # activation은 함수형 모델이라는 뜻\n",
    "conv_acti = keras.models.Model(model.input, model.layers[0].output)\n"
   ]
  },
  {
   "cell_type": "code",
   "execution_count": 14,
   "metadata": {},
   "outputs": [],
   "source": [
    "(train_input, train_target), (test_input, test_target) = keras.datasets.fashion_mnist.load_data()"
   ]
  },
  {
   "cell_type": "code",
   "execution_count": 16,
   "metadata": {},
   "outputs": [
    {
     "data": {
      "image/png": "[encoded data removed]",
      "text/plain": [
       "<Figure size 432x288 with 1 Axes>"
      ]
     },
     "metadata": {
      "needs_background": "light"
     },
     "output_type": "display_data"
    }
   ],
   "source": [
    "# 원래 데이터 특성맵\n",
    "plt.imshow(train_input[0])\n",
    "plt.show()"
   ]
  },
  {
   "cell_type": "code",
   "execution_count": 17,
   "metadata": {},
   "outputs": [
    {
     "data": {
      "image/png": "[encoded data removed]",
      "text/plain": [
       "<Figure size 432x288 with 1 Axes>"
      ]
     },
     "metadata": {
      "needs_background": "light"
     },
     "output_type": "display_data"
    }
   ],
   "source": [
    "# 보기 편하게 cmap으로 필터링함\n",
    "plt.imshow(train_input[0], cmap = 'gray_r')\n",
    "plt.show()"
   ]
  },
  {
   "cell_type": "code",
   "execution_count": 18,
   "metadata": {},
   "outputs": [
    {
     "name": "stdout",
     "output_type": "stream",
     "text": [
      "1/1 [==============================] - 0s 345ms/step\n",
      "(1, 28, 28, 32)\n"
     ]
    }
   ],
   "source": [
    "inputs = train_input[0:1].reshape(-1, 28, 28, 1) / 255.0\n",
    "feature_maps = conv_acti.predict(inputs)\n",
    "print(feature_maps.shape)"
   ]
  },
  {
   "cell_type": "code",
   "execution_count": 23,
   "metadata": {},
   "outputs": [
    {
     "data": {
      "image/png": "[encoded data removed]",
      "text/plain": [
       "<Figure size 1080x576 with 32 Axes>"
      ]
     },
     "metadata": {
      "needs_background": "light"
     },
     "output_type": "display_data"
    }
   ],
   "source": [
    "# 32개의 커널로 이루어진 이미지 확인하기\n",
    "    # 4줄에 컬럼 8개\n",
    "fig, axs = plt.subplots(4, 8, figsize=(15,8))\n",
    "\n",
    "for i in range(4):\n",
    "    for j in range(8):\n",
    "        axs[i, j].imshow(feature_maps[0,:,:,i*8+j])\n",
    "        axs[i, j].axis('off')\n",
    "\n",
    "plt.show()"
   ]
  },
  {
   "cell_type": "markdown",
   "metadata": {},
   "source": [
    "> 아래는 위의 특성맵\n",
    "\n",
    "<img src = \"../Data/특성맵.png\" width =400>"
   ]
  },
  {
   "cell_type": "code",
   "execution_count": 26,
   "metadata": {},
   "outputs": [],
   "source": [
    "# Model 불러오기\n",
    "\n",
    "conv2_acti = keras.models.Model(model.input, model.layers[2].output)"
   ]
  },
  {
   "cell_type": "code",
   "execution_count": 27,
   "metadata": {},
   "outputs": [
    {
     "name": "stdout",
     "output_type": "stream",
     "text": [
      "1/1 [==============================] - 0s 112ms/step\n",
      "(1, 14, 14, 64)\n"
     ]
    }
   ],
   "source": [
    "# 위의 featureㅡmaps의 소스코드를 하나로 합쳐서 쓴거임.\n",
    "feature_maps = conv2_acti.predict(train_input[0:1].reshape(-1, 28, 28, 1)/ 255.0)\n",
    "print(feature_maps.shape)"
   ]
  },
  {
   "cell_type": "code",
   "execution_count": 28,
   "metadata": {},
   "outputs": [
    {
     "data": {
      "image/png": "[encoded data removed]",
      "text/plain": [
       "<Figure size 864x864 with 64 Axes>"
      ]
     },
     "metadata": {
      "needs_background": "light"
     },
     "output_type": "display_data"
    }
   ],
   "source": [
    "# 최대플링(max) 이미지 확인하기\n",
    "    # 4줄에 컬럼 8개\n",
    "fig, axs = plt.subplots(8, 8, figsize=(12,12))\n",
    "\n",
    "for i in range(8):\n",
    "    for j in range(8):\n",
    "        axs[i, j].imshow(feature_maps[0,:,:,i*8+j])\n",
    "        axs[i, j].axis('off')\n",
    "\n",
    "plt.show()"
   ]
  },
  {
   "cell_type": "markdown",
   "metadata": {},
   "source": [
    "> 이 전체 그림을 다 준 것이 아니고 이 점으로 나와있는 색깔있는 데이터만 준 것이다.\n",
    "\n",
    "> 이 것을 가지고 컴퓨터가 딥러닝을 한다."
   ]
  },
  {
   "cell_type": "markdown",
   "metadata": {},
   "source": [
    "> 실제 데이터 값 이미지\n",
    "model.layers[2]  \n",
    "<keras.layers.convolutional.conv2d.Conv2D at 0x7feb6f324490>,  \n",
    "<keras.layers.pooling.max_pooling2d.MaxPooling2D at 0x7feb6f324fa0>\n",
    "<img src = \"../Data/maxpooling.png\" width =400>"
   ]
  },
  {
   "cell_type": "code",
   "execution_count": null,
   "metadata": {},
   "outputs": [],
   "source": []
  }
 ],
 "metadata": {
  "kernelspec": {
   "display_name": "Python 3.9.7 ('base')",
   "language": "python",
   "name": "python3"
  },
  "language_info": {
   "codemirror_mode": {
    "name": "ipython",
    "version": 3
   },
   "file_extension": ".py",
   "mimetype": "text/x-python",
   "name": "python",
   "nbconvert_exporter": "python",
   "pygments_lexer": "ipython3",
   "version": "3.9.7"
  },
  "orig_nbformat": 4,
  "vscode": {
   "interpreter": {
    "hash": "c34e8390e776d2ee205b71ed5a6130fee3cef8da5e87e926ce18e14f4a070d72"
   }
  }
 },
 "nbformat": 4,
 "nbformat_minor": 2
}
