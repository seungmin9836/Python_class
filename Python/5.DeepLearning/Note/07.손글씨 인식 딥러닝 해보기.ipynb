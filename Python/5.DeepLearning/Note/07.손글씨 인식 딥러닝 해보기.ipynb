{
 "cells": [
  {
   "cell_type": "markdown",
   "metadata": {},
   "source": [
    "# Keras를 이용한 손글씨 인식 딥러닝\n",
    "- Tensorflow로 작성된 프로그램은 sklearn Library를 사용할때 보다 어렵다.\n",
    "- Keras는 머신러닝 라이브러리 테아노(Theano)와 Tensorflow를 Wrapping한 라이브러리"
   ]
  },
  {
   "cell_type": "code",
   "execution_count": 3,
   "metadata": {},
   "outputs": [
    {
     "name": "stdout",
     "output_type": "stream",
     "text": [
      "   0    1    2    3    4    5    6    7    8    9    ...  775  776  777  778  \\\n",
      "0    5    0    0    0    0    0    0    0    0    0  ...    0    0    0    0   \n",
      "1    0    0    0    0    0    0    0    0    0    0  ...    0    0    0    0   \n",
      "2    4    0    0    0    0    0    0    0    0    0  ...    0    0    0    0   \n",
      "3    1    0    0    0    0    0    0    0    0    0  ...    0    0    0    0   \n",
      "4    9    0    0    0    0    0    0    0    0    0  ...    0    0    0    0   \n",
      "\n",
      "   779  780  781  782  783  784  \n",
      "0    0    0    0    0    0    0  \n",
      "1    0    0    0    0    0    0  \n",
      "2    0    0    0    0    0    0  \n",
      "3    0    0    0    0    0    0  \n",
      "4    0    0    0    0    0    0  \n",
      "\n",
      "[5 rows x 785 columns]\n",
      "   0    1    2    3    4    5    6    7    8    9    ...  775  776  777  778  \\\n",
      "0    7    0    0    0    0    0    0    0    0    0  ...    0    0    0    0   \n",
      "1    2    0    0    0    0    0    0    0    0    0  ...    0    0    0    0   \n",
      "2    1    0    0    0    0    0    0    0    0    0  ...    0    0    0    0   \n",
      "3    0    0    0    0    0    0    0    0    0    0  ...    0    0    0    0   \n",
      "4    4    0    0    0    0    0    0    0    0    0  ...    0    0    0    0   \n",
      "\n",
      "   779  780  781  782  783  784  \n",
      "0    0    0    0    0    0    0  \n",
      "1    0    0    0    0    0    0  \n",
      "2    0    0    0    0    0    0  \n",
      "3    0    0    0    0    0    0  \n",
      "4    0    0    0    0    0    0  \n",
      "\n",
      "[5 rows x 785 columns]\n"
     ]
    }
   ],
   "source": [
    "import pandas as pd\n",
    "train = pd.read_csv(\"../Data/train_20k.csv\", header=None)\n",
    "test = pd.read_csv(\"../Data/test_1k.csv\", header=None)\n",
    "print(train.head())\n",
    "print(test.head())"
   ]
  },
  {
   "cell_type": "code",
   "execution_count": 4,
   "metadata": {},
   "outputs": [
    {
     "data": {
      "text/plain": [
       "0"
      ]
     },
     "execution_count": 4,
     "metadata": {},
     "output_type": "execute_result"
    }
   ],
   "source": [
    "#null\n",
    "train.isnull().sum().sum()"
   ]
  },
  {
   "cell_type": "code",
   "execution_count": 5,
   "metadata": {},
   "outputs": [
    {
     "data": {
      "text/plain": [
       "0"
      ]
     },
     "execution_count": 5,
     "metadata": {},
     "output_type": "execute_result"
    }
   ],
   "source": [
    "test.isnull().sum().sum()"
   ]
  },
  {
   "cell_type": "code",
   "execution_count": 20,
   "metadata": {},
   "outputs": [
    {
     "data": {
      "text/html": [
       "<div>\n",
       "<style scoped>\n",
       "    .dataframe tbody tr th:only-of-type {\n",
       "        vertical-align: middle;\n",
       "    }\n",
       "\n",
       "    .dataframe tbody tr th {\n",
       "        vertical-align: top;\n",
       "    }\n",
       "\n",
       "    .dataframe thead th {\n",
       "        text-align: right;\n",
       "    }\n",
       "</style>\n",
       "<table border=\"1\" class=\"dataframe\">\n",
       "  <thead>\n",
       "    <tr style=\"text-align: right;\">\n",
       "      <th></th>\n",
       "      <th>0</th>\n",
       "      <th>1</th>\n",
       "      <th>2</th>\n",
       "      <th>3</th>\n",
       "      <th>4</th>\n",
       "      <th>5</th>\n",
       "      <th>6</th>\n",
       "      <th>7</th>\n",
       "      <th>8</th>\n",
       "      <th>9</th>\n",
       "      <th>...</th>\n",
       "      <th>775</th>\n",
       "      <th>776</th>\n",
       "      <th>777</th>\n",
       "      <th>778</th>\n",
       "      <th>779</th>\n",
       "      <th>780</th>\n",
       "      <th>781</th>\n",
       "      <th>782</th>\n",
       "      <th>783</th>\n",
       "      <th>784</th>\n",
       "    </tr>\n",
       "  </thead>\n",
       "  <tbody>\n",
       "    <tr>\n",
       "      <th>1</th>\n",
       "      <td>0</td>\n",
       "      <td>0</td>\n",
       "      <td>0</td>\n",
       "      <td>0</td>\n",
       "      <td>0</td>\n",
       "      <td>0</td>\n",
       "      <td>0</td>\n",
       "      <td>0</td>\n",
       "      <td>0</td>\n",
       "      <td>0</td>\n",
       "      <td>...</td>\n",
       "      <td>0</td>\n",
       "      <td>0</td>\n",
       "      <td>0</td>\n",
       "      <td>0</td>\n",
       "      <td>0</td>\n",
       "      <td>0</td>\n",
       "      <td>0</td>\n",
       "      <td>0</td>\n",
       "      <td>0</td>\n",
       "      <td>0</td>\n",
       "    </tr>\n",
       "    <tr>\n",
       "      <th>2</th>\n",
       "      <td>4</td>\n",
       "      <td>0</td>\n",
       "      <td>0</td>\n",
       "      <td>0</td>\n",
       "      <td>0</td>\n",
       "      <td>0</td>\n",
       "      <td>0</td>\n",
       "      <td>0</td>\n",
       "      <td>0</td>\n",
       "      <td>0</td>\n",
       "      <td>...</td>\n",
       "      <td>0</td>\n",
       "      <td>0</td>\n",
       "      <td>0</td>\n",
       "      <td>0</td>\n",
       "      <td>0</td>\n",
       "      <td>0</td>\n",
       "      <td>0</td>\n",
       "      <td>0</td>\n",
       "      <td>0</td>\n",
       "      <td>0</td>\n",
       "    </tr>\n",
       "    <tr>\n",
       "      <th>3</th>\n",
       "      <td>1</td>\n",
       "      <td>0</td>\n",
       "      <td>0</td>\n",
       "      <td>0</td>\n",
       "      <td>0</td>\n",
       "      <td>0</td>\n",
       "      <td>0</td>\n",
       "      <td>0</td>\n",
       "      <td>0</td>\n",
       "      <td>0</td>\n",
       "      <td>...</td>\n",
       "      <td>0</td>\n",
       "      <td>0</td>\n",
       "      <td>0</td>\n",
       "      <td>0</td>\n",
       "      <td>0</td>\n",
       "      <td>0</td>\n",
       "      <td>0</td>\n",
       "      <td>0</td>\n",
       "      <td>0</td>\n",
       "      <td>0</td>\n",
       "    </tr>\n",
       "    <tr>\n",
       "      <th>4</th>\n",
       "      <td>9</td>\n",
       "      <td>0</td>\n",
       "      <td>0</td>\n",
       "      <td>0</td>\n",
       "      <td>0</td>\n",
       "      <td>0</td>\n",
       "      <td>0</td>\n",
       "      <td>0</td>\n",
       "      <td>0</td>\n",
       "      <td>0</td>\n",
       "      <td>...</td>\n",
       "      <td>0</td>\n",
       "      <td>0</td>\n",
       "      <td>0</td>\n",
       "      <td>0</td>\n",
       "      <td>0</td>\n",
       "      <td>0</td>\n",
       "      <td>0</td>\n",
       "      <td>0</td>\n",
       "      <td>0</td>\n",
       "      <td>0</td>\n",
       "    </tr>\n",
       "    <tr>\n",
       "      <th>5</th>\n",
       "      <td>2</td>\n",
       "      <td>0</td>\n",
       "      <td>0</td>\n",
       "      <td>0</td>\n",
       "      <td>0</td>\n",
       "      <td>0</td>\n",
       "      <td>0</td>\n",
       "      <td>0</td>\n",
       "      <td>0</td>\n",
       "      <td>0</td>\n",
       "      <td>...</td>\n",
       "      <td>0</td>\n",
       "      <td>0</td>\n",
       "      <td>0</td>\n",
       "      <td>0</td>\n",
       "      <td>0</td>\n",
       "      <td>0</td>\n",
       "      <td>0</td>\n",
       "      <td>0</td>\n",
       "      <td>0</td>\n",
       "      <td>0</td>\n",
       "    </tr>\n",
       "    <tr>\n",
       "      <th>...</th>\n",
       "      <td>...</td>\n",
       "      <td>...</td>\n",
       "      <td>...</td>\n",
       "      <td>...</td>\n",
       "      <td>...</td>\n",
       "      <td>...</td>\n",
       "      <td>...</td>\n",
       "      <td>...</td>\n",
       "      <td>...</td>\n",
       "      <td>...</td>\n",
       "      <td>...</td>\n",
       "      <td>...</td>\n",
       "      <td>...</td>\n",
       "      <td>...</td>\n",
       "      <td>...</td>\n",
       "      <td>...</td>\n",
       "      <td>...</td>\n",
       "      <td>...</td>\n",
       "      <td>...</td>\n",
       "      <td>...</td>\n",
       "      <td>...</td>\n",
       "    </tr>\n",
       "    <tr>\n",
       "      <th>19996</th>\n",
       "      <td>5</td>\n",
       "      <td>0</td>\n",
       "      <td>0</td>\n",
       "      <td>0</td>\n",
       "      <td>0</td>\n",
       "      <td>0</td>\n",
       "      <td>0</td>\n",
       "      <td>0</td>\n",
       "      <td>0</td>\n",
       "      <td>0</td>\n",
       "      <td>...</td>\n",
       "      <td>0</td>\n",
       "      <td>0</td>\n",
       "      <td>0</td>\n",
       "      <td>0</td>\n",
       "      <td>0</td>\n",
       "      <td>0</td>\n",
       "      <td>0</td>\n",
       "      <td>0</td>\n",
       "      <td>0</td>\n",
       "      <td>0</td>\n",
       "    </tr>\n",
       "    <tr>\n",
       "      <th>19997</th>\n",
       "      <td>1</td>\n",
       "      <td>0</td>\n",
       "      <td>0</td>\n",
       "      <td>0</td>\n",
       "      <td>0</td>\n",
       "      <td>0</td>\n",
       "      <td>0</td>\n",
       "      <td>0</td>\n",
       "      <td>0</td>\n",
       "      <td>0</td>\n",
       "      <td>...</td>\n",
       "      <td>0</td>\n",
       "      <td>0</td>\n",
       "      <td>0</td>\n",
       "      <td>0</td>\n",
       "      <td>0</td>\n",
       "      <td>0</td>\n",
       "      <td>0</td>\n",
       "      <td>0</td>\n",
       "      <td>0</td>\n",
       "      <td>0</td>\n",
       "    </tr>\n",
       "    <tr>\n",
       "      <th>19998</th>\n",
       "      <td>4</td>\n",
       "      <td>0</td>\n",
       "      <td>0</td>\n",
       "      <td>0</td>\n",
       "      <td>0</td>\n",
       "      <td>0</td>\n",
       "      <td>0</td>\n",
       "      <td>0</td>\n",
       "      <td>0</td>\n",
       "      <td>0</td>\n",
       "      <td>...</td>\n",
       "      <td>0</td>\n",
       "      <td>0</td>\n",
       "      <td>0</td>\n",
       "      <td>0</td>\n",
       "      <td>0</td>\n",
       "      <td>0</td>\n",
       "      <td>0</td>\n",
       "      <td>0</td>\n",
       "      <td>0</td>\n",
       "      <td>0</td>\n",
       "    </tr>\n",
       "    <tr>\n",
       "      <th>19999</th>\n",
       "      <td>2</td>\n",
       "      <td>0</td>\n",
       "      <td>0</td>\n",
       "      <td>0</td>\n",
       "      <td>0</td>\n",
       "      <td>0</td>\n",
       "      <td>0</td>\n",
       "      <td>0</td>\n",
       "      <td>0</td>\n",
       "      <td>0</td>\n",
       "      <td>...</td>\n",
       "      <td>0</td>\n",
       "      <td>0</td>\n",
       "      <td>0</td>\n",
       "      <td>0</td>\n",
       "      <td>0</td>\n",
       "      <td>0</td>\n",
       "      <td>0</td>\n",
       "      <td>0</td>\n",
       "      <td>0</td>\n",
       "      <td>0</td>\n",
       "    </tr>\n",
       "    <tr>\n",
       "      <th>20000</th>\n",
       "      <td>5</td>\n",
       "      <td>0</td>\n",
       "      <td>0</td>\n",
       "      <td>0</td>\n",
       "      <td>0</td>\n",
       "      <td>0</td>\n",
       "      <td>0</td>\n",
       "      <td>0</td>\n",
       "      <td>0</td>\n",
       "      <td>0</td>\n",
       "      <td>...</td>\n",
       "      <td>0</td>\n",
       "      <td>0</td>\n",
       "      <td>0</td>\n",
       "      <td>0</td>\n",
       "      <td>0</td>\n",
       "      <td>0</td>\n",
       "      <td>0</td>\n",
       "      <td>0</td>\n",
       "      <td>0</td>\n",
       "      <td>0</td>\n",
       "    </tr>\n",
       "  </tbody>\n",
       "</table>\n",
       "<p>20000 rows × 785 columns</p>\n",
       "</div>"
      ],
      "text/plain": [
       "       0    1    2    3    4    5    6    7    8    9    ...  775  776  777  \\\n",
       "1        0    0    0    0    0    0    0    0    0    0  ...    0    0    0   \n",
       "2        4    0    0    0    0    0    0    0    0    0  ...    0    0    0   \n",
       "3        1    0    0    0    0    0    0    0    0    0  ...    0    0    0   \n",
       "4        9    0    0    0    0    0    0    0    0    0  ...    0    0    0   \n",
       "5        2    0    0    0    0    0    0    0    0    0  ...    0    0    0   \n",
       "...    ...  ...  ...  ...  ...  ...  ...  ...  ...  ...  ...  ...  ...  ...   \n",
       "19996    5    0    0    0    0    0    0    0    0    0  ...    0    0    0   \n",
       "19997    1    0    0    0    0    0    0    0    0    0  ...    0    0    0   \n",
       "19998    4    0    0    0    0    0    0    0    0    0  ...    0    0    0   \n",
       "19999    2    0    0    0    0    0    0    0    0    0  ...    0    0    0   \n",
       "20000    5    0    0    0    0    0    0    0    0    0  ...    0    0    0   \n",
       "\n",
       "       778  779  780  781  782  783  784  \n",
       "1        0    0    0    0    0    0    0  \n",
       "2        0    0    0    0    0    0    0  \n",
       "3        0    0    0    0    0    0    0  \n",
       "4        0    0    0    0    0    0    0  \n",
       "5        0    0    0    0    0    0    0  \n",
       "...    ...  ...  ...  ...  ...  ...  ...  \n",
       "19996    0    0    0    0    0    0    0  \n",
       "19997    0    0    0    0    0    0    0  \n",
       "19998    0    0    0    0    0    0    0  \n",
       "19999    0    0    0    0    0    0    0  \n",
       "20000    0    0    0    0    0    0    0  \n",
       "\n",
       "[20000 rows x 785 columns]"
      ]
     },
     "execution_count": 20,
     "metadata": {},
     "output_type": "execute_result"
    }
   ],
   "source": [
    "train[1:]"
   ]
  },
  {
   "cell_type": "code",
   "execution_count": 21,
   "metadata": {},
   "outputs": [
    {
     "name": "stdout",
     "output_type": "stream",
     "text": [
      "   0\n",
      "0  5\n",
      "1  0\n",
      "2  4\n",
      "3  1\n",
      "4  9\n",
      "   1    2    3    4    5    6    7    8    9    10   ...  775  776  777  778  \\\n",
      "0  0.0  0.0  0.0  0.0  0.0  0.0  0.0  0.0  0.0  0.0  ...  0.0  0.0  0.0  0.0   \n",
      "1  0.0  0.0  0.0  0.0  0.0  0.0  0.0  0.0  0.0  0.0  ...  0.0  0.0  0.0  0.0   \n",
      "2  0.0  0.0  0.0  0.0  0.0  0.0  0.0  0.0  0.0  0.0  ...  0.0  0.0  0.0  0.0   \n",
      "3  0.0  0.0  0.0  0.0  0.0  0.0  0.0  0.0  0.0  0.0  ...  0.0  0.0  0.0  0.0   \n",
      "4  0.0  0.0  0.0  0.0  0.0  0.0  0.0  0.0  0.0  0.0  ...  0.0  0.0  0.0  0.0   \n",
      "\n",
      "   779  780  781  782  783  784  \n",
      "0  0.0  0.0  0.0  0.0  0.0  0.0  \n",
      "1  0.0  0.0  0.0  0.0  0.0  0.0  \n",
      "2  0.0  0.0  0.0  0.0  0.0  0.0  \n",
      "3  0.0  0.0  0.0  0.0  0.0  0.0  \n",
      "4  0.0  0.0  0.0  0.0  0.0  0.0  \n",
      "\n",
      "[5 rows x 784 columns]\n",
      "******************************\n",
      "   0\n",
      "0  7\n",
      "1  2\n",
      "2  1\n",
      "3  0\n",
      "4  4\n",
      "   1    2    3    4    5    6    7    8    9    10   ...  775  776  777  778  \\\n",
      "0  0.0  0.0  0.0  0.0  0.0  0.0  0.0  0.0  0.0  0.0  ...  0.0  0.0  0.0  0.0   \n",
      "1  0.0  0.0  0.0  0.0  0.0  0.0  0.0  0.0  0.0  0.0  ...  0.0  0.0  0.0  0.0   \n",
      "2  0.0  0.0  0.0  0.0  0.0  0.0  0.0  0.0  0.0  0.0  ...  0.0  0.0  0.0  0.0   \n",
      "3  0.0  0.0  0.0  0.0  0.0  0.0  0.0  0.0  0.0  0.0  ...  0.0  0.0  0.0  0.0   \n",
      "4  0.0  0.0  0.0  0.0  0.0  0.0  0.0  0.0  0.0  0.0  ...  0.0  0.0  0.0  0.0   \n",
      "\n",
      "   779  780  781  782  783  784  \n",
      "0  0.0  0.0  0.0  0.0  0.0  0.0  \n",
      "1  0.0  0.0  0.0  0.0  0.0  0.0  \n",
      "2  0.0  0.0  0.0  0.0  0.0  0.0  \n",
      "3  0.0  0.0  0.0  0.0  0.0  0.0  \n",
      "4  0.0  0.0  0.0  0.0  0.0  0.0  \n",
      "\n",
      "[5 rows x 784 columns]\n"
     ]
    }
   ],
   "source": [
    "# train과 test를 Feature와 Target으로 분리하고 정규화하기\n",
    "train_label = train.loc[:, train.columns == 0]\n",
    "train_data = train.loc[:, train.columns != 0]\n",
    "train_data = train_data /255\n",
    "\n",
    "test_label = test.loc[:, test.columns == 0]\n",
    "test_data = test.loc[:, test.columns != 0]\n",
    "test_data = test_data /255\n",
    "\n",
    "print(train_label[0:5])\n",
    "print(train_data[0:5])\n",
    "print(\"*\"*30)\n",
    "print(test_label[0:5])\n",
    "print(test_data[0:5])"
   ]
  },
  {
   "cell_type": "markdown",
   "metadata": {},
   "source": [
    "### Deep Learning Model 만들기"
   ]
  },
  {
   "cell_type": "code",
   "execution_count": 40,
   "metadata": {},
   "outputs": [],
   "source": [
    "# GPU 상ㅇ 설정\n",
    "import os\n",
    "os.environ['TF_CPP_MIN_LOG_LEVEL'] = '3'"
   ]
  },
  {
   "cell_type": "code",
   "execution_count": 41,
   "metadata": {},
   "outputs": [],
   "source": [
    "from tensorflow import keras"
   ]
  },
  {
   "cell_type": "code",
   "execution_count": 42,
   "metadata": {},
   "outputs": [],
   "source": [
    "# 입력층 784 은닉층 512 출력층 10(노드의 갯수) softmax , optimizer : adam\n",
    "\n",
    "model = keras.Sequential()\n",
    "model.add(keras.layers.Dense(512, activation ='relu', input_shape = (784,)))\n",
    "model.add(keras.layers.Dense(10, activation= 'softmax'))"
   ]
  },
  {
   "cell_type": "code",
   "execution_count": 78,
   "metadata": {},
   "outputs": [],
   "source": [
    "from pickletools import optimize\n",
    "from sklearn import metrics\n",
    "\n",
    "from sklearn.metrics import log_loss\n",
    "\n",
    "model.compile(\n",
    "    optimizer = 'adam',\n",
    "    loss = 'sparse_categorical_crossentropy',\n",
    "    metrics=['accuracy']\n",
    ")"
   ]
  },
  {
   "cell_type": "code",
   "execution_count": 79,
   "metadata": {},
   "outputs": [
    {
     "name": "stdout",
     "output_type": "stream",
     "text": [
      "Epoch 1/50\n",
      "626/626 [==============================] - 3s 4ms/step - loss: 0.3138 - accuracy: 0.9076\n",
      "Epoch 2/50\n",
      "626/626 [==============================] - 2s 3ms/step - loss: 0.1284 - accuracy: 0.9634\n",
      "Epoch 3/50\n",
      "626/626 [==============================] - 2s 4ms/step - loss: 0.0792 - accuracy: 0.9759\n",
      "Epoch 4/50\n",
      "626/626 [==============================] - 2s 4ms/step - loss: 0.0643 - accuracy: 0.9806\n",
      "Epoch 5/50\n",
      "626/626 [==============================] - 2s 3ms/step - loss: 0.0337 - accuracy: 0.9905\n",
      "Epoch 6/50\n",
      "626/626 [==============================] - 2s 3ms/step - loss: 0.0213 - accuracy: 0.9944\n",
      "Epoch 7/50\n",
      "626/626 [==============================] - 2s 3ms/step - loss: 0.0175 - accuracy: 0.9955\n",
      "Epoch 8/50\n",
      "626/626 [==============================] - 2s 3ms/step - loss: 0.0141 - accuracy: 0.9963\n",
      "Epoch 9/50\n",
      "626/626 [==============================] - 2s 4ms/step - loss: 0.0101 - accuracy: 0.9973\n",
      "Epoch 10/50\n",
      "626/626 [==============================] - 2s 4ms/step - loss: 0.0143 - accuracy: 0.9958\n",
      "Epoch 11/50\n",
      "626/626 [==============================] - 2s 3ms/step - loss: 0.0051 - accuracy: 0.9988\n",
      "Epoch 12/50\n",
      "626/626 [==============================] - 2s 4ms/step - loss: 0.0032 - accuracy: 0.9993\n",
      "Epoch 13/50\n",
      "626/626 [==============================] - 2s 3ms/step - loss: 0.0176 - accuracy: 0.9940\n",
      "Epoch 14/50\n",
      "626/626 [==============================] - 2s 3ms/step - loss: 0.0147 - accuracy: 0.9957\n",
      "Epoch 15/50\n",
      "626/626 [==============================] - 2s 4ms/step - loss: 0.0012 - accuracy: 0.9999\n",
      "Epoch 16/50\n",
      "626/626 [==============================] - 2s 4ms/step - loss: 3.8338e-04 - accuracy: 1.0000\n",
      "Epoch 17/50\n",
      "626/626 [==============================] - 2s 4ms/step - loss: 2.4311e-04 - accuracy: 1.0000\n",
      "Epoch 18/50\n",
      "626/626 [==============================] - 2s 3ms/step - loss: 1.8816e-04 - accuracy: 1.0000\n",
      "Epoch 19/50\n",
      "626/626 [==============================] - 2s 4ms/step - loss: 1.4242e-04 - accuracy: 1.0000\n",
      "Epoch 20/50\n",
      "626/626 [==============================] - 2s 3ms/step - loss: 1.1664e-04 - accuracy: 1.0000\n",
      "Epoch 21/50\n",
      "626/626 [==============================] - 2s 3ms/step - loss: 9.3789e-05 - accuracy: 1.0000\n",
      "Epoch 22/50\n",
      "626/626 [==============================] - 2s 4ms/step - loss: 7.4704e-05 - accuracy: 1.0000\n",
      "Epoch 23/50\n",
      "626/626 [==============================] - 2s 3ms/step - loss: 5.9843e-05 - accuracy: 1.0000\n",
      "Epoch 24/50\n",
      "626/626 [==============================] - 2s 3ms/step - loss: 5.1912e-05 - accuracy: 1.0000\n",
      "Epoch 25/50\n",
      "626/626 [==============================] - 2s 3ms/step - loss: 0.0456 - accuracy: 0.9880\n",
      "Epoch 26/50\n",
      "626/626 [==============================] - 2s 3ms/step - loss: 0.0028 - accuracy: 0.9992\n",
      "Epoch 27/50\n",
      "626/626 [==============================] - 2s 3ms/step - loss: 8.5250e-04 - accuracy: 0.9998\n",
      "Epoch 28/50\n",
      "626/626 [==============================] - 2s 4ms/step - loss: 0.0099 - accuracy: 0.9966\n",
      "Epoch 29/50\n",
      "626/626 [==============================] - 2s 4ms/step - loss: 0.0054 - accuracy: 0.9984\n",
      "Epoch 30/50\n",
      "626/626 [==============================] - 2s 3ms/step - loss: 0.0046 - accuracy: 0.9987\n",
      "Epoch 31/50\n",
      "626/626 [==============================] - 2s 3ms/step - loss: 0.0052 - accuracy: 0.9980\n",
      "Epoch 32/50\n",
      "626/626 [==============================] - 2s 4ms/step - loss: 0.0067 - accuracy: 0.9978\n",
      "Epoch 33/50\n",
      "626/626 [==============================] - 2s 3ms/step - loss: 0.0051 - accuracy: 0.9983\n",
      "Epoch 34/50\n",
      "626/626 [==============================] - 2s 4ms/step - loss: 8.2295e-04 - accuracy: 0.9998\n",
      "Epoch 35/50\n",
      "626/626 [==============================] - 2s 4ms/step - loss: 7.0086e-05 - accuracy: 1.0000\n",
      "Epoch 36/50\n",
      "626/626 [==============================] - 2s 4ms/step - loss: 4.8400e-05 - accuracy: 1.0000\n",
      "Epoch 37/50\n",
      "626/626 [==============================] - 2s 4ms/step - loss: 3.8341e-05 - accuracy: 1.0000\n",
      "Epoch 38/50\n",
      "626/626 [==============================] - 2s 4ms/step - loss: 3.0845e-05 - accuracy: 1.0000\n",
      "Epoch 39/50\n",
      "626/626 [==============================] - 2s 4ms/step - loss: 2.5190e-05 - accuracy: 1.0000\n",
      "Epoch 40/50\n",
      "626/626 [==============================] - 2s 3ms/step - loss: 2.0300e-05 - accuracy: 1.0000\n",
      "Epoch 41/50\n",
      "626/626 [==============================] - 3s 4ms/step - loss: 1.6464e-05 - accuracy: 1.0000\n",
      "Epoch 42/50\n",
      "626/626 [==============================] - 2s 4ms/step - loss: 1.3417e-05 - accuracy: 1.0000\n",
      "Epoch 43/50\n",
      "626/626 [==============================] - 2s 4ms/step - loss: 1.0760e-05 - accuracy: 1.0000\n",
      "Epoch 44/50\n",
      "626/626 [==============================] - 2s 3ms/step - loss: 8.6895e-06 - accuracy: 1.0000\n",
      "Epoch 45/50\n",
      "626/626 [==============================] - 2s 3ms/step - loss: 6.8926e-06 - accuracy: 1.0000\n",
      "Epoch 46/50\n",
      "626/626 [==============================] - 2s 4ms/step - loss: 5.5663e-06 - accuracy: 1.0000\n",
      "Epoch 47/50\n",
      "626/626 [==============================] - 2s 4ms/step - loss: 4.2856e-06 - accuracy: 1.0000\n",
      "Epoch 48/50\n",
      "626/626 [==============================] - 2s 4ms/step - loss: 3.3939e-06 - accuracy: 1.0000\n",
      "Epoch 49/50\n",
      "626/626 [==============================] - 3s 4ms/step - loss: 2.6795e-06 - accuracy: 1.0000\n",
      "Epoch 50/50\n",
      "626/626 [==============================] - 3s 4ms/step - loss: 2.0966e-06 - accuracy: 1.0000\n"
     ]
    },
    {
     "data": {
      "text/plain": [
       "<keras.callbacks.History at 0x7f9ad1b54eb0>"
      ]
     },
     "execution_count": 79,
     "metadata": {},
     "output_type": "execute_result"
    }
   ],
   "source": [
    "# 데이터 훈련하기\n",
    "import numpy as np\n",
    "\n",
    "model.fit(\n",
    "    train_data, train_label, epochs=50\n",
    ")"
   ]
  },
  {
   "cell_type": "markdown",
   "metadata": {},
   "source": [
    "---\n",
    "### 테스트 데이터로 평가하기"
   ]
  },
  {
   "cell_type": "code",
   "execution_count": 80,
   "metadata": {},
   "outputs": [
    {
     "name": "stdout",
     "output_type": "stream",
     "text": [
      "32/32 [==============================] - 0s 2ms/step - loss: 0.1287 - accuracy: 0.9800\n",
      "loss : 0.12870648503303528\n",
      "accuracy : 0.9800199866294861\n"
     ]
    }
   ],
   "source": [
    "score = model.evaluate(test_data, test_label)\n",
    "print(\"loss :\", score[0])\n",
    "print(\"accuracy :\", score[1])"
   ]
  },
  {
   "cell_type": "markdown",
   "metadata": {},
   "source": [
    "---\n",
    "### test_data로 predict해보기"
   ]
  },
  {
   "cell_type": "code",
   "execution_count": 81,
   "metadata": {},
   "outputs": [
    {
     "name": "stdout",
     "output_type": "stream",
     "text": [
      "32/32 [==============================] - 0s 2ms/step\n",
      "test label :    0\n",
      "0  7\n",
      "1  2\n",
      "2  1\n",
      "3  0\n",
      "4  4\n",
      "5  1\n",
      "6  4\n",
      "7  9\n",
      "8  5\n",
      "9  9\n",
      "pred : [7 2 1 0 4 1 4 9 6 9]\n"
     ]
    }
   ],
   "source": [
    "pred = model.predict(test_data)\n",
    "print(\"test label :\", test_label[:10])\n",
    "print(\"pred :\",np.argmax(pred[:10], axis = 1))"
   ]
  },
  {
   "cell_type": "code",
   "execution_count": 82,
   "metadata": {},
   "outputs": [
    {
     "data": {
      "text/plain": [
       "array([[3.72311140e-23, 3.71156847e-23, 1.06678200e-17, 3.50485808e-12,\n",
       "        3.24455775e-30, 5.77985172e-25, 1.80004973e-30, 1.00000000e+00,\n",
       "        9.36358841e-21, 6.56851200e-20],\n",
       "       [8.42166644e-19, 2.93216162e-13, 1.00000000e+00, 1.94765887e-11,\n",
       "        2.98405955e-30, 8.87339701e-19, 3.78407962e-23, 7.90530529e-25,\n",
       "        7.93697086e-18, 2.83378985e-29],\n",
       "       [3.63433970e-15, 9.99999285e-01, 7.22802554e-07, 1.34567201e-11,\n",
       "        2.05000059e-10, 5.41812636e-11, 7.18786272e-12, 2.10460609e-08,\n",
       "        8.25617852e-10, 1.29526065e-15],\n",
       "       [1.00000000e+00, 8.49692967e-24, 2.08713897e-11, 2.16449708e-19,\n",
       "        2.67033082e-19, 3.00750504e-18, 2.28024565e-12, 5.24614515e-15,\n",
       "        1.04390106e-23, 4.73026735e-15],\n",
       "       [3.64552806e-18, 7.22400194e-23, 1.97273105e-18, 1.08466384e-19,\n",
       "        1.00000000e+00, 1.30904318e-19, 2.01051310e-17, 3.48018699e-14,\n",
       "        1.20410748e-13, 3.87013666e-09],\n",
       "       [8.89650714e-20, 1.00000000e+00, 2.60958182e-12, 1.79250637e-14,\n",
       "        1.79722578e-12, 3.32353725e-17, 5.04159914e-19, 1.39317411e-08,\n",
       "        2.21292765e-13, 1.09127984e-18],\n",
       "       [5.19766738e-27, 4.01748931e-19, 1.04005835e-21, 2.90843941e-20,\n",
       "        9.99999881e-01, 2.58702232e-16, 1.66046375e-19, 6.32619982e-15,\n",
       "        8.74990036e-08, 1.19745658e-09],\n",
       "       [1.27448052e-22, 7.84009604e-20, 9.43374545e-11, 6.33061048e-10,\n",
       "        1.40983502e-07, 4.22676164e-16, 3.02384572e-22, 1.51555824e-13,\n",
       "        1.88272429e-17, 9.99999881e-01],\n",
       "       [5.12695694e-14, 1.04473069e-17, 7.42130246e-11, 4.08094291e-15,\n",
       "        1.92011268e-11, 1.77969858e-01, 8.22030127e-01, 1.27340477e-21,\n",
       "        4.34818986e-10, 5.72260838e-15],\n",
       "       [2.17037976e-23, 3.91461343e-28, 8.29304542e-23, 5.97815864e-15,\n",
       "        6.51844856e-10, 3.46607967e-20, 1.65110623e-23, 6.17330758e-14,\n",
       "        1.89496032e-12, 1.00000000e+00]], dtype=float32)"
      ]
     },
     "execution_count": 82,
     "metadata": {},
     "output_type": "execute_result"
    }
   ],
   "source": [
    "pred[:10]"
   ]
  },
  {
   "cell_type": "markdown",
   "metadata": {},
   "source": [
    "---\n",
    "### 번외\n",
    ": Image 만들기"
   ]
  },
  {
   "cell_type": "code",
   "execution_count": 83,
   "metadata": {},
   "outputs": [],
   "source": [
    "from PIL import Image"
   ]
  },
  {
   "cell_type": "code",
   "execution_count": 84,
   "metadata": {},
   "outputs": [
    {
     "data": {
      "text/plain": [
       "(20001, 784)"
      ]
     },
     "execution_count": 84,
     "metadata": {},
     "output_type": "execute_result"
    }
   ],
   "source": [
    "# 0번의 정답을 제외한 데이터 만들기\n",
    "train1 = train.loc[:, train.columns != 0]\n",
    "train1.shape"
   ]
  },
  {
   "cell_type": "code",
   "execution_count": 85,
   "metadata": {},
   "outputs": [
    {
     "data": {
      "text/plain": [
       "(28, 28)"
      ]
     },
     "execution_count": 85,
     "metadata": {},
     "output_type": "execute_result"
    }
   ],
   "source": [
    "# train_data의 50번의 크기 조절하기\n",
    "abc = np.array(train1.iloc[50]).reshape(28, 28)\n",
    "abc.shape"
   ]
  },
  {
   "cell_type": "code",
   "execution_count": 86,
   "metadata": {},
   "outputs": [
    {
     "data": {
      "image/png": "[encoded data removed]",
      "text/plain": [
       "<PIL.Image.Image image mode=L size=28x28 at 0x7F9A931436D0>"
      ]
     },
     "execution_count": 86,
     "metadata": {},
     "output_type": "execute_result"
    }
   ],
   "source": [
    "# Image 만들기\n",
    "image = Image.fromarray((abc).astype(np.uint8))\n",
    "image"
   ]
  },
  {
   "cell_type": "code",
   "execution_count": 87,
   "metadata": {},
   "outputs": [],
   "source": [
    "# image 저장하기\n",
    "image.save(\"../Data/mnist_test3.jpg\",\"JPEG\")"
   ]
  },
  {
   "cell_type": "markdown",
   "metadata": {},
   "source": [
    "---\n",
    "## 이미지 불러서 Predict 해보기"
   ]
  },
  {
   "cell_type": "code",
   "execution_count": 88,
   "metadata": {},
   "outputs": [
    {
     "data": {
      "image/png": "[encoded data removed]",
      "text/plain": [
       "<PIL.JpegImagePlugin.JpegImageFile image mode=L size=28x28 at 0x7F9A93143EE0>"
      ]
     },
     "execution_count": 88,
     "metadata": {},
     "output_type": "execute_result"
    }
   ],
   "source": [
    "# Image 불러오기\n",
    "img = Image.open(\"../Data/mnist_test3.jpg\")\n",
    "img"
   ]
  },
  {
   "cell_type": "code",
   "execution_count": 89,
   "metadata": {},
   "outputs": [
    {
     "data": {
      "image/png": "[encoded data removed]",
      "text/plain": [
       "<Figure size 432x288 with 1 Axes>"
      ]
     },
     "metadata": {
      "needs_background": "light"
     },
     "output_type": "display_data"
    }
   ],
   "source": [
    "import matplotlib.pyplot as plt\n",
    "\n",
    "plt.imshow(img)\n",
    "plt.show()"
   ]
  },
  {
   "cell_type": "code",
   "execution_count": 90,
   "metadata": {},
   "outputs": [
    {
     "data": {
      "text/plain": [
       "(28, 28)"
      ]
     },
     "execution_count": 90,
     "metadata": {},
     "output_type": "execute_result"
    }
   ],
   "source": [
    "# image를 numpy 배열로 변환\n",
    "imgArray = np.array(img)\n",
    "imgArray = imgArray / 255\n",
    "imgArray.shape"
   ]
  },
  {
   "cell_type": "code",
   "execution_count": 91,
   "metadata": {},
   "outputs": [
    {
     "data": {
      "text/plain": [
       "(784,)"
      ]
     },
     "execution_count": 91,
     "metadata": {},
     "output_type": "execute_result"
    }
   ],
   "source": [
    "# image를 1차원 배열로 변환\n",
    "    # 계산하기 싫으면 -1 , 원래는 reshape(784)\n",
    "imgArray2 = imgArray.reshape(-1)\n",
    "imgArray2.shape"
   ]
  },
  {
   "cell_type": "code",
   "execution_count": 92,
   "metadata": {},
   "outputs": [],
   "source": [
    "# tolist() : numpy 배열이 python 배열로 바뀜\n",
    "imgArray3 = imgArray2.tolist()"
   ]
  },
  {
   "cell_type": "code",
   "execution_count": 93,
   "metadata": {},
   "outputs": [],
   "source": [
    "dfArray = pd.DataFrame(imgArray3)\n",
    "dfArray = dfArray.T"
   ]
  },
  {
   "cell_type": "code",
   "execution_count": 94,
   "metadata": {},
   "outputs": [
    {
     "data": {
      "text/html": [
       "<div>\n",
       "<style scoped>\n",
       "    .dataframe tbody tr th:only-of-type {\n",
       "        vertical-align: middle;\n",
       "    }\n",
       "\n",
       "    .dataframe tbody tr th {\n",
       "        vertical-align: top;\n",
       "    }\n",
       "\n",
       "    .dataframe thead th {\n",
       "        text-align: right;\n",
       "    }\n",
       "</style>\n",
       "<table border=\"1\" class=\"dataframe\">\n",
       "  <thead>\n",
       "    <tr style=\"text-align: right;\">\n",
       "      <th></th>\n",
       "      <th>0</th>\n",
       "      <th>1</th>\n",
       "      <th>2</th>\n",
       "      <th>3</th>\n",
       "      <th>4</th>\n",
       "      <th>5</th>\n",
       "      <th>6</th>\n",
       "      <th>7</th>\n",
       "      <th>8</th>\n",
       "      <th>9</th>\n",
       "      <th>...</th>\n",
       "      <th>774</th>\n",
       "      <th>775</th>\n",
       "      <th>776</th>\n",
       "      <th>777</th>\n",
       "      <th>778</th>\n",
       "      <th>779</th>\n",
       "      <th>780</th>\n",
       "      <th>781</th>\n",
       "      <th>782</th>\n",
       "      <th>783</th>\n",
       "    </tr>\n",
       "  </thead>\n",
       "  <tbody>\n",
       "    <tr>\n",
       "      <th>0</th>\n",
       "      <td>0.0</td>\n",
       "      <td>0.0</td>\n",
       "      <td>0.0</td>\n",
       "      <td>0.0</td>\n",
       "      <td>0.0</td>\n",
       "      <td>0.0</td>\n",
       "      <td>0.0</td>\n",
       "      <td>0.0</td>\n",
       "      <td>0.011765</td>\n",
       "      <td>0.0</td>\n",
       "      <td>...</td>\n",
       "      <td>0.0</td>\n",
       "      <td>0.0</td>\n",
       "      <td>0.0</td>\n",
       "      <td>0.0</td>\n",
       "      <td>0.0</td>\n",
       "      <td>0.0</td>\n",
       "      <td>0.0</td>\n",
       "      <td>0.0</td>\n",
       "      <td>0.0</td>\n",
       "      <td>0.0</td>\n",
       "    </tr>\n",
       "  </tbody>\n",
       "</table>\n",
       "<p>1 rows × 784 columns</p>\n",
       "</div>"
      ],
      "text/plain": [
       "   0    1    2    3    4    5    6    7         8    9    ...  774  775  776  \\\n",
       "0  0.0  0.0  0.0  0.0  0.0  0.0  0.0  0.0  0.011765  0.0  ...  0.0  0.0  0.0   \n",
       "\n",
       "   777  778  779  780  781  782  783  \n",
       "0  0.0  0.0  0.0  0.0  0.0  0.0  0.0  \n",
       "\n",
       "[1 rows x 784 columns]"
      ]
     },
     "execution_count": 94,
     "metadata": {},
     "output_type": "execute_result"
    }
   ],
   "source": [
    "dfArray"
   ]
  },
  {
   "cell_type": "code",
   "execution_count": 95,
   "metadata": {},
   "outputs": [
    {
     "name": "stdout",
     "output_type": "stream",
     "text": [
      "1/1 [==============================] - 0s 22ms/step\n",
      "예측값 : [3]\n"
     ]
    }
   ],
   "source": [
    "print(\"예측값 :\", np.argmax(model.predict(dfArray), axis=1))"
   ]
  },
  {
   "cell_type": "code",
   "execution_count": 96,
   "metadata": {},
   "outputs": [
    {
     "name": "stdout",
     "output_type": "stream",
     "text": [
      "1/1 [==============================] - 0s 22ms/step\n"
     ]
    },
    {
     "data": {
      "text/plain": [
       "array([[5.3616798e-19, 3.1615440e-14, 1.5792051e-13, 1.0000000e+00,\n",
       "        8.0608096e-21, 1.3496643e-08, 1.2453069e-25, 1.6576587e-21,\n",
       "        4.1873630e-16, 6.7057776e-11]], dtype=float32)"
      ]
     },
     "execution_count": 96,
     "metadata": {},
     "output_type": "execute_result"
    }
   ],
   "source": [
    "model.predict(dfArray)"
   ]
  },
  {
   "cell_type": "code",
   "execution_count": null,
   "metadata": {},
   "outputs": [],
   "source": []
  }
 ],
 "metadata": {
  "kernelspec": {
   "display_name": "Python 3.9.7 ('base')",
   "language": "python",
   "name": "python3"
  },
  "language_info": {
   "codemirror_mode": {
    "name": "ipython",
    "version": 3
   },
   "file_extension": ".py",
   "mimetype": "text/x-python",
   "name": "python",
   "nbconvert_exporter": "python",
   "pygments_lexer": "ipython3",
   "version": "3.9.7"
  },
  "orig_nbformat": 4,
  "vscode": {
   "interpreter": {
    "hash": "c34e8390e776d2ee205b71ed5a6130fee3cef8da5e87e926ce18e14f4a070d72"
   }
  }
 },
 "nbformat": 4,
 "nbformat_minor": 2
}
