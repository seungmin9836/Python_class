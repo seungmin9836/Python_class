{
 "cells": [
  {
   "cell_type": "markdown",
   "metadata": {},
   "source": [
    "### 순차 데이터\n",
    "- 텍스트 데이터(ex: I am a boy) : 순서가 의미가 있다.\n",
    "- 시계열 데이터(ex: 1일 10도, 2일 8도)"
   ]
  },
  {
   "cell_type": "markdown",
   "metadata": {},
   "source": [
    "---\n",
    "### 순환 신경망(RNN: Recurrent Neural Network)"
   ]
  },
  {
   "cell_type": "markdown",
   "metadata": {},
   "source": [
    "<img src='../Data/순환신경망.png'>\n",
    "I am a boy ( 말뭉치[Token]는 i,am,a,boy)<br>\n",
    "이 문장들의 각각의 단어에 숫자(번호)가 매겨져 있어야된다."
   ]
  },
  {
   "cell_type": "markdown",
   "metadata": {},
   "source": [
    "> 입력층과 출력층(softmax) 중간에 숨어있는 셀 => Hidden Cell(히든셀)"
   ]
  },
  {
   "cell_type": "markdown",
   "metadata": {},
   "source": [
    "# *** 면접 질문중요 ***\n",
    "- IMDB(Internet Movie Data Base)\n",
    "- IMDB 구성 : Train Data(25000개 중 긍정-12500개, 부정-12500개), Test Data(25000개중 긍정-12500개, 부정-12500개)\n",
    "- NLP : Natural Language Processing(자연어 처리)\n",
    "- 말뭉치 : 하나의 데이터셋을 말뭉치라고 표현\n",
    "- 토큰 : 하나의 단어를 토큰이라고 표현\n",
    "- 어휘사전 : 번호로 구분된 유일한 단어들의 집단\n",
    "- 머신러닝이나 딥러닝에서 데이터가 숫자로 구성되어 있어야 함으로 이런 단어들을 고유한 번호로 할당하여 사용"
   ]
  },
  {
   "cell_type": "code",
   "execution_count": 1,
   "metadata": {},
   "outputs": [],
   "source": [
    "from tensorflow.keras.datasets import imdb\n",
    "# 500개 단어만 가져오기(25000개의 문장중에 500개 단어 가져오기)\n",
    "(train_input, train_target), (test_input, test_target) = imdb.load_data(num_words=500)"
   ]
  },
  {
   "cell_type": "code",
   "execution_count": 2,
   "metadata": {},
   "outputs": [
    {
     "name": "stdout",
     "output_type": "stream",
     "text": [
      "(25000,) (25000,)\n"
     ]
    }
   ],
   "source": [
    "print(train_input.shape, test_input.shape)"
   ]
  },
  {
   "cell_type": "code",
   "execution_count": 3,
   "metadata": {},
   "outputs": [
    {
     "data": {
      "text/plain": [
       "218"
      ]
     },
     "execution_count": 3,
     "metadata": {},
     "output_type": "execute_result"
    }
   ],
   "source": [
    "# train의  첫번째 문장의 Token갯수\n",
    "len(train_input[0])"
   ]
  },
  {
   "cell_type": "code",
   "execution_count": 4,
   "metadata": {},
   "outputs": [
    {
     "data": {
      "text/plain": [
       "189"
      ]
     },
     "execution_count": 4,
     "metadata": {},
     "output_type": "execute_result"
    }
   ],
   "source": [
    "len(train_input[1])"
   ]
  },
  {
   "cell_type": "code",
   "execution_count": 5,
   "metadata": {},
   "outputs": [
    {
     "name": "stdout",
     "output_type": "stream",
     "text": [
      "[1, 14, 22, 16, 43, 2, 2, 2, 2, 65, 458, 2, 66, 2, 4, 173, 36, 256, 5, 25, 100, 43, 2, 112, 50, 2, 2, 9, 35, 480, 284, 5, 150, 4, 172, 112, 167, 2, 336, 385, 39, 4, 172, 2, 2, 17, 2, 38, 13, 447, 4, 192, 50, 16, 6, 147, 2, 19, 14, 22, 4, 2, 2, 469, 4, 22, 71, 87, 12, 16, 43, 2, 38, 76, 15, 13, 2, 4, 22, 17, 2, 17, 12, 16, 2, 18, 2, 5, 62, 386, 12, 8, 316, 8, 106, 5, 4, 2, 2, 16, 480, 66, 2, 33, 4, 130, 12, 16, 38, 2, 5, 25, 124, 51, 36, 135, 48, 25, 2, 33, 6, 22, 12, 215, 28, 77, 52, 5, 14, 407, 16, 82, 2, 8, 4, 107, 117, 2, 15, 256, 4, 2, 7, 2, 5, 2, 36, 71, 43, 2, 476, 26, 400, 317, 46, 7, 4, 2, 2, 13, 104, 88, 4, 381, 15, 297, 98, 32, 2, 56, 26, 141, 6, 194, 2, 18, 4, 226, 22, 21, 134, 476, 26, 480, 5, 144, 30, 2, 18, 51, 36, 28, 224, 92, 25, 104, 4, 226, 65, 16, 38, 2, 88, 12, 16, 283, 5, 16, 2, 113, 103, 32, 15, 16, 2, 19, 178, 32]\n"
     ]
    }
   ],
   "source": [
    "# 첫번째 댓글의 출력\n",
    "print(train_input[0])"
   ]
  },
  {
   "cell_type": "markdown",
   "metadata": {},
   "source": [
    "# __________숫자 설명부분 ___________\n",
    "- 샘플의 시작부분 토큰은 1을 사용한다.\n",
    "- 2는 선정한 단어갯수에 포함되지 않은 단어를 표현한다.(500개가 넘는 단어들)\n",
    "- train_input 자체는 numpy 배열이나 댓글에 사용된 토큰수가 다르기 때문에 numpy 배열을 사용 못하고 Python list를 사용한다."
   ]
  },
  {
   "cell_type": "code",
   "execution_count": 6,
   "metadata": {},
   "outputs": [
    {
     "name": "stdout",
     "output_type": "stream",
     "text": [
      "[1 0 0 1 0 0 1 0 1 0]\n"
     ]
    }
   ],
   "source": [
    "# train의 target 출력\n",
    "print(train_target[:10])"
   ]
  },
  {
   "cell_type": "code",
   "execution_count": 7,
   "metadata": {},
   "outputs": [],
   "source": [
    "# 훈련세트 준비\n",
    "from sklearn.model_selection import train_test_split\n",
    "\n",
    "train_input, val_input, train_target, val_target = train_test_split(\n",
    "    train_input, train_target, test_size=0.2, random_state=42\n",
    ")"
   ]
  },
  {
   "cell_type": "code",
   "execution_count": 8,
   "metadata": {},
   "outputs": [
    {
     "name": "stdout",
     "output_type": "stream",
     "text": [
      "239.00925 178.0\n"
     ]
    }
   ],
   "source": [
    "# 각 리뷰마다 문장 길이를 시각화\n",
    "import numpy as np\n",
    "lengths = np.array([len(x) for x in train_input])\n",
    "print(np.mean(lengths), np.median(lengths))"
   ]
  },
  {
   "cell_type": "markdown",
   "metadata": {},
   "source": [
    "오른쪽 쏠림 그래프 모양이 있다.<br> 가장 좋은 그래프는 median값과 mean값이 비슷하면 좋다.\n",
    "<img src='../Data/리뷰문장 시각화.png' width=200 height=100>"
   ]
  },
  {
   "cell_type": "code",
   "execution_count": 9,
   "metadata": {},
   "outputs": [
    {
     "data": {
      "image/png": "[encoded data removed]",
      "text/plain": [
       "<Figure size 432x288 with 1 Axes>"
      ]
     },
     "metadata": {
      "needs_background": "light"
     },
     "output_type": "display_data"
    }
   ],
   "source": [
    "import matplotlib.pyplot as plt\n",
    "plt.hist(lengths)\n",
    "plt.xlabel('lengths')\n",
    "plt.ylabel('frequency')\n",
    "\n",
    "plt.show()"
   ]
  },
  {
   "cell_type": "markdown",
   "metadata": {},
   "source": [
    "---\n",
    "### Sequence Padding\n",
    "- 전체 자릿수를 100으로 가정했을 경우 한문장에 3개 토큰만 있을 경우 나머지 97개는 비워지고 이를 0으로 채우는 과정"
   ]
  },
  {
   "cell_type": "code",
   "execution_count": 10,
   "metadata": {},
   "outputs": [],
   "source": [
    "from tensorflow.keras.preprocessing.sequence import pad_sequences\n",
    "\n",
    "# 위의 차트에서 100개 부분이 제일 많은 것 같아 100개 토큰만 사용\n",
    "train_seq = pad_sequences(train_input, maxlen=100)\n",
    "# 검증 데이터\n",
    "val_seq = pad_sequences(val_input, maxlen=100)"
   ]
  },
  {
   "cell_type": "code",
   "execution_count": 11,
   "metadata": {},
   "outputs": [
    {
     "name": "stdout",
     "output_type": "stream",
     "text": [
      "(20000, 100)\n"
     ]
    }
   ],
   "source": [
    "# 크기 확인\n",
    "print(train_seq.shape)"
   ]
  },
  {
   "cell_type": "markdown",
   "metadata": {},
   "source": [
    "> 25000개의 훈련세트중 500개는 검증세트로 빠짐"
   ]
  },
  {
   "cell_type": "code",
   "execution_count": 12,
   "metadata": {},
   "outputs": [
    {
     "name": "stdout",
     "output_type": "stream",
     "text": [
      "[6, 2, 46, 7, 14, 20, 10, 10, 470, 158]\n"
     ]
    }
   ],
   "source": [
    "# 원본의 첫번째 댓글의 마지막 10개만 출력\n",
    "print(train_input[0][-10:])"
   ]
  },
  {
   "cell_type": "code",
   "execution_count": 13,
   "metadata": {},
   "outputs": [
    {
     "name": "stdout",
     "output_type": "stream",
     "text": [
      "[  0   0   0   0   1   2 195  19  49   2   2 190   4   2 352   2 183  10\n",
      "  10  13  82  79   4   2  36  71 269   8   2  25  19  49   7   4   2   2\n",
      "   2   2   2  10  10  48  25  40   2  11   2   2  40   2   2   5   4   2\n",
      "   2  95  14 238  56 129   2  10  10  21   2  94 364 352   2   2  11 190\n",
      "  24 484   2   7  94 205 405  10  10  87   2  34  49   2   7   2   2   2\n",
      "   2   2 290   2  46  48  64  18   4   2]\n"
     ]
    }
   ],
   "source": [
    "print(train_seq[5])"
   ]
  },
  {
   "cell_type": "markdown",
   "metadata": {},
   "source": [
    "---\n",
    "## 순환 신경망 모델 만들기"
   ]
  },
  {
   "cell_type": "code",
   "execution_count": 14,
   "metadata": {},
   "outputs": [],
   "source": [
    "from tensorflow import keras"
   ]
  },
  {
   "cell_type": "code",
   "execution_count": 15,
   "metadata": {},
   "outputs": [
    {
     "name": "stderr",
     "output_type": "stream",
     "text": [
      "2022-07-22 11:55:39.569809: I tensorflow/core/platform/cpu_feature_guard.cc:193] This TensorFlow binary is optimized with oneAPI Deep Neural Network Library (oneDNN) to use the following CPU instructions in performance-critical operations:  AVX2 FMA\n",
      "To enable them in other operations, rebuild TensorFlow with the appropriate compiler flags.\n"
     ]
    }
   ],
   "source": [
    "model = keras.Sequential()\n",
    "# 8 : 쉘의 갯수 , 500 : 500개의 단어를 One Hot Encoding\n",
    "model.add(keras.layers.SimpleRNN(8, input_shape=(100,500)))\n",
    "# Dense : 1 (긍정 혹은 부정이기에 sigmoid는 하나만 가지고 할 수 있다.)\n",
    "model.add(keras.layers.Dense(1, activation='sigmoid'))"
   ]
  },
  {
   "cell_type": "code",
   "execution_count": 16,
   "metadata": {},
   "outputs": [
    {
     "name": "stdout",
     "output_type": "stream",
     "text": [
      "(20000, 100, 500)\n"
     ]
    }
   ],
   "source": [
    "# One hot encoding\n",
    "train_oh = keras.utils.to_categorical(train_seq)\n",
    "print(train_oh.shape)"
   ]
  },
  {
   "cell_type": "code",
   "execution_count": 17,
   "metadata": {},
   "outputs": [
    {
     "name": "stdout",
     "output_type": "stream",
     "text": [
      "1.0\n"
     ]
    }
   ],
   "source": [
    "# One hot encoding 확인하기 -> 정말 0과 1하나 뿐밖에 없는지\n",
    "print(np.sum(train_oh[0][0]))\n"
   ]
  },
  {
   "cell_type": "code",
   "execution_count": 18,
   "metadata": {},
   "outputs": [],
   "source": [
    "val_oh = keras.utils.to_categorical(val_seq)"
   ]
  },
  {
   "cell_type": "code",
   "execution_count": 19,
   "metadata": {},
   "outputs": [
    {
     "name": "stdout",
     "output_type": "stream",
     "text": [
      "Model: \"sequential\"\n",
      "_________________________________________________________________\n",
      " Layer (type)                Output Shape              Param #   \n",
      "=================================================================\n",
      " simple_rnn (SimpleRNN)      (None, 8)                 4072      \n",
      "                                                                 \n",
      " dense (Dense)               (None, 1)                 9         \n",
      "                                                                 \n",
      "=================================================================\n",
      "Total params: 4,081\n",
      "Trainable params: 4,081\n",
      "Non-trainable params: 0\n",
      "_________________________________________________________________\n"
     ]
    }
   ],
   "source": [
    "model.summary()"
   ]
  },
  {
   "cell_type": "markdown",
   "metadata": {},
   "source": [
    "> simple_rnn Param# : 500 X 8 + (8 X 8) + 8 = 4072   \n",
    "> dense Param# : 8 + 1 = 9"
   ]
  },
  {
   "cell_type": "code",
   "execution_count": 20,
   "metadata": {},
   "outputs": [
    {
     "name": "stdout",
     "output_type": "stream",
     "text": [
      "Epoch 1/100\n",
      "313/313 [==============================] - 17s 48ms/step - loss: 0.6990 - accuracy: 0.5064 - val_loss: 0.6942 - val_accuracy: 0.5224\n",
      "Epoch 2/100\n",
      "313/313 [==============================] - 15s 46ms/step - loss: 0.6925 - accuracy: 0.5218 - val_loss: 0.6900 - val_accuracy: 0.5340\n",
      "Epoch 3/100\n",
      "313/313 [==============================] - 14s 44ms/step - loss: 0.6855 - accuracy: 0.5540 - val_loss: 0.6784 - val_accuracy: 0.5758\n",
      "Epoch 4/100\n",
      "313/313 [==============================] - 14s 44ms/step - loss: 0.6656 - accuracy: 0.6126 - val_loss: 0.6577 - val_accuracy: 0.6272\n",
      "Epoch 5/100\n",
      "313/313 [==============================] - 14s 43ms/step - loss: 0.6467 - accuracy: 0.6538 - val_loss: 0.6430 - val_accuracy: 0.6576\n",
      "Epoch 6/100\n",
      "313/313 [==============================] - 13s 43ms/step - loss: 0.6299 - accuracy: 0.6816 - val_loss: 0.6282 - val_accuracy: 0.6774\n",
      "Epoch 7/100\n",
      "313/313 [==============================] - 14s 43ms/step - loss: 0.6154 - accuracy: 0.6981 - val_loss: 0.6196 - val_accuracy: 0.6774\n",
      "Epoch 8/100\n",
      "313/313 [==============================] - 13s 42ms/step - loss: 0.6011 - accuracy: 0.7120 - val_loss: 0.6047 - val_accuracy: 0.7024\n",
      "Epoch 9/100\n",
      "313/313 [==============================] - 13s 43ms/step - loss: 0.5884 - accuracy: 0.7218 - val_loss: 0.5920 - val_accuracy: 0.7068\n",
      "Epoch 10/100\n",
      "313/313 [==============================] - 13s 43ms/step - loss: 0.5756 - accuracy: 0.7296 - val_loss: 0.5846 - val_accuracy: 0.7036\n",
      "Epoch 11/100\n",
      "313/313 [==============================] - 14s 43ms/step - loss: 0.5623 - accuracy: 0.7370 - val_loss: 0.5679 - val_accuracy: 0.7248\n",
      "Epoch 12/100\n",
      "313/313 [==============================] - 14s 43ms/step - loss: 0.5500 - accuracy: 0.7422 - val_loss: 0.5559 - val_accuracy: 0.7332\n",
      "Epoch 13/100\n",
      "313/313 [==============================] - 13s 43ms/step - loss: 0.5378 - accuracy: 0.7498 - val_loss: 0.5453 - val_accuracy: 0.7388\n",
      "Epoch 14/100\n",
      "313/313 [==============================] - 13s 43ms/step - loss: 0.5248 - accuracy: 0.7583 - val_loss: 0.5338 - val_accuracy: 0.7476\n",
      "Epoch 15/100\n",
      "313/313 [==============================] - 13s 43ms/step - loss: 0.5141 - accuracy: 0.7641 - val_loss: 0.5251 - val_accuracy: 0.7536\n",
      "Epoch 16/100\n",
      "313/313 [==============================] - 14s 43ms/step - loss: 0.5049 - accuracy: 0.7679 - val_loss: 0.5168 - val_accuracy: 0.7544\n",
      "Epoch 17/100\n",
      "313/313 [==============================] - 14s 43ms/step - loss: 0.4953 - accuracy: 0.7725 - val_loss: 0.5090 - val_accuracy: 0.7584\n",
      "Epoch 18/100\n",
      "313/313 [==============================] - 13s 43ms/step - loss: 0.4871 - accuracy: 0.7776 - val_loss: 0.5005 - val_accuracy: 0.7660\n",
      "Epoch 19/100\n",
      "313/313 [==============================] - 14s 44ms/step - loss: 0.4799 - accuracy: 0.7814 - val_loss: 0.4947 - val_accuracy: 0.7688\n",
      "Epoch 20/100\n",
      "313/313 [==============================] - 13s 43ms/step - loss: 0.4726 - accuracy: 0.7868 - val_loss: 0.4897 - val_accuracy: 0.7746\n",
      "Epoch 21/100\n",
      "313/313 [==============================] - 13s 43ms/step - loss: 0.4671 - accuracy: 0.7886 - val_loss: 0.4843 - val_accuracy: 0.7738\n",
      "Epoch 22/100\n",
      "313/313 [==============================] - 14s 45ms/step - loss: 0.4601 - accuracy: 0.7927 - val_loss: 0.4819 - val_accuracy: 0.7786\n",
      "Epoch 23/100\n",
      "313/313 [==============================] - 14s 44ms/step - loss: 0.4550 - accuracy: 0.7976 - val_loss: 0.4757 - val_accuracy: 0.7780\n",
      "Epoch 24/100\n",
      "313/313 [==============================] - 14s 44ms/step - loss: 0.4508 - accuracy: 0.7988 - val_loss: 0.4709 - val_accuracy: 0.7802\n",
      "Epoch 25/100\n",
      "313/313 [==============================] - 14s 45ms/step - loss: 0.4456 - accuracy: 0.8023 - val_loss: 0.4681 - val_accuracy: 0.7802\n",
      "Epoch 26/100\n",
      "313/313 [==============================] - 14s 44ms/step - loss: 0.4419 - accuracy: 0.8043 - val_loss: 0.4655 - val_accuracy: 0.7832\n",
      "Epoch 27/100\n",
      "313/313 [==============================] - 14s 43ms/step - loss: 0.4382 - accuracy: 0.8067 - val_loss: 0.4653 - val_accuracy: 0.7860\n",
      "Epoch 28/100\n",
      "313/313 [==============================] - 14s 44ms/step - loss: 0.4345 - accuracy: 0.8086 - val_loss: 0.4702 - val_accuracy: 0.7758\n",
      "Epoch 29/100\n",
      "313/313 [==============================] - 14s 43ms/step - loss: 0.4315 - accuracy: 0.8087 - val_loss: 0.4591 - val_accuracy: 0.7866\n",
      "Epoch 30/100\n",
      "313/313 [==============================] - 13s 43ms/step - loss: 0.4288 - accuracy: 0.8107 - val_loss: 0.4568 - val_accuracy: 0.7856\n",
      "Epoch 31/100\n",
      "313/313 [==============================] - 14s 43ms/step - loss: 0.4255 - accuracy: 0.8123 - val_loss: 0.4611 - val_accuracy: 0.7904\n",
      "Epoch 32/100\n",
      "313/313 [==============================] - 13s 43ms/step - loss: 0.4235 - accuracy: 0.8143 - val_loss: 0.4534 - val_accuracy: 0.7888\n",
      "Epoch 33/100\n",
      "313/313 [==============================] - 14s 43ms/step - loss: 0.4214 - accuracy: 0.8139 - val_loss: 0.4530 - val_accuracy: 0.7870\n",
      "Epoch 34/100\n",
      "313/313 [==============================] - 13s 43ms/step - loss: 0.4193 - accuracy: 0.8162 - val_loss: 0.4633 - val_accuracy: 0.7898\n",
      "Epoch 35/100\n",
      "313/313 [==============================] - 14s 44ms/step - loss: 0.4181 - accuracy: 0.8167 - val_loss: 0.4509 - val_accuracy: 0.7872\n",
      "Epoch 36/100\n",
      "313/313 [==============================] - 14s 45ms/step - loss: 0.4160 - accuracy: 0.8182 - val_loss: 0.4554 - val_accuracy: 0.7896\n",
      "Epoch 37/100\n",
      "313/313 [==============================] - 14s 44ms/step - loss: 0.4145 - accuracy: 0.8185 - val_loss: 0.4511 - val_accuracy: 0.7892\n",
      "Epoch 38/100\n",
      "313/313 [==============================] - 14s 44ms/step - loss: 0.4133 - accuracy: 0.8202 - val_loss: 0.4496 - val_accuracy: 0.7892\n",
      "Epoch 39/100\n",
      "313/313 [==============================] - 14s 43ms/step - loss: 0.4119 - accuracy: 0.8211 - val_loss: 0.4485 - val_accuracy: 0.7918\n",
      "Epoch 40/100\n",
      "313/313 [==============================] - 14s 44ms/step - loss: 0.4102 - accuracy: 0.8224 - val_loss: 0.4491 - val_accuracy: 0.7932\n",
      "Epoch 41/100\n",
      "313/313 [==============================] - 14s 44ms/step - loss: 0.4088 - accuracy: 0.8198 - val_loss: 0.4556 - val_accuracy: 0.7824\n",
      "Epoch 42/100\n",
      "313/313 [==============================] - 13s 43ms/step - loss: 0.4078 - accuracy: 0.8231 - val_loss: 0.4548 - val_accuracy: 0.7918\n"
     ]
    }
   ],
   "source": [
    "rmsprop = keras.optimizers.RMSprop(learning_rate=1e-4)\n",
    "model.compile(\n",
    "    optimizer = rmsprop, \n",
    "    loss = 'binary_crossentropy',\n",
    "    metrics = 'accuracy'\n",
    "    )\n",
    "checkpoint_cb = keras.callbacks.ModelCheckpoint(\"../Data/best-simplernn-model.h5\")\n",
    "early_stopping_cb = keras.callbacks.EarlyStopping(\n",
    "    patience=3,\n",
    "    restore_best_weights = True\n",
    ")\n",
    "\n",
    "history = model.fit(\n",
    "    train_oh,\n",
    "    train_target,\n",
    "    epochs= 100, # rnn에서 최소 epoch의 값은 100입니다!\n",
    "    batch_size = 64, # mini batch경사 하강법( 64 : 8 X 8 )\n",
    "    validation_data = (val_oh, val_target),\n",
    "    callbacks = [checkpoint_cb, early_stopping_cb]\n",
    "\n",
    ")"
   ]
  },
  {
   "cell_type": "code",
   "execution_count": 21,
   "metadata": {},
   "outputs": [
    {
     "data": {
      "image/png": "[encoded data removed]",
      "text/plain": [
       "<Figure size 432x288 with 1 Axes>"
      ]
     },
     "metadata": {
      "needs_background": "light"
     },
     "output_type": "display_data"
    }
   ],
   "source": [
    "# 시각화 해보기\n",
    "plt.plot(history.history['loss'])\n",
    "plt.plot(history.history['val_loss'])\n",
    "plt.xlabel('epoch')\n",
    "plt.ylabel('loss')\n",
    "plt.legend(['train','val'])\n",
    "plt.show()"
   ]
  },
  {
   "cell_type": "markdown",
   "metadata": {},
   "source": [
    "---\n",
    "### LSTM(Long Short Term Memory) 신경망 모델 구성하기\n",
    "- 순환신경망의 셀로 이전 타임스텝의 샘플을 기억하고 있음\n"
   ]
  },
  {
   "cell_type": "code",
   "execution_count": 22,
   "metadata": {},
   "outputs": [
    {
     "name": "stdout",
     "output_type": "stream",
     "text": [
      "Model: \"sequential_1\"\n",
      "_________________________________________________________________\n",
      " Layer (type)                Output Shape              Param #   \n",
      "=================================================================\n",
      " embedding (Embedding)       (None, 100, 16)           8000      \n",
      "                                                                 \n",
      " lstm (LSTM)                 (None, 8)                 800       \n",
      "                                                                 \n",
      " dense_1 (Dense)             (None, 1)                 9         \n",
      "                                                                 \n",
      "=================================================================\n",
      "Total params: 8,809\n",
      "Trainable params: 8,809\n",
      "Non-trainable params: 0\n",
      "_________________________________________________________________\n"
     ]
    }
   ],
   "source": [
    "model = keras.Sequential()\n",
    "# Embedding -> One hot encoding\n",
    "model.add(keras.layers.Embedding(500, 16, input_length=100))\n",
    "# 8개의 Cell을 사용한다.\n",
    "model.add(keras.layers.LSTM(8))\n",
    "model.add(keras.layers.Dense(1, activation='sigmoid'))\n",
    "\n",
    "model.summary()"
   ]
  },
  {
   "cell_type": "code",
   "execution_count": 23,
   "metadata": {},
   "outputs": [
    {
     "name": "stdout",
     "output_type": "stream",
     "text": [
      "Epoch 1/100\n",
      "313/313 [==============================] - 13s 33ms/step - loss: 0.6927 - accuracy: 0.5387 - val_loss: 0.6923 - val_accuracy: 0.5668\n",
      "Epoch 2/100\n",
      "313/313 [==============================] - 10s 31ms/step - loss: 0.6913 - accuracy: 0.5997 - val_loss: 0.6906 - val_accuracy: 0.6046\n",
      "Epoch 3/100\n",
      "313/313 [==============================] - 10s 31ms/step - loss: 0.6884 - accuracy: 0.6291 - val_loss: 0.6867 - val_accuracy: 0.6372\n",
      "Epoch 4/100\n",
      "313/313 [==============================] - 10s 32ms/step - loss: 0.6815 - accuracy: 0.6560 - val_loss: 0.6762 - val_accuracy: 0.6638\n",
      "Epoch 5/100\n",
      "313/313 [==============================] - 10s 31ms/step - loss: 0.6579 - accuracy: 0.6769 - val_loss: 0.6315 - val_accuracy: 0.6900\n",
      "Epoch 6/100\n",
      "313/313 [==============================] - 10s 33ms/step - loss: 0.5970 - accuracy: 0.7228 - val_loss: 0.5798 - val_accuracy: 0.7370\n",
      "Epoch 7/100\n",
      "313/313 [==============================] - 10s 32ms/step - loss: 0.5613 - accuracy: 0.7462 - val_loss: 0.5555 - val_accuracy: 0.7446\n",
      "Epoch 8/100\n",
      "313/313 [==============================] - 10s 33ms/step - loss: 0.5377 - accuracy: 0.7588 - val_loss: 0.5338 - val_accuracy: 0.7608\n",
      "Epoch 9/100\n",
      "313/313 [==============================] - 10s 31ms/step - loss: 0.5168 - accuracy: 0.7695 - val_loss: 0.5152 - val_accuracy: 0.7690\n",
      "Epoch 10/100\n",
      "313/313 [==============================] - 10s 33ms/step - loss: 0.4992 - accuracy: 0.7775 - val_loss: 0.5007 - val_accuracy: 0.7752\n",
      "Epoch 11/100\n",
      "313/313 [==============================] - 10s 31ms/step - loss: 0.4850 - accuracy: 0.7847 - val_loss: 0.4904 - val_accuracy: 0.7766\n",
      "Epoch 12/100\n",
      "313/313 [==============================] - 10s 32ms/step - loss: 0.4735 - accuracy: 0.7892 - val_loss: 0.4799 - val_accuracy: 0.7844\n",
      "Epoch 13/100\n",
      "313/313 [==============================] - 10s 31ms/step - loss: 0.4636 - accuracy: 0.7944 - val_loss: 0.4736 - val_accuracy: 0.7848\n",
      "Epoch 14/100\n",
      "313/313 [==============================] - 11s 34ms/step - loss: 0.4562 - accuracy: 0.7983 - val_loss: 0.4674 - val_accuracy: 0.7858\n",
      "Epoch 15/100\n",
      "313/313 [==============================] - 10s 32ms/step - loss: 0.4493 - accuracy: 0.8012 - val_loss: 0.4608 - val_accuracy: 0.7868\n",
      "Epoch 16/100\n",
      "313/313 [==============================] - 10s 32ms/step - loss: 0.4438 - accuracy: 0.8038 - val_loss: 0.4567 - val_accuracy: 0.7892\n",
      "Epoch 17/100\n",
      "313/313 [==============================] - 10s 32ms/step - loss: 0.4388 - accuracy: 0.8069 - val_loss: 0.4532 - val_accuracy: 0.7882\n",
      "Epoch 18/100\n",
      "313/313 [==============================] - 10s 31ms/step - loss: 0.4346 - accuracy: 0.8091 - val_loss: 0.4517 - val_accuracy: 0.7948\n",
      "Epoch 19/100\n",
      "313/313 [==============================] - 10s 32ms/step - loss: 0.4313 - accuracy: 0.8099 - val_loss: 0.4472 - val_accuracy: 0.7958\n",
      "Epoch 20/100\n",
      "313/313 [==============================] - 10s 31ms/step - loss: 0.4284 - accuracy: 0.8114 - val_loss: 0.4455 - val_accuracy: 0.7968\n",
      "Epoch 21/100\n",
      "313/313 [==============================] - 10s 32ms/step - loss: 0.4256 - accuracy: 0.8114 - val_loss: 0.4438 - val_accuracy: 0.7956\n",
      "Epoch 22/100\n",
      "313/313 [==============================] - 10s 31ms/step - loss: 0.4235 - accuracy: 0.8115 - val_loss: 0.4420 - val_accuracy: 0.7996\n",
      "Epoch 23/100\n",
      "313/313 [==============================] - 10s 31ms/step - loss: 0.4221 - accuracy: 0.8124 - val_loss: 0.4414 - val_accuracy: 0.7990\n",
      "Epoch 24/100\n",
      "313/313 [==============================] - 10s 32ms/step - loss: 0.4202 - accuracy: 0.8128 - val_loss: 0.4402 - val_accuracy: 0.7988\n",
      "Epoch 25/100\n",
      "313/313 [==============================] - 9s 30ms/step - loss: 0.4187 - accuracy: 0.8132 - val_loss: 0.4430 - val_accuracy: 0.8012\n",
      "Epoch 26/100\n",
      "313/313 [==============================] - 10s 32ms/step - loss: 0.4173 - accuracy: 0.8123 - val_loss: 0.4385 - val_accuracy: 0.8012\n",
      "Epoch 27/100\n",
      "313/313 [==============================] - 10s 32ms/step - loss: 0.4160 - accuracy: 0.8141 - val_loss: 0.4374 - val_accuracy: 0.7974\n",
      "Epoch 28/100\n",
      "313/313 [==============================] - 10s 31ms/step - loss: 0.4152 - accuracy: 0.8135 - val_loss: 0.4361 - val_accuracy: 0.7988\n",
      "Epoch 29/100\n",
      "313/313 [==============================] - 10s 32ms/step - loss: 0.4141 - accuracy: 0.8141 - val_loss: 0.4359 - val_accuracy: 0.8004\n",
      "Epoch 30/100\n",
      "313/313 [==============================] - 10s 33ms/step - loss: 0.4134 - accuracy: 0.8155 - val_loss: 0.4349 - val_accuracy: 0.8008\n",
      "Epoch 31/100\n",
      "313/313 [==============================] - 10s 32ms/step - loss: 0.4125 - accuracy: 0.8155 - val_loss: 0.4341 - val_accuracy: 0.8014\n",
      "Epoch 32/100\n",
      "313/313 [==============================] - 10s 32ms/step - loss: 0.4118 - accuracy: 0.8141 - val_loss: 0.4373 - val_accuracy: 0.7942\n",
      "Epoch 33/100\n",
      "313/313 [==============================] - 10s 32ms/step - loss: 0.4112 - accuracy: 0.8153 - val_loss: 0.4386 - val_accuracy: 0.7946\n",
      "Epoch 34/100\n",
      "313/313 [==============================] - 10s 31ms/step - loss: 0.4104 - accuracy: 0.8151 - val_loss: 0.4327 - val_accuracy: 0.8030\n",
      "Epoch 35/100\n",
      "313/313 [==============================] - 10s 32ms/step - loss: 0.4098 - accuracy: 0.8158 - val_loss: 0.4339 - val_accuracy: 0.8040\n",
      "Epoch 36/100\n",
      "313/313 [==============================] - 10s 32ms/step - loss: 0.4095 - accuracy: 0.8164 - val_loss: 0.4326 - val_accuracy: 0.7986\n",
      "Epoch 37/100\n",
      "313/313 [==============================] - 10s 32ms/step - loss: 0.4087 - accuracy: 0.8170 - val_loss: 0.4318 - val_accuracy: 0.8008\n",
      "Epoch 38/100\n",
      "313/313 [==============================] - 10s 31ms/step - loss: 0.4081 - accuracy: 0.8162 - val_loss: 0.4317 - val_accuracy: 0.8024\n",
      "Epoch 39/100\n",
      "313/313 [==============================] - 10s 31ms/step - loss: 0.4079 - accuracy: 0.8166 - val_loss: 0.4326 - val_accuracy: 0.7980\n",
      "Epoch 40/100\n",
      "313/313 [==============================] - 10s 31ms/step - loss: 0.4074 - accuracy: 0.8177 - val_loss: 0.4325 - val_accuracy: 0.7996\n",
      "Epoch 41/100\n",
      "313/313 [==============================] - 10s 31ms/step - loss: 0.4069 - accuracy: 0.8174 - val_loss: 0.4334 - val_accuracy: 0.8050\n"
     ]
    }
   ],
   "source": [
    "# 훈련하기\n",
    "\n",
    "rmsprop = keras.optimizers.RMSprop(learning_rate=1e-4)\n",
    "model.compile(\n",
    "    optimizer = rmsprop, \n",
    "    loss = 'binary_crossentropy',\n",
    "    metrics = 'accuracy'\n",
    "    )\n",
    "checkpoint_cb = keras.callbacks.ModelCheckpoint(\"../Data/best-lstm-model.h5\")\n",
    "early_stopping_cb = keras.callbacks.EarlyStopping(\n",
    "    patience=3,\n",
    "    restore_best_weights = True\n",
    ")\n",
    "\n",
    "history = model.fit(\n",
    "    train_seq,\n",
    "    train_target,\n",
    "    epochs= 100, # rnn에서 최소 epoch의 값은 100입니다!\n",
    "    batch_size = 64, # mini batch경사 하강법( 64 : 8 X 8 )\n",
    "    validation_data = (val_seq, val_target),\n",
    "    callbacks = [checkpoint_cb, early_stopping_cb]\n",
    "\n",
    ")"
   ]
  },
  {
   "cell_type": "code",
   "execution_count": 24,
   "metadata": {},
   "outputs": [
    {
     "data": {
      "image/png": "[encoded data removed]",
      "text/plain": [
       "<Figure size 432x288 with 1 Axes>"
      ]
     },
     "metadata": {
      "needs_background": "light"
     },
     "output_type": "display_data"
    }
   ],
   "source": [
    "# 시각화 해보기\n",
    "plt.plot(history.history['loss'])\n",
    "plt.plot(history.history['val_loss'])\n",
    "plt.xlabel('epoch')\n",
    "plt.ylabel('loss')\n",
    "plt.legend(['train','val'])\n",
    "plt.show()"
   ]
  },
  {
   "cell_type": "markdown",
   "metadata": {},
   "source": [
    "---\n",
    "## 순환층에 드롭아웃 적용하기"
   ]
  },
  {
   "cell_type": "code",
   "execution_count": 25,
   "metadata": {},
   "outputs": [
    {
     "name": "stdout",
     "output_type": "stream",
     "text": [
      "Model: \"sequential_2\"\n",
      "_________________________________________________________________\n",
      " Layer (type)                Output Shape              Param #   \n",
      "=================================================================\n",
      " embedding_1 (Embedding)     (None, 100, 16)           8000      \n",
      "                                                                 \n",
      " lstm_1 (LSTM)               (None, 8)                 800       \n",
      "                                                                 \n",
      " dense_2 (Dense)             (None, 1)                 9         \n",
      "                                                                 \n",
      "=================================================================\n",
      "Total params: 8,809\n",
      "Trainable params: 8,809\n",
      "Non-trainable params: 0\n",
      "_________________________________________________________________\n"
     ]
    }
   ],
   "source": [
    "model = keras.Sequential()\n",
    "# Embedding -> One hot encoding\n",
    "model.add(keras.layers.Embedding(500, 16, input_length=100))\n",
    "# 8개의 Cell을 사용한다. 드롭아웃 30%\n",
    "model.add(keras.layers.LSTM(8, dropout=0.3))\n",
    "model.add(keras.layers.Dense(1, activation='sigmoid'))\n",
    "\n",
    "model.summary()"
   ]
  },
  {
   "cell_type": "code",
   "execution_count": 26,
   "metadata": {},
   "outputs": [
    {
     "name": "stdout",
     "output_type": "stream",
     "text": [
      "Epoch 1/100\n",
      "313/313 [==============================] - 13s 34ms/step - loss: 0.6927 - accuracy: 0.5252 - val_loss: 0.6921 - val_accuracy: 0.5564\n",
      "Epoch 2/100\n",
      "313/313 [==============================] - 10s 32ms/step - loss: 0.6905 - accuracy: 0.5872 - val_loss: 0.6890 - val_accuracy: 0.6118\n",
      "Epoch 3/100\n",
      "313/313 [==============================] - 10s 32ms/step - loss: 0.6845 - accuracy: 0.6398 - val_loss: 0.6797 - val_accuracy: 0.6520\n",
      "Epoch 4/100\n",
      "313/313 [==============================] - 10s 32ms/step - loss: 0.6618 - accuracy: 0.6732 - val_loss: 0.6328 - val_accuracy: 0.6862\n",
      "Epoch 5/100\n",
      "313/313 [==============================] - 10s 32ms/step - loss: 0.5958 - accuracy: 0.7203 - val_loss: 0.5805 - val_accuracy: 0.7334\n",
      "Epoch 6/100\n",
      "313/313 [==============================] - 10s 32ms/step - loss: 0.5678 - accuracy: 0.7398 - val_loss: 0.5612 - val_accuracy: 0.7466\n",
      "Epoch 7/100\n",
      "313/313 [==============================] - 10s 31ms/step - loss: 0.5500 - accuracy: 0.7499 - val_loss: 0.5446 - val_accuracy: 0.7540\n",
      "Epoch 8/100\n",
      "313/313 [==============================] - 10s 32ms/step - loss: 0.5342 - accuracy: 0.7599 - val_loss: 0.5311 - val_accuracy: 0.7568\n",
      "Epoch 9/100\n",
      "313/313 [==============================] - 10s 32ms/step - loss: 0.5218 - accuracy: 0.7662 - val_loss: 0.5176 - val_accuracy: 0.7700\n",
      "Epoch 10/100\n",
      "313/313 [==============================] - 10s 32ms/step - loss: 0.5104 - accuracy: 0.7714 - val_loss: 0.5065 - val_accuracy: 0.7772\n",
      "Epoch 11/100\n",
      "313/313 [==============================] - 10s 32ms/step - loss: 0.4984 - accuracy: 0.7801 - val_loss: 0.4973 - val_accuracy: 0.7820\n",
      "Epoch 12/100\n",
      "313/313 [==============================] - 10s 32ms/step - loss: 0.4889 - accuracy: 0.7818 - val_loss: 0.4884 - val_accuracy: 0.7816\n",
      "Epoch 13/100\n",
      "313/313 [==============================] - 10s 32ms/step - loss: 0.4818 - accuracy: 0.7854 - val_loss: 0.4816 - val_accuracy: 0.7876\n",
      "Epoch 14/100\n",
      "313/313 [==============================] - 10s 32ms/step - loss: 0.4744 - accuracy: 0.7890 - val_loss: 0.4752 - val_accuracy: 0.7840\n",
      "Epoch 15/100\n",
      "313/313 [==============================] - 10s 32ms/step - loss: 0.4700 - accuracy: 0.7894 - val_loss: 0.4708 - val_accuracy: 0.7900\n",
      "Epoch 16/100\n",
      "313/313 [==============================] - 10s 32ms/step - loss: 0.4628 - accuracy: 0.7941 - val_loss: 0.4664 - val_accuracy: 0.7882\n",
      "Epoch 17/100\n",
      "313/313 [==============================] - 10s 32ms/step - loss: 0.4574 - accuracy: 0.7969 - val_loss: 0.4638 - val_accuracy: 0.7874\n",
      "Epoch 18/100\n",
      "313/313 [==============================] - 10s 32ms/step - loss: 0.4547 - accuracy: 0.7970 - val_loss: 0.4619 - val_accuracy: 0.7910\n",
      "Epoch 19/100\n",
      "313/313 [==============================] - 10s 32ms/step - loss: 0.4499 - accuracy: 0.7991 - val_loss: 0.4581 - val_accuracy: 0.7880\n",
      "Epoch 20/100\n",
      "313/313 [==============================] - 10s 32ms/step - loss: 0.4484 - accuracy: 0.7979 - val_loss: 0.4555 - val_accuracy: 0.7892\n",
      "Epoch 21/100\n",
      "313/313 [==============================] - 10s 32ms/step - loss: 0.4445 - accuracy: 0.8020 - val_loss: 0.4542 - val_accuracy: 0.7894\n",
      "Epoch 22/100\n",
      "313/313 [==============================] - 10s 32ms/step - loss: 0.4418 - accuracy: 0.8033 - val_loss: 0.4526 - val_accuracy: 0.7894\n",
      "Epoch 23/100\n",
      "313/313 [==============================] - 10s 32ms/step - loss: 0.4391 - accuracy: 0.8033 - val_loss: 0.4514 - val_accuracy: 0.7890\n",
      "Epoch 24/100\n",
      "313/313 [==============================] - 10s 32ms/step - loss: 0.4350 - accuracy: 0.8059 - val_loss: 0.4491 - val_accuracy: 0.7920\n",
      "Epoch 25/100\n",
      "313/313 [==============================] - 10s 32ms/step - loss: 0.4350 - accuracy: 0.8040 - val_loss: 0.4483 - val_accuracy: 0.7938\n",
      "Epoch 26/100\n",
      "313/313 [==============================] - 10s 33ms/step - loss: 0.4343 - accuracy: 0.8034 - val_loss: 0.4515 - val_accuracy: 0.7908\n",
      "Epoch 27/100\n",
      "313/313 [==============================] - 10s 33ms/step - loss: 0.4303 - accuracy: 0.8043 - val_loss: 0.4441 - val_accuracy: 0.7952\n",
      "Epoch 28/100\n",
      "313/313 [==============================] - 10s 33ms/step - loss: 0.4298 - accuracy: 0.8058 - val_loss: 0.4425 - val_accuracy: 0.7962\n",
      "Epoch 29/100\n",
      "313/313 [==============================] - 10s 32ms/step - loss: 0.4263 - accuracy: 0.8094 - val_loss: 0.4428 - val_accuracy: 0.7968\n",
      "Epoch 30/100\n",
      "313/313 [==============================] - 10s 33ms/step - loss: 0.4278 - accuracy: 0.8087 - val_loss: 0.4421 - val_accuracy: 0.7964\n",
      "Epoch 31/100\n",
      "313/313 [==============================] - 11s 34ms/step - loss: 0.4249 - accuracy: 0.8080 - val_loss: 0.4400 - val_accuracy: 0.7948\n",
      "Epoch 32/100\n",
      "313/313 [==============================] - 10s 33ms/step - loss: 0.4258 - accuracy: 0.8084 - val_loss: 0.4387 - val_accuracy: 0.7966\n",
      "Epoch 33/100\n",
      "313/313 [==============================] - 10s 33ms/step - loss: 0.4250 - accuracy: 0.8092 - val_loss: 0.4381 - val_accuracy: 0.7958\n",
      "Epoch 34/100\n",
      "313/313 [==============================] - 11s 34ms/step - loss: 0.4216 - accuracy: 0.8094 - val_loss: 0.4415 - val_accuracy: 0.7978\n",
      "Epoch 35/100\n",
      "313/313 [==============================] - 11s 34ms/step - loss: 0.4229 - accuracy: 0.8089 - val_loss: 0.4392 - val_accuracy: 0.7946\n",
      "Epoch 36/100\n",
      "313/313 [==============================] - 10s 33ms/step - loss: 0.4210 - accuracy: 0.8091 - val_loss: 0.4381 - val_accuracy: 0.7988\n",
      "Epoch 37/100\n",
      "313/313 [==============================] - 10s 33ms/step - loss: 0.4190 - accuracy: 0.8112 - val_loss: 0.4385 - val_accuracy: 0.7956\n",
      "Epoch 38/100\n",
      "313/313 [==============================] - 10s 33ms/step - loss: 0.4195 - accuracy: 0.8095 - val_loss: 0.4351 - val_accuracy: 0.7944\n",
      "Epoch 39/100\n",
      "313/313 [==============================] - 11s 34ms/step - loss: 0.4173 - accuracy: 0.8109 - val_loss: 0.4370 - val_accuracy: 0.7978\n",
      "Epoch 40/100\n",
      "313/313 [==============================] - 11s 35ms/step - loss: 0.4170 - accuracy: 0.8108 - val_loss: 0.4362 - val_accuracy: 0.7934\n",
      "Epoch 41/100\n",
      "313/313 [==============================] - 11s 35ms/step - loss: 0.4183 - accuracy: 0.8096 - val_loss: 0.4343 - val_accuracy: 0.7990\n",
      "Epoch 42/100\n",
      "313/313 [==============================] - 11s 35ms/step - loss: 0.4168 - accuracy: 0.8117 - val_loss: 0.4366 - val_accuracy: 0.7998\n",
      "Epoch 43/100\n",
      "313/313 [==============================] - 11s 34ms/step - loss: 0.4169 - accuracy: 0.8096 - val_loss: 0.4338 - val_accuracy: 0.8004\n",
      "Epoch 44/100\n",
      "313/313 [==============================] - 11s 34ms/step - loss: 0.4164 - accuracy: 0.8089 - val_loss: 0.4352 - val_accuracy: 0.7952\n",
      "Epoch 45/100\n",
      "313/313 [==============================] - 10s 33ms/step - loss: 0.4160 - accuracy: 0.8116 - val_loss: 0.4333 - val_accuracy: 0.7952\n",
      "Epoch 46/100\n",
      "313/313 [==============================] - 10s 34ms/step - loss: 0.4140 - accuracy: 0.8120 - val_loss: 0.4326 - val_accuracy: 0.8002\n",
      "Epoch 47/100\n",
      "313/313 [==============================] - 11s 34ms/step - loss: 0.4154 - accuracy: 0.8116 - val_loss: 0.4328 - val_accuracy: 0.7984\n",
      "Epoch 48/100\n",
      "313/313 [==============================] - 10s 32ms/step - loss: 0.4137 - accuracy: 0.8136 - val_loss: 0.4349 - val_accuracy: 0.8024\n",
      "Epoch 49/100\n",
      "313/313 [==============================] - 10s 31ms/step - loss: 0.4133 - accuracy: 0.8132 - val_loss: 0.4332 - val_accuracy: 0.8008\n"
     ]
    }
   ],
   "source": [
    "# 훈련하기\n",
    "\n",
    "rmsprop = keras.optimizers.RMSprop(learning_rate=1e-4)\n",
    "model.compile(\n",
    "    optimizer = rmsprop, \n",
    "    loss = 'binary_crossentropy',\n",
    "    metrics = 'accuracy'\n",
    "    )\n",
    "checkpoint_cb = keras.callbacks.ModelCheckpoint(\"../Data/best-dropout-model.h5\")\n",
    "early_stopping_cb = keras.callbacks.EarlyStopping(\n",
    "    patience=3,\n",
    "    restore_best_weights = True\n",
    ")\n",
    "\n",
    "history = model.fit(\n",
    "    train_seq,\n",
    "    train_target,\n",
    "    epochs= 100, # rnn에서 최소 epoch의 값은 100입니다!\n",
    "    batch_size = 64, # mini batch경사 하강법( 64 : 8 X 8 )\n",
    "    validation_data = (val_seq, val_target),\n",
    "    callbacks = [checkpoint_cb, early_stopping_cb]\n",
    "\n",
    ")"
   ]
  },
  {
   "cell_type": "code",
   "execution_count": 27,
   "metadata": {},
   "outputs": [
    {
     "data": {
      "image/png": "[encoded data removed]",
      "text/plain": [
       "<Figure size 432x288 with 1 Axes>"
      ]
     },
     "metadata": {
      "needs_background": "light"
     },
     "output_type": "display_data"
    }
   ],
   "source": [
    "# 시각화 해보기\n",
    "plt.plot(history.history['loss'])\n",
    "plt.plot(history.history['val_loss'])\n",
    "plt.xlabel('epoch')\n",
    "plt.ylabel('loss')\n",
    "plt.legend(['train','val'])\n",
    "plt.show()"
   ]
  },
  {
   "cell_type": "markdown",
   "metadata": {},
   "source": [
    "---\n",
    "## 2개 층을 연결하기"
   ]
  },
  {
   "cell_type": "code",
   "execution_count": 29,
   "metadata": {},
   "outputs": [
    {
     "name": "stdout",
     "output_type": "stream",
     "text": [
      "Model: \"sequential_3\"\n",
      "_________________________________________________________________\n",
      " Layer (type)                Output Shape              Param #   \n",
      "=================================================================\n",
      " embedding_2 (Embedding)     (None, 100, 16)           8000      \n",
      "                                                                 \n",
      " lstm_2 (LSTM)               (None, 100, 8)            800       \n",
      "                                                                 \n",
      " lstm_3 (LSTM)               (None, 8)                 544       \n",
      "                                                                 \n",
      " dense_3 (Dense)             (None, 1)                 9         \n",
      "                                                                 \n",
      "=================================================================\n",
      "Total params: 9,353\n",
      "Trainable params: 9,353\n",
      "Non-trainable params: 0\n",
      "_________________________________________________________________\n"
     ]
    }
   ],
   "source": [
    "model = keras.Sequential()\n",
    "# Embedding -> One hot encoding\n",
    "model.add(keras.layers.Embedding(500, 16, input_length=100))\n",
    "# 8개의 Cell을 사용한다. 드롭아웃 30% \n",
    "# return_sequences를 써줘야 모든 타임스텝의 은닉상태를 출력할 수 있다. 그 다음 층으로 데이터를 변환해서 보내줄수 있다.\n",
    "model.add(keras.layers.LSTM(8, dropout=0.3, return_sequences=True))\n",
    "model.add(keras.layers.LSTM(8, dropout=0.3))\n",
    "model.add(keras.layers.Dense(1, activation='sigmoid'))\n",
    "\n",
    "model.summary()"
   ]
  },
  {
   "cell_type": "code",
   "execution_count": 30,
   "metadata": {},
   "outputs": [
    {
     "name": "stdout",
     "output_type": "stream",
     "text": [
      "Epoch 1/100\n",
      "313/313 [==============================] - 26s 67ms/step - loss: 0.6928 - accuracy: 0.5135 - val_loss: 0.6923 - val_accuracy: 0.5916\n",
      "Epoch 2/100\n",
      "313/313 [==============================] - 19s 62ms/step - loss: 0.6901 - accuracy: 0.5775 - val_loss: 0.6863 - val_accuracy: 0.6052\n",
      "Epoch 3/100\n",
      "313/313 [==============================] - 19s 61ms/step - loss: 0.6603 - accuracy: 0.6291 - val_loss: 0.6192 - val_accuracy: 0.6936\n",
      "Epoch 4/100\n",
      "313/313 [==============================] - 19s 61ms/step - loss: 0.5916 - accuracy: 0.7125 - val_loss: 0.5726 - val_accuracy: 0.7242\n",
      "Epoch 5/100\n",
      "313/313 [==============================] - 20s 64ms/step - loss: 0.5547 - accuracy: 0.7344 - val_loss: 0.5386 - val_accuracy: 0.7412\n",
      "Epoch 6/100\n",
      "313/313 [==============================] - 20s 64ms/step - loss: 0.5272 - accuracy: 0.7525 - val_loss: 0.5120 - val_accuracy: 0.7600\n",
      "Epoch 7/100\n",
      "313/313 [==============================] - 20s 65ms/step - loss: 0.5067 - accuracy: 0.7650 - val_loss: 0.4993 - val_accuracy: 0.7666\n",
      "Epoch 8/100\n",
      "313/313 [==============================] - 21s 66ms/step - loss: 0.4930 - accuracy: 0.7693 - val_loss: 0.4834 - val_accuracy: 0.7788\n",
      "Epoch 9/100\n",
      "313/313 [==============================] - 20s 65ms/step - loss: 0.4844 - accuracy: 0.7740 - val_loss: 0.4751 - val_accuracy: 0.7804\n",
      "Epoch 10/100\n",
      "313/313 [==============================] - 20s 63ms/step - loss: 0.4736 - accuracy: 0.7803 - val_loss: 0.4688 - val_accuracy: 0.7834\n",
      "Epoch 11/100\n",
      "313/313 [==============================] - 19s 61ms/step - loss: 0.4676 - accuracy: 0.7864 - val_loss: 0.4705 - val_accuracy: 0.7778\n",
      "Epoch 12/100\n",
      "313/313 [==============================] - 19s 61ms/step - loss: 0.4619 - accuracy: 0.7851 - val_loss: 0.4586 - val_accuracy: 0.7864\n",
      "Epoch 13/100\n",
      "313/313 [==============================] - 19s 61ms/step - loss: 0.4560 - accuracy: 0.7913 - val_loss: 0.4561 - val_accuracy: 0.7874\n",
      "Epoch 14/100\n",
      "313/313 [==============================] - 19s 62ms/step - loss: 0.4525 - accuracy: 0.7919 - val_loss: 0.4543 - val_accuracy: 0.7910\n",
      "Epoch 15/100\n",
      "313/313 [==============================] - 19s 61ms/step - loss: 0.4509 - accuracy: 0.7918 - val_loss: 0.4512 - val_accuracy: 0.7884\n",
      "Epoch 16/100\n",
      "313/313 [==============================] - 19s 61ms/step - loss: 0.4472 - accuracy: 0.7937 - val_loss: 0.4567 - val_accuracy: 0.7838\n",
      "Epoch 17/100\n",
      "313/313 [==============================] - 19s 61ms/step - loss: 0.4448 - accuracy: 0.7961 - val_loss: 0.4498 - val_accuracy: 0.7904\n",
      "Epoch 18/100\n",
      "313/313 [==============================] - 19s 61ms/step - loss: 0.4416 - accuracy: 0.7987 - val_loss: 0.4478 - val_accuracy: 0.7932\n",
      "Epoch 19/100\n",
      "313/313 [==============================] - 19s 61ms/step - loss: 0.4397 - accuracy: 0.8012 - val_loss: 0.4462 - val_accuracy: 0.7914\n",
      "Epoch 20/100\n",
      "313/313 [==============================] - 19s 61ms/step - loss: 0.4387 - accuracy: 0.7955 - val_loss: 0.4473 - val_accuracy: 0.7966\n",
      "Epoch 21/100\n",
      "313/313 [==============================] - 19s 62ms/step - loss: 0.4383 - accuracy: 0.7987 - val_loss: 0.4446 - val_accuracy: 0.7954\n",
      "Epoch 22/100\n",
      "313/313 [==============================] - 19s 61ms/step - loss: 0.4362 - accuracy: 0.7994 - val_loss: 0.4433 - val_accuracy: 0.7946\n",
      "Epoch 23/100\n",
      "313/313 [==============================] - 19s 61ms/step - loss: 0.4355 - accuracy: 0.8012 - val_loss: 0.4425 - val_accuracy: 0.7930\n",
      "Epoch 24/100\n",
      "313/313 [==============================] - 19s 61ms/step - loss: 0.4335 - accuracy: 0.8004 - val_loss: 0.4448 - val_accuracy: 0.7962\n",
      "Epoch 25/100\n",
      "313/313 [==============================] - 19s 61ms/step - loss: 0.4328 - accuracy: 0.8021 - val_loss: 0.4447 - val_accuracy: 0.7900\n",
      "Epoch 26/100\n",
      "313/313 [==============================] - 19s 61ms/step - loss: 0.4320 - accuracy: 0.8037 - val_loss: 0.4415 - val_accuracy: 0.7926\n",
      "Epoch 27/100\n",
      "313/313 [==============================] - 19s 61ms/step - loss: 0.4320 - accuracy: 0.8001 - val_loss: 0.4455 - val_accuracy: 0.7958\n",
      "Epoch 28/100\n",
      "313/313 [==============================] - 19s 62ms/step - loss: 0.4308 - accuracy: 0.8022 - val_loss: 0.4406 - val_accuracy: 0.7970\n",
      "Epoch 29/100\n",
      "313/313 [==============================] - 19s 61ms/step - loss: 0.4290 - accuracy: 0.8033 - val_loss: 0.4434 - val_accuracy: 0.7918\n",
      "Epoch 30/100\n",
      "313/313 [==============================] - 19s 61ms/step - loss: 0.4283 - accuracy: 0.8033 - val_loss: 0.4404 - val_accuracy: 0.7936\n",
      "Epoch 31/100\n",
      "313/313 [==============================] - 19s 61ms/step - loss: 0.4293 - accuracy: 0.8026 - val_loss: 0.4441 - val_accuracy: 0.7912\n",
      "Epoch 32/100\n",
      "313/313 [==============================] - 19s 62ms/step - loss: 0.4298 - accuracy: 0.8040 - val_loss: 0.4409 - val_accuracy: 0.7922\n",
      "Epoch 33/100\n",
      "313/313 [==============================] - 19s 61ms/step - loss: 0.4265 - accuracy: 0.8044 - val_loss: 0.4419 - val_accuracy: 0.7982\n"
     ]
    }
   ],
   "source": [
    "# 훈련하기\n",
    "\n",
    "rmsprop = keras.optimizers.RMSprop(learning_rate=1e-4)\n",
    "model.compile(\n",
    "    optimizer = rmsprop, \n",
    "    loss = 'binary_crossentropy',\n",
    "    metrics = 'accuracy'\n",
    "    )\n",
    "checkpoint_cb = keras.callbacks.ModelCheckpoint(\"../Data/best-2rnn-model.h5\")\n",
    "early_stopping_cb = keras.callbacks.EarlyStopping(\n",
    "    patience=3,\n",
    "    restore_best_weights = True\n",
    ")\n",
    "\n",
    "history = model.fit(\n",
    "    train_seq,\n",
    "    train_target,\n",
    "    epochs= 100, # rnn에서 최소 epoch의 값은 100입니다!\n",
    "    batch_size = 64, # mini batch경사 하강법( 64 : 8 X 8 )\n",
    "    validation_data = (val_seq, val_target),\n",
    "    callbacks = [checkpoint_cb, early_stopping_cb]\n",
    "\n",
    ")"
   ]
  },
  {
   "cell_type": "code",
   "execution_count": 33,
   "metadata": {},
   "outputs": [
    {
     "data": {
      "image/png": "[encoded data removed]",
      "text/plain": [
       "<Figure size 432x288 with 1 Axes>"
      ]
     },
     "metadata": {
      "needs_background": "light"
     },
     "output_type": "display_data"
    }
   ],
   "source": [
    "# 시각화 해보기\n",
    "plt.plot(history.history['loss'])\n",
    "plt.plot(history.history['val_loss'])\n",
    "plt.xlabel('epoch')\n",
    "plt.ylabel('loss')\n",
    "plt.legend(['train','val'])\n",
    "plt.show()"
   ]
  },
  {
   "cell_type": "markdown",
   "metadata": {},
   "source": [
    "---\n",
    "### GRU(Gated Recurrent Unit) 신경망\n",
    "- LSTM의 간소화 버전\n",
    "- 자동 드랍아웃, 최근 데이터로만 \n"
   ]
  },
  {
   "cell_type": "code",
   "execution_count": 34,
   "metadata": {},
   "outputs": [
    {
     "name": "stdout",
     "output_type": "stream",
     "text": [
      "Model: \"sequential_4\"\n",
      "_________________________________________________________________\n",
      " Layer (type)                Output Shape              Param #   \n",
      "=================================================================\n",
      " embedding_3 (Embedding)     (None, 100, 16)           8000      \n",
      "                                                                 \n",
      " gru (GRU)                   (None, 8)                 624       \n",
      "                                                                 \n",
      " dense_4 (Dense)             (None, 1)                 9         \n",
      "                                                                 \n",
      "=================================================================\n",
      "Total params: 8,633\n",
      "Trainable params: 8,633\n",
      "Non-trainable params: 0\n",
      "_________________________________________________________________\n"
     ]
    }
   ],
   "source": [
    "model = keras.Sequential()\n",
    "\n",
    "# Embedding = One Hot Encoding\n",
    "model.add(keras.layers.Embedding(500, 16, input_length=100))\n",
    "model.add(keras.layers.GRU(8))\n",
    "model.add(keras.layers.Dense(1, activation='sigmoid'))\n",
    "\n",
    "model.summary()"
   ]
  },
  {
   "cell_type": "code",
   "execution_count": 35,
   "metadata": {},
   "outputs": [
    {
     "name": "stdout",
     "output_type": "stream",
     "text": [
      "Epoch 1/100\n",
      "313/313 [==============================] - 14s 38ms/step - loss: 0.6924 - accuracy: 0.5304 - val_loss: 0.6914 - val_accuracy: 0.5642\n",
      "Epoch 2/100\n",
      "313/313 [==============================] - 10s 33ms/step - loss: 0.6905 - accuracy: 0.5687 - val_loss: 0.6893 - val_accuracy: 0.5892\n",
      "Epoch 3/100\n",
      "313/313 [==============================] - 10s 31ms/step - loss: 0.6876 - accuracy: 0.5887 - val_loss: 0.6860 - val_accuracy: 0.6034\n",
      "Epoch 4/100\n",
      "313/313 [==============================] - 10s 33ms/step - loss: 0.6830 - accuracy: 0.6072 - val_loss: 0.6808 - val_accuracy: 0.6104\n",
      "Epoch 5/100\n",
      "313/313 [==============================] - 12s 38ms/step - loss: 0.6757 - accuracy: 0.6205 - val_loss: 0.6726 - val_accuracy: 0.6226\n",
      "Epoch 6/100\n",
      "313/313 [==============================] - 11s 36ms/step - loss: 0.6642 - accuracy: 0.6382 - val_loss: 0.6601 - val_accuracy: 0.6316\n",
      "Epoch 7/100\n",
      "313/313 [==============================] - 10s 33ms/step - loss: 0.6464 - accuracy: 0.6507 - val_loss: 0.6395 - val_accuracy: 0.6540\n",
      "Epoch 8/100\n",
      "313/313 [==============================] - 10s 33ms/step - loss: 0.6173 - accuracy: 0.6728 - val_loss: 0.6061 - val_accuracy: 0.6802\n",
      "Epoch 9/100\n",
      "313/313 [==============================] - 11s 34ms/step - loss: 0.5729 - accuracy: 0.7046 - val_loss: 0.5608 - val_accuracy: 0.7200\n",
      "Epoch 10/100\n",
      "313/313 [==============================] - 12s 37ms/step - loss: 0.5367 - accuracy: 0.7357 - val_loss: 0.5396 - val_accuracy: 0.7366\n",
      "Epoch 11/100\n",
      "313/313 [==============================] - 11s 35ms/step - loss: 0.5193 - accuracy: 0.7496 - val_loss: 0.5279 - val_accuracy: 0.7494\n",
      "Epoch 12/100\n",
      "313/313 [==============================] - 10s 32ms/step - loss: 0.5080 - accuracy: 0.7563 - val_loss: 0.5195 - val_accuracy: 0.7516\n",
      "Epoch 13/100\n",
      "313/313 [==============================] - 12s 39ms/step - loss: 0.4987 - accuracy: 0.7631 - val_loss: 0.5152 - val_accuracy: 0.7596\n",
      "Epoch 14/100\n",
      "313/313 [==============================] - 10s 33ms/step - loss: 0.4914 - accuracy: 0.7681 - val_loss: 0.5078 - val_accuracy: 0.7610\n",
      "Epoch 15/100\n",
      "313/313 [==============================] - 11s 35ms/step - loss: 0.4844 - accuracy: 0.7717 - val_loss: 0.5024 - val_accuracy: 0.7614\n",
      "Epoch 16/100\n",
      "313/313 [==============================] - 11s 34ms/step - loss: 0.4791 - accuracy: 0.7767 - val_loss: 0.4973 - val_accuracy: 0.7650\n",
      "Epoch 17/100\n",
      "313/313 [==============================] - 12s 37ms/step - loss: 0.4740 - accuracy: 0.7784 - val_loss: 0.4941 - val_accuracy: 0.7622\n",
      "Epoch 18/100\n",
      "313/313 [==============================] - 12s 37ms/step - loss: 0.4697 - accuracy: 0.7814 - val_loss: 0.4910 - val_accuracy: 0.7638\n",
      "Epoch 19/100\n",
      "313/313 [==============================] - 11s 35ms/step - loss: 0.4658 - accuracy: 0.7844 - val_loss: 0.4855 - val_accuracy: 0.7714\n",
      "Epoch 20/100\n",
      "313/313 [==============================] - 10s 33ms/step - loss: 0.4617 - accuracy: 0.7876 - val_loss: 0.4837 - val_accuracy: 0.7660\n",
      "Epoch 21/100\n",
      "313/313 [==============================] - 10s 32ms/step - loss: 0.4582 - accuracy: 0.7890 - val_loss: 0.4828 - val_accuracy: 0.7654\n",
      "Epoch 22/100\n",
      "313/313 [==============================] - 10s 34ms/step - loss: 0.4556 - accuracy: 0.7918 - val_loss: 0.4771 - val_accuracy: 0.7752\n",
      "Epoch 23/100\n",
      "313/313 [==============================] - 11s 36ms/step - loss: 0.4526 - accuracy: 0.7941 - val_loss: 0.4763 - val_accuracy: 0.7782\n",
      "Epoch 24/100\n",
      "313/313 [==============================] - 11s 36ms/step - loss: 0.4500 - accuracy: 0.7950 - val_loss: 0.4723 - val_accuracy: 0.7780\n",
      "Epoch 25/100\n",
      "313/313 [==============================] - 10s 32ms/step - loss: 0.4476 - accuracy: 0.7966 - val_loss: 0.4708 - val_accuracy: 0.7778\n",
      "Epoch 26/100\n",
      "313/313 [==============================] - 11s 34ms/step - loss: 0.4454 - accuracy: 0.7975 - val_loss: 0.4677 - val_accuracy: 0.7796\n",
      "Epoch 27/100\n",
      "313/313 [==============================] - 12s 37ms/step - loss: 0.4432 - accuracy: 0.7990 - val_loss: 0.4702 - val_accuracy: 0.7752\n",
      "Epoch 28/100\n",
      "313/313 [==============================] - 10s 32ms/step - loss: 0.4408 - accuracy: 0.7999 - val_loss: 0.4641 - val_accuracy: 0.7784\n",
      "Epoch 29/100\n",
      "313/313 [==============================] - 10s 31ms/step - loss: 0.4393 - accuracy: 0.8012 - val_loss: 0.4643 - val_accuracy: 0.7794\n",
      "Epoch 30/100\n",
      "313/313 [==============================] - 10s 33ms/step - loss: 0.4377 - accuracy: 0.8026 - val_loss: 0.4605 - val_accuracy: 0.7826\n",
      "Epoch 31/100\n",
      "313/313 [==============================] - 10s 32ms/step - loss: 0.4359 - accuracy: 0.8027 - val_loss: 0.4600 - val_accuracy: 0.7834\n",
      "Epoch 32/100\n",
      "313/313 [==============================] - 9s 29ms/step - loss: 0.4340 - accuracy: 0.8049 - val_loss: 0.4582 - val_accuracy: 0.7864\n",
      "Epoch 33/100\n",
      "313/313 [==============================] - 9s 30ms/step - loss: 0.4327 - accuracy: 0.8060 - val_loss: 0.4565 - val_accuracy: 0.7868\n",
      "Epoch 34/100\n",
      "313/313 [==============================] - 10s 31ms/step - loss: 0.4311 - accuracy: 0.8062 - val_loss: 0.4555 - val_accuracy: 0.7882\n",
      "Epoch 35/100\n",
      "313/313 [==============================] - 10s 31ms/step - loss: 0.4298 - accuracy: 0.8080 - val_loss: 0.4540 - val_accuracy: 0.7884\n",
      "Epoch 36/100\n",
      "313/313 [==============================] - 10s 33ms/step - loss: 0.4283 - accuracy: 0.8075 - val_loss: 0.4529 - val_accuracy: 0.7902\n",
      "Epoch 37/100\n",
      "313/313 [==============================] - 10s 33ms/step - loss: 0.4274 - accuracy: 0.8085 - val_loss: 0.4525 - val_accuracy: 0.7906\n",
      "Epoch 38/100\n",
      "313/313 [==============================] - 10s 32ms/step - loss: 0.4260 - accuracy: 0.8098 - val_loss: 0.4535 - val_accuracy: 0.7854\n",
      "Epoch 39/100\n",
      "313/313 [==============================] - 10s 32ms/step - loss: 0.4249 - accuracy: 0.8102 - val_loss: 0.4504 - val_accuracy: 0.7924\n",
      "Epoch 40/100\n",
      "313/313 [==============================] - 10s 31ms/step - loss: 0.4236 - accuracy: 0.8116 - val_loss: 0.4494 - val_accuracy: 0.7928\n",
      "Epoch 41/100\n",
      "313/313 [==============================] - 10s 31ms/step - loss: 0.4226 - accuracy: 0.8123 - val_loss: 0.4498 - val_accuracy: 0.7912\n",
      "Epoch 42/100\n",
      "313/313 [==============================] - 10s 31ms/step - loss: 0.4218 - accuracy: 0.8124 - val_loss: 0.4494 - val_accuracy: 0.7904\n",
      "Epoch 43/100\n",
      "313/313 [==============================] - 10s 31ms/step - loss: 0.4209 - accuracy: 0.8128 - val_loss: 0.4459 - val_accuracy: 0.7930\n",
      "Epoch 44/100\n",
      "313/313 [==============================] - 11s 34ms/step - loss: 0.4202 - accuracy: 0.8130 - val_loss: 0.4459 - val_accuracy: 0.7918\n",
      "Epoch 45/100\n",
      "313/313 [==============================] - 10s 33ms/step - loss: 0.4188 - accuracy: 0.8142 - val_loss: 0.4468 - val_accuracy: 0.7922\n",
      "Epoch 46/100\n",
      "313/313 [==============================] - 10s 32ms/step - loss: 0.4185 - accuracy: 0.8129 - val_loss: 0.4445 - val_accuracy: 0.7936\n",
      "Epoch 47/100\n",
      "313/313 [==============================] - 10s 31ms/step - loss: 0.4177 - accuracy: 0.8140 - val_loss: 0.4440 - val_accuracy: 0.7958\n",
      "Epoch 48/100\n",
      "313/313 [==============================] - 10s 32ms/step - loss: 0.4170 - accuracy: 0.8155 - val_loss: 0.4440 - val_accuracy: 0.7948\n",
      "Epoch 49/100\n",
      "313/313 [==============================] - 10s 33ms/step - loss: 0.4162 - accuracy: 0.8167 - val_loss: 0.4448 - val_accuracy: 0.7934\n",
      "Epoch 50/100\n",
      "313/313 [==============================] - 10s 31ms/step - loss: 0.4157 - accuracy: 0.8154 - val_loss: 0.4446 - val_accuracy: 0.7950\n"
     ]
    }
   ],
   "source": [
    "# 훈련하기\n",
    "\n",
    "rmsprop = keras.optimizers.RMSprop(learning_rate=1e-4)\n",
    "model.compile(\n",
    "    optimizer = rmsprop, \n",
    "    loss = 'binary_crossentropy',\n",
    "    metrics = 'accuracy'\n",
    "    )\n",
    "checkpoint_cb = keras.callbacks.ModelCheckpoint(\"../Data/best-gru-model.h5\")\n",
    "early_stopping_cb = keras.callbacks.EarlyStopping(\n",
    "    patience=3,\n",
    "    restore_best_weights = True\n",
    ")\n",
    "\n",
    "history = model.fit(\n",
    "    train_seq,\n",
    "    train_target,\n",
    "    epochs= 100, # rnn에서 최소 epoch의 값은 100입니다!\n",
    "    batch_size = 64, # mini batch경사 하강법( 64 : 8 X 8 )\n",
    "    validation_data = (val_seq, val_target),\n",
    "    callbacks = [checkpoint_cb, early_stopping_cb]\n",
    "\n",
    ")"
   ]
  },
  {
   "cell_type": "code",
   "execution_count": null,
   "metadata": {},
   "outputs": [],
   "source": []
  }
 ],
 "metadata": {
  "kernelspec": {
   "display_name": "Python 3.9.7 ('base')",
   "language": "python",
   "name": "python3"
  },
  "language_info": {
   "codemirror_mode": {
    "name": "ipython",
    "version": 3
   },
   "file_extension": ".py",
   "mimetype": "text/x-python",
   "name": "python",
   "nbconvert_exporter": "python",
   "pygments_lexer": "ipython3",
   "version": "3.9.7"
  },
  "orig_nbformat": 4,
  "vscode": {
   "interpreter": {
    "hash": "c34e8390e776d2ee205b71ed5a6130fee3cef8da5e87e926ce18e14f4a070d72"
   }
  }
 },
 "nbformat": 4,
 "nbformat_minor": 2
}
