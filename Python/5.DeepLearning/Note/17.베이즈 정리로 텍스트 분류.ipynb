{
 "cells": [
  {
   "cell_type": "markdown",
   "metadata": {},
   "source": [
    "# 텍스트 분류\n",
    "- 베이즈 정리를 이용한 텍스트 분류 방법인 베이지안 필터를 이용\n",
    "- 학습을 많이 시키면 필터의 분류능력이 향상됨\n",
    "- 메일 서비스에서 스팸 메일을 구분하거나 커뮤니트 사이트에서 스팸글을 구분할 때 많이 사용됨\n",
    "- 머신러닝 중 지도 학습에 해당"
   ]
  },
  {
   "cell_type": "code",
   "execution_count": 1,
   "metadata": {},
   "outputs": [],
   "source": [
    "# \"\"\"\n",
    "# Created on Sun Feb  6 01:11:28 2022\n",
    "\n",
    "# @author: kenny\n",
    "# \"\"\"\n",
    "\n",
    "# import math, sys\n",
    "# from konlpy.tag import Okt\n",
    "# class BayesianFilter:\n",
    "#     \"\"\" 베이지안 필터 \"\"\"\n",
    "#     def __init__(self):\n",
    "#         self.words = set() # 출현한 단어 기록\n",
    "#         self.word_dict = {} # 카테고리마다의 출현 횟수 기록\n",
    "#         self.category_dict = {} # 카테고리 출현 횟수 기록\n",
    "\n",
    "#     # 형태소 분석하기 \n",
    "#     def split(self, text):\n",
    "#         results = []\n",
    "#         twitter = Okt()\n",
    "#         # 단어의 기본형 사용\n",
    "#         malist = twitter.pos(text, norm=True, stem=True)\n",
    "#         for word in malist:\n",
    "#             # 어미/조사/구두점 등은 대상에서 제외 \n",
    "#             if not word[1] in [\"Josa\", \"Eomi\", \"Punctuation\"]:\n",
    "#                 results.append(word[0])\n",
    "#         return results\n",
    "\n",
    "#     # 단어와 카테고리의 출현 횟수 세기 \n",
    "#     def inc_word(self, word, category):\n",
    "#         # 단어를 카테고리에 추가하기\n",
    "#         if not category in self.word_dict:\n",
    "#             self.word_dict[category] = {}\n",
    "#         if not word in self.word_dict[category]:\n",
    "#             self.word_dict[category][word] = 0\n",
    "#         self.word_dict[category][word] += 1\n",
    "#         self.words.add(word)\n",
    "\n",
    "#     # 카테고리 계산하기\n",
    "#     def inc_category(self, category):\n",
    "#         if not category in self.category_dict:\n",
    "#             self.category_dict[category] = 0\n",
    "#         self.category_dict[category] += 1\n",
    "    \n",
    "#     # 텍스트 학습하기 \n",
    "#     def fit(self, text, category):\n",
    "#         \"\"\" 텍스트 학습 \"\"\"\n",
    "#         word_list = self.split(text)\n",
    "#         for word in word_list:\n",
    "#             self.inc_word(word, category)\n",
    "#         self.inc_category(category)\n",
    "    \n",
    "#     # 단어 리스트에 점수 매기기\n",
    "#     def score(self, words, category):\n",
    "#         score = math.log(self.category_prob(category))\n",
    "#         for word in words:\n",
    "#             score += math.log(self.word_prob(word, category))\n",
    "#         return score\n",
    "    \n",
    "#     # 예측하기 \n",
    "#     def predict(self, text):\n",
    "#         best_category = None\n",
    "#         max_score = -sys.maxsize \n",
    "#         words = self.split(text)\n",
    "#         score_list = []\n",
    "#         for category in self.category_dict.keys():\n",
    "#             score = self.score(words, category)\n",
    "#             score_list.append((category, score))\n",
    "#             if score > max_score:\n",
    "#                 max_score = score\n",
    "#                 best_category = category\n",
    "#         return best_category, score_list\n",
    "\n",
    "#     # 카테고리 내부의 단어 출현 횟수 구하기\n",
    "#     def get_word_count(self, word, category):\n",
    "#         if word in self.word_dict[category]:\n",
    "#             return self.word_dict[category][word]\n",
    "#         else:\n",
    "#             return 0\n",
    "            \n",
    "#     # 카테고리 계산\n",
    "#     def category_prob(self, category):\n",
    "#         sum_categories = sum(self.category_dict.values())\n",
    "#         category_v = self.category_dict[category]\n",
    "#         return category_v / sum_categories\n",
    "        \n",
    "#     # 카테고리 내부의 단어 출현 비율 계산 \n",
    "#     def word_prob(self, word, category):\n",
    "#         n = self.get_word_count(word, category) + 1 \n",
    "#         d = sum(self.word_dict[category].values()) + len(self.words)\n",
    "#         return n / d\n"
   ]
  },
  {
   "cell_type": "code",
   "execution_count": 4,
   "metadata": {},
   "outputs": [],
   "source": [
    "from bayes import BayesianFilter"
   ]
  },
  {
   "cell_type": "code",
   "execution_count": 5,
   "metadata": {},
   "outputs": [],
   "source": [
    "bf = BayesianFilter()"
   ]
  },
  {
   "cell_type": "code",
   "execution_count": 6,
   "metadata": {},
   "outputs": [],
   "source": [
    "# 텍스트 학습\n",
    "bf.fit(\"파격 세일 - 오늘까지만 30% 할인\", \"광고\")\n",
    "bf.fit(\"쿠폰 선물 & 무료 배송\", \"광고\")\n",
    "bf.fit(\"현대계 백화점 세일\", \"광고\")\n",
    "bf.fit(\"봄과 함께 찾아온 따뜻한 신제품 소식\", \"광고\")\n",
    "bf.fit(\"인기 제품 기간 한정 세일\", \"광고\")\n",
    "bf.fit(\"오늘 일정 확인\", \"중요\")\n",
    "bf.fit(\"프로젝트 진행 상황 보고\",\"중요\")\n",
    "bf.fit(\"계약 잘 부탁드립니다\",\"중요\")\n",
    "bf.fit(\"회의 일정이 등록되었습니다.\",\"중요\")\n",
    "bf.fit(\"오늘 일정이 없습니다.\",\"중요\")"
   ]
  },
  {
   "cell_type": "code",
   "execution_count": 7,
   "metadata": {},
   "outputs": [
    {
     "name": "stdout",
     "output_type": "stream",
     "text": [
      "결과 = 광고\n",
      "[('광고', -19.329379270837773), ('중요', -20.544606748320554)]\n"
     ]
    }
   ],
   "source": [
    "# 예측\n",
    "pre, scorelist = bf.predict(\"재고 정리 할인, 무료 배송\")\n",
    "print(\"결과 =\", pre)\n",
    "print(scorelist)"
   ]
  },
  {
   "cell_type": "code",
   "execution_count": 8,
   "metadata": {},
   "outputs": [
    {
     "name": "stdout",
     "output_type": "stream",
     "text": [
      "결과 = 중요\n",
      "[('광고', -8.97941663334301), ('중요', -7.2474366465442985)]\n"
     ]
    }
   ],
   "source": [
    "# 예측\n",
    "pre, scorelist = bf.predict(\"회의, 프로젝트\")\n",
    "print(\"결과 =\", pre)\n",
    "print(scorelist)"
   ]
  },
  {
   "cell_type": "markdown",
   "metadata": {},
   "source": [
    "> 데이터가 많아지면 상당히 똑똑해진다."
   ]
  }
 ],
 "metadata": {
  "kernelspec": {
   "display_name": "Python 3.9.7 ('base')",
   "language": "python",
   "name": "python3"
  },
  "language_info": {
   "codemirror_mode": {
    "name": "ipython",
    "version": 3
   },
   "file_extension": ".py",
   "mimetype": "text/x-python",
   "name": "python",
   "nbconvert_exporter": "python",
   "pygments_lexer": "ipython3",
   "version": "3.9.7"
  },
  "orig_nbformat": 4,
  "vscode": {
   "interpreter": {
    "hash": "c34e8390e776d2ee205b71ed5a6130fee3cef8da5e87e926ce18e14f4a070d72"
   }
  }
 },
 "nbformat": 4,
 "nbformat_minor": 2
}
