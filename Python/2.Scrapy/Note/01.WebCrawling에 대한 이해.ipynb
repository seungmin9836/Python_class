{
 "cells": [
  {
   "cell_type": "markdown",
   "metadata": {},
   "source": [
    "# Web Crawling 이란?\n",
    "- Web Scrapling이라고도 하며 Computer Software기술로 각종 웹 사이트들에서 원하는 정보를 추출하는 것을 의미\n",
    "- 선행 학습 : Python 기초, HTML, CSS, JavaScript 구조 및 Tag"
   ]
  },
  {
   "cell_type": "markdown",
   "metadata": {},
   "source": [
    "# Web Crawling 기법\n",
    "- HTML Page를 가져와서 HTML/CSS등을 Parsing하고 필요한 데이터만 추출하는 기법.\n",
    "- Open API(Rest API)를 제공하는 서비스에 Open API를 호출해서 받은 데이터 중 필요한 데이터만 추출하는 기법\n",
    "- Web Browser를 Programming으로 조작해서 필요한 데이터만 추출하는 기법"
   ]
  },
  {
   "cell_type": "markdown",
   "metadata": {},
   "source": [
    "# Web Crawling의 합법 여부 판단\n",
    "- Site 명 뒤에 /robots.txt를 쓰고 실행하여 허용범위 확인\n",
    "- Job Korea vs. 사람인\n",
    "- 야놀자 vs. 여기어때"
   ]
  },
  {
   "cell_type": "markdown",
   "metadata": {},
   "source": []
  }
 ],
 "metadata": {
  "kernelspec": {
   "display_name": "Python 3.9.7 ('base')",
   "language": "python",
   "name": "python3"
  },
  "language_info": {
   "name": "python",
   "version": "3.9.7"
  },
  "orig_nbformat": 4,
  "vscode": {
   "interpreter": {
    "hash": "c34e8390e776d2ee205b71ed5a6130fee3cef8da5e87e926ce18e14f4a070d72"
   }
  }
 },
 "nbformat": 4,
 "nbformat_minor": 2
}
