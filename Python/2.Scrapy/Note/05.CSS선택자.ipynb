{
 "cells": [
  {
   "cell_type": "code",
   "execution_count": 12,
   "metadata": {},
   "outputs": [
    {
     "name": "stdout",
     "output_type": "stream",
     "text": [
      "https://ko.wikisource.org/wiki/저자:윤동주\n"
     ]
    }
   ],
   "source": [
    "from urllib import parse\n",
    "url = \"https://ko.wikisource.org/wiki/%EC%A0%80%EC%9E%90:%EC%9C%A4%EB%8F%99%EC%A3%BC\"\n",
    "ulr = parse.quote(url)\n",
    "\n",
    "print(url)"
   ]
  },
  {
   "cell_type": "code",
   "execution_count": 13,
   "metadata": {},
   "outputs": [
    {
     "name": "stdout",
     "output_type": "stream",
     "text": [
      "https://ko.wikisource.org/wiki/%EC%A0%80%EC%9E%90:%EC%9C%A4%EB%8F%99%EC%A3%BC\n"
     ]
    }
   ],
   "source": [
    "from bs4 import BeautifulSoup\n",
    "import urllib.request as req\n",
    "from urllib import parse\n",
    "# 꼭 url은 parse를 해줘야된다!\n",
    "auth = \"저자\"\n",
    "name = \"윤동주\"\n",
    "\n",
    "url = \"https://ko.wikisource.org/wiki/\"\n",
    "url = url + parse.quote(auth) + \":\" + parse.quote(name)\n",
    "\n",
    "print(url)"
   ]
  },
  {
   "cell_type": "code",
   "execution_count": 14,
   "metadata": {},
   "outputs": [],
   "source": [
    "# Library\n",
    "\n",
    "from bs4 import BeautifulSoup\n",
    "import urllib.request as req\n",
    "\n",
    "# Site Address\n",
    "\n",
    "url = \"https://ko.wikisource.org/wiki/%EC%A0%80%EC%9E%90:%EC%9C%A4%EB%8F%99%EC%A3%BC\"\n",
    "\n",
    "# urlOpen\n",
    "res = req.urlopen(url)\n",
    "\n",
    "# BeautifulSoup으로 분석하기\n",
    "soup = BeautifulSoup(res, \"html.parser\")"
   ]
  },
  {
   "cell_type": "code",
   "execution_count": 37,
   "metadata": {},
   "outputs": [
    {
     "name": "stdout",
     "output_type": "stream",
     "text": [
      "[<a href=\"/wiki/%ED%95%98%EB%8A%98%EA%B3%BC_%EB%B0%94%EB%9E%8C%EA%B3%BC_%EB%B3%84%EA%B3%BC_%EC%8B%9C\" title=\"하늘과 바람과 별과 시\">하늘과 바람과 별과 시</a>, <a href=\"/wiki/%ED%95%98%EB%8A%98%EA%B3%BC_%EB%B0%94%EB%9E%8C%EA%B3%BC_%EB%B3%84%EA%B3%BC_%EC%8B%9C_(1955%EB%85%84)\" title=\"하늘과 바람과 별과 시 (1955년)\">증보판</a>, <a href=\"/wiki/%ED%95%98%EB%8A%98%EA%B3%BC_%EB%B0%94%EB%9E%8C%EA%B3%BC_%EB%B3%84%EA%B3%BC_%EC%8B%9C/%EC%84%9C%EC%8B%9C\" title=\"하늘과 바람과 별과 시/서시\">서시</a>, <a href=\"/wiki/%ED%95%98%EB%8A%98%EA%B3%BC_%EB%B0%94%EB%9E%8C%EA%B3%BC_%EB%B3%84%EA%B3%BC_%EC%8B%9C/%EC%9E%90%ED%99%94%EC%83%81\" title=\"하늘과 바람과 별과 시/자화상\">자화상</a>, <a href=\"/wiki/%ED%95%98%EB%8A%98%EA%B3%BC_%EB%B0%94%EB%9E%8C%EA%B3%BC_%EB%B3%84%EA%B3%BC_%EC%8B%9C/%EC%86%8C%EB%85%84\" title=\"하늘과 바람과 별과 시/소년\">소년</a>, <a href=\"/wiki/%ED%95%98%EB%8A%98%EA%B3%BC_%EB%B0%94%EB%9E%8C%EA%B3%BC_%EB%B3%84%EA%B3%BC_%EC%8B%9C/%EB%88%88_%EC%98%A4%EB%8A%94_%EC%A7%80%EB%8F%84\" title=\"하늘과 바람과 별과 시/눈 오는 지도\">눈 오는 지도</a>, <a href=\"/wiki/%ED%95%98%EB%8A%98%EA%B3%BC_%EB%B0%94%EB%9E%8C%EA%B3%BC_%EB%B3%84%EA%B3%BC_%EC%8B%9C/%EB%8F%8C%EC%95%84%EC%99%80_%EB%B3%B4%EB%8A%94_%EB%B0%A4\" title=\"하늘과 바람과 별과 시/돌아와 보는 밤\">돌아와 보는 밤</a>, <a href=\"/wiki/%ED%95%98%EB%8A%98%EA%B3%BC_%EB%B0%94%EB%9E%8C%EA%B3%BC_%EB%B3%84%EA%B3%BC_%EC%8B%9C/%EB%B3%91%EC%9B%90\" title=\"하늘과 바람과 별과 시/병원\">병원</a>, <a href=\"/wiki/%ED%95%98%EB%8A%98%EA%B3%BC_%EB%B0%94%EB%9E%8C%EA%B3%BC_%EB%B3%84%EA%B3%BC_%EC%8B%9C/%EC%83%88%EB%A1%9C%EC%9A%B4_%EA%B8%B8\" title=\"하늘과 바람과 별과 시/새로운 길\">새로운 길</a>, <a href=\"/wiki/%ED%95%98%EB%8A%98%EA%B3%BC_%EB%B0%94%EB%9E%8C%EA%B3%BC_%EB%B3%84%EA%B3%BC_%EC%8B%9C/%EA%B0%84%ED%8C%90_%EC%97%86%EB%8A%94_%EA%B1%B0%EB%A6%AC\" title=\"하늘과 바람과 별과 시/간판 없는 거리\">간판 없는 거리</a>, <a href=\"/wiki/%ED%95%98%EB%8A%98%EA%B3%BC_%EB%B0%94%EB%9E%8C%EA%B3%BC_%EB%B3%84%EA%B3%BC_%EC%8B%9C/%ED%83%9C%EC%B4%88%EC%9D%98_%EC%95%84%EC%B9%A8\" title=\"하늘과 바람과 별과 시/태초의 아침\">태초의 아침</a>, <a href=\"/wiki/%ED%95%98%EB%8A%98%EA%B3%BC_%EB%B0%94%EB%9E%8C%EA%B3%BC_%EB%B3%84%EA%B3%BC_%EC%8B%9C/%EB%98%90_%ED%83%9C%EC%B4%88%EC%9D%98_%EC%95%84%EC%B9%A8\" title=\"하늘과 바람과 별과 시/또 태초의 아침\">또 태초의 아침</a>, <a href=\"/wiki/%ED%95%98%EB%8A%98%EA%B3%BC_%EB%B0%94%EB%9E%8C%EA%B3%BC_%EB%B3%84%EA%B3%BC_%EC%8B%9C/%EC%83%88%EB%B2%BD%EC%9D%B4_%EC%98%AC_%EB%95%8C%EA%B9%8C%EC%A7%80\" title=\"하늘과 바람과 별과 시/새벽이 올 때까지\">새벽이 올 때까지</a>, <a href=\"/wiki/%ED%95%98%EB%8A%98%EA%B3%BC_%EB%B0%94%EB%9E%8C%EA%B3%BC_%EB%B3%84%EA%B3%BC_%EC%8B%9C/%EB%AC%B4%EC%84%9C%EC%9A%B4_%EC%8B%9C%EA%B0%84\" title=\"하늘과 바람과 별과 시/무서운 시간\">무서운 시간</a>, <a href=\"/wiki/%ED%95%98%EB%8A%98%EA%B3%BC_%EB%B0%94%EB%9E%8C%EA%B3%BC_%EB%B3%84%EA%B3%BC_%EC%8B%9C/%EC%8B%AD%EC%9E%90%EA%B0%80\" title=\"하늘과 바람과 별과 시/십자가\">십자가</a>, <a href=\"/wiki/%ED%95%98%EB%8A%98%EA%B3%BC_%EB%B0%94%EB%9E%8C%EA%B3%BC_%EB%B3%84%EA%B3%BC_%EC%8B%9C/%EB%B0%94%EB%9E%8C%EC%9D%B4_%EB%B6%88%EC%96%B4\" title=\"하늘과 바람과 별과 시/바람이 불어\">바람이 불어</a>, <a href=\"/wiki/%ED%95%98%EB%8A%98%EA%B3%BC_%EB%B0%94%EB%9E%8C%EA%B3%BC_%EB%B3%84%EA%B3%BC_%EC%8B%9C/%EC%8A%AC%ED%94%88_%EC%A1%B1%EC%86%8D\" title=\"하늘과 바람과 별과 시/슬픈 족속\">슬픈 족속</a>, <a href=\"/wiki/%ED%95%98%EB%8A%98%EA%B3%BC_%EB%B0%94%EB%9E%8C%EA%B3%BC_%EB%B3%84%EA%B3%BC_%EC%8B%9C/%EB%88%88%EA%B0%90%EA%B3%A0_%EA%B0%84%EB%8B%A4\" title=\"하늘과 바람과 별과 시/눈감고 간다\">눈감고 간다</a>, <a href=\"/wiki/%ED%95%98%EB%8A%98%EA%B3%BC_%EB%B0%94%EB%9E%8C%EA%B3%BC_%EB%B3%84%EA%B3%BC_%EC%8B%9C/%EB%98%90_%EB%8B%A4%EB%A5%B8_%EA%B3%A0%ED%96%A5\" title=\"하늘과 바람과 별과 시/또 다른 고향\">또 다른 고향</a>, <a href=\"/wiki/%ED%95%98%EB%8A%98%EA%B3%BC_%EB%B0%94%EB%9E%8C%EA%B3%BC_%EB%B3%84%EA%B3%BC_%EC%8B%9C/%EA%B8%B8\" title=\"하늘과 바람과 별과 시/길\">길</a>, <a href=\"/wiki/%ED%95%98%EB%8A%98%EA%B3%BC_%EB%B0%94%EB%9E%8C%EA%B3%BC_%EB%B3%84%EA%B3%BC_%EC%8B%9C/%EB%B3%84_%ED%97%A4%EB%8A%94_%EB%B0%A4\" title=\"하늘과 바람과 별과 시/별 헤는 밤\">별 헤는 밤</a>, <a class=\"mw-redirect\" href=\"/wiki/%ED%9D%B0_%EA%B7%B8%EB%A6%BC%EC%9E%90\" title=\"흰 그림자\">흰 그림자</a>, <a href=\"/wiki/%EC%82%AC%EB%9E%91%EC%8A%A4%EB%9F%B0_%EC%B6%94%EC%96%B5\" title=\"사랑스런 추억\">사랑스런 추억</a>, <a class=\"mw-redirect\" href=\"/wiki/%ED%9D%90%EB%A5%B4%EB%8A%94_%EA%B1%B0%EB%A6%AC\" title=\"흐르는 거리\">흐르는 거리</a>, <a href=\"/wiki/%EC%89%BD%EA%B2%8C_%EC%94%8C%EC%96%B4%EC%A7%84_%EC%8B%9C\" title=\"쉽게 씌어진 시\">쉽게 씌어진 시</a>, <a class=\"mw-redirect\" href=\"/wiki/%EB%B4%84_(%EC%9C%A4%EB%8F%99%EC%A3%BC)\" title=\"봄 (윤동주)\">봄</a>, <a href=\"/wiki/%EC%B0%B8%ED%9A%8C%EB%A1%9D\" title=\"참회록\">참회록</a>, <a href=\"/wiki/%EA%B0%84\" title=\"간\">간(肝)</a>, <a class=\"mw-redirect\" href=\"/wiki/%EC%9C%84%EB%A1%9C\" title=\"위로\">위로</a>, <a class=\"mw-redirect\" href=\"/wiki/%ED%8C%94%EB%B3%B5\" title=\"팔복\">팔복</a>, <a class=\"mw-redirect\" href=\"/wiki/%EB%AA%BB%EC%9E%90%EB%8A%94%EB%B0%A4\" title=\"못자는밤\">못자는밤</a>, <a class=\"mw-redirect\" href=\"/wiki/%EB%8B%AC%EA%B0%99%EC%9D%B4\" title=\"달같이\">달같이</a>, <a class=\"mw-redirect\" href=\"/wiki/%EA%B3%A0%EC%B6%94%EB%B0%AD\" title=\"고추밭\">고추밭</a>, <a class=\"mw-redirect\" href=\"/wiki/%EC%95%84%EC%9A%B0%EC%9D%98_%EC%9D%B8%EC%83%81%ED%99%94\" title=\"아우의 인상화\">아우의 인상화</a>, <a class=\"mw-redirect\" href=\"/wiki/%EC%82%AC%EB%9E%91%EC%9D%98_%EC%A0%84%EB%8B%B9\" title=\"사랑의 전당\">사랑의 전당</a>, <a class=\"mw-redirect\" href=\"/wiki/%EC%9D%B4%EC%A0%81_(%EC%9C%A4%EB%8F%99%EC%A3%BC)\" title=\"이적 (윤동주)\">이적</a>, <a class=\"mw-redirect\" href=\"/wiki/%EB%B9%84%EC%98%A4%EB%8A%94_%EB%B0%A4\" title=\"비오는 밤\">비오는 밤</a>, <a class=\"mw-redirect\" href=\"/wiki/%EC%82%B0%EA%B3%A8%EB%AC%BC\" title=\"산골물\">산골물</a>, <a class=\"mw-redirect\" href=\"/wiki/%EC%9C%A0%EC%96%B8_(%EC%9C%A4%EB%8F%99%EC%A3%BC)\" title=\"유언 (윤동주)\">유언</a>, <a class=\"mw-redirect\" href=\"/wiki/%EC%B0%BD_(%EC%9C%A4%EB%8F%99%EC%A3%BC)\" title=\"창 (윤동주)\">창</a>, <a class=\"mw-redirect\" href=\"/wiki/%EB%B0%94%EB%8B%A4_(%EC%9C%A4%EB%8F%99%EC%A3%BC)\" title=\"바다 (윤동주)\">바다</a>, <a class=\"mw-redirect\" href=\"/wiki/%EB%B9%84%EB%A1%9C%EB%B4%89_(%EC%9C%A4%EB%8F%99%EC%A3%BC)\" title=\"비로봉 (윤동주)\">비로봉</a>, <a class=\"mw-redirect\" href=\"/wiki/%EC%82%B0%ED%98%91%EC%9D%98_%EC%98%A4%ED%9B%84\" title=\"산협의 오후\">산협의 오후</a>, <a class=\"mw-redirect\" href=\"/wiki/%EB%AA%85%EC%83%81_(%EC%9C%A4%EB%8F%99%EC%A3%BC)\" title=\"명상 (윤동주)\">명상</a>, <a class=\"mw-redirect\" href=\"/wiki/%EC%86%8C%EB%82%99%EB%B9%84_(%EC%9C%A4%EB%8F%99%EC%A3%BC)\" title=\"소낙비 (윤동주)\">소낙비</a>, <a class=\"mw-redirect\" href=\"/wiki/%ED%95%9C%EB%82%9C%EA%B3%84\" title=\"한난계\">한난계</a>, <a class=\"mw-redirect\" href=\"/wiki/%ED%92%8D%EA%B2%BD\" title=\"풍경\">풍경</a>, <a class=\"mw-redirect\" href=\"/wiki/%EB%8B%AC%EB%B0%A4_(%EC%9C%A4%EB%8F%99%EC%A3%BC)\" title=\"달밤 (윤동주)\">달밤</a>, <a class=\"mw-redirect\" href=\"/wiki/%EC%9E%A5_(%EC%9C%A4%EB%8F%99%EC%A3%BC)\" title=\"장 (윤동주)\">장</a>, <a class=\"mw-redirect\" href=\"/wiki/%EB%B0%A4_(%EC%9C%A4%EB%8F%99%EC%A3%BC)\" title=\"밤 (윤동주)\">밤</a>, <a class=\"mw-redirect\" href=\"/wiki/%ED%99%A9%ED%98%BC%EC%9D%B4_%EB%B0%94%EB%8B%A4%EA%B0%80_%EB%90%98%EC%96%B4\" title=\"황혼이 바다가 되어\">황혼이 바다가 되어</a>, <a class=\"mw-redirect\" href=\"/wiki/%EC%95%84%EC%B9%A8_(%EC%9C%A4%EB%8F%99%EC%A3%BC)\" title=\"아침 (윤동주)\">아침</a>, <a class=\"mw-redirect\" href=\"/wiki/%EB%B9%A8%EB%9E%98\" title=\"빨래\">빨래</a>, <a class=\"mw-redirect\" href=\"/wiki/%EA%BF%88%EC%9D%80_%EA%B9%A8%EC%96%B4%EC%A7%80%EA%B3%A0\" title=\"꿈은 깨어지고\">꿈은 깨어지고</a>, <a class=\"mw-redirect\" href=\"/wiki/%EC%82%B0%EB%A6%BC_(%EC%9C%A4%EB%8F%99%EC%A3%BC)\" title=\"산림 (윤동주)\">산림</a>, <a class=\"mw-redirect\" href=\"/wiki/%EC%9D%B4%EB%9F%B0%EB%82%A0\" title=\"이런날\">이런날</a>, <a class=\"mw-redirect\" href=\"/wiki/%EC%82%B0%EC%83%81\" title=\"산상\">산상</a>, <a class=\"mw-redirect\" href=\"/wiki/%EC%96%91%EC%A7%80%EC%AA%BD\" title=\"양지쪽\">양지쪽</a>, <a class=\"mw-redirect\" href=\"/wiki/%EB%8B%AD_(%EC%9C%A4%EB%8F%99%EC%A3%BC)\" title=\"닭 (윤동주)\">닭</a>, <a class=\"mw-redirect\" href=\"/wiki/%EA%B0%80%EC%8A%B4_1\" title=\"가슴 1\">가슴 1</a>, <a class=\"mw-redirect\" href=\"/wiki/%EA%B0%80%EC%8A%B4_2\" title=\"가슴 2\">가슴 2</a>, <a class=\"mw-redirect\" href=\"/wiki/%EB%B9%84%EB%91%98%EA%B8%B0_(%EC%9C%A4%EB%8F%99%EC%A3%BC)\" title=\"비둘기 (윤동주)\">비둘기</a>, <a class=\"mw-redirect\" href=\"/wiki/%ED%99%A9%ED%98%BC_(%EC%9C%A4%EB%8F%99%EC%A3%BC)\" title=\"황혼 (윤동주)\">황혼</a>, <a class=\"mw-redirect\" href=\"/wiki/%EB%82%A8%EC%AA%BD_%ED%95%98%EB%8A%98\" title=\"남쪽 하늘\">남쪽 하늘</a>, <a class=\"mw-redirect\" href=\"/wiki/%EC%B0%BD%EA%B3%B5\" title=\"창공\">창공</a>, <a class=\"mw-redirect\" href=\"/wiki/%EA%B1%B0%EB%A6%AC%EC%97%90%EC%84%9C\" title=\"거리에서\">거리에서</a>, <a href=\"/wiki/%EC%82%B6%EA%B3%BC_%EC%A3%BD%EC%9D%8C\" title=\"삶과 죽음\">삶과 죽음</a>, <a class=\"mw-redirect\" href=\"/wiki/%EC%B4%88%ED%95%9C%EB%8C%80\" title=\"초한대\">초한대</a>, <a class=\"mw-redirect\" href=\"/wiki/%EC%82%B0%EC%9A%B8%EB%A6%BC\" title=\"산울림\">산울림</a>, <a class=\"mw-redirect\" href=\"/wiki/%ED%95%B4%EB%B0%94%EB%9D%BC%EA%B8%B0_%EC%96%BC%EA%B5%B4\" title=\"해바라기 얼굴\">해바라기 얼굴</a>, <a class=\"mw-redirect\" href=\"/wiki/%EA%B7%80%EB%9A%9C%EB%9D%BC%EB%AF%B8%EC%99%80_%EB%82%98%EC%99%80\" title=\"귀뚜라미와 나와\">귀뚜라미와 나와</a>, <a class=\"mw-redirect\" href=\"/wiki/%EC%95%A0%EA%B8%B0%EC%9D%98_%EC%83%88%EB%B2%BD\" title=\"애기의 새벽\">애기의 새벽</a>, <a class=\"mw-redirect\" href=\"/wiki/%ED%96%87%EB%B9%9B%C2%B7%EB%B0%94%EB%9E%8C\" title=\"햇빛·바람\">햇빛·바람</a>, <a class=\"mw-redirect\" href=\"/wiki/%EB%B0%98%EB%94%94%EB%B6%88\" title=\"반디불\">반디불</a>, <a class=\"mw-redirect\" href=\"/wiki/%EB%91%98_%EB%8B%A4\" title=\"둘 다\">둘 다</a>, <a class=\"mw-redirect\" href=\"/wiki/%EA%B1%B0%EC%A7%93%EB%B6%80%EB%A6%AC\" title=\"거짓부리\">거짓부리</a>, <a class=\"mw-redirect\" href=\"/wiki/%EB%88%88_(%EC%9C%A4%EB%8F%99%EC%A3%BC)\" title=\"눈 (윤동주)\">눈</a>, <a class=\"mw-redirect\" href=\"/wiki/%EC%B0%B8%EC%83%88_(%EC%9C%A4%EB%8F%99%EC%A3%BC)\" title=\"참새 (윤동주)\">참새</a>, <a class=\"mw-redirect\" href=\"/wiki/%EB%B2%84%EC%84%A0%EB%B3%B8\" title=\"버선본\">버선본</a>, <a class=\"mw-redirect\" href=\"/wiki/%ED%8E%B8%EC%A7%80_(%EC%9C%A4%EB%8F%99%EC%A3%BC)\" title=\"편지 (윤동주)\">편지</a>, <a class=\"mw-redirect\" href=\"/wiki/%EB%B4%84_2_(%EC%9C%A4%EB%8F%99%EC%A3%BC)\" title=\"봄 2 (윤동주)\">봄</a>, <a class=\"mw-redirect\" href=\"/wiki/%EB%AC%B4%EC%96%BC_%EB%A8%B9%EA%B5%AC_%EC%82%AC%EB%82%98\" title=\"무얼 먹구 사나\">무얼 먹구 사나</a>, <a class=\"mw-redirect\" href=\"/wiki/%EA%B5%B4%EB%9A%9D_(%EC%9C%A4%EB%8F%99%EC%A3%BC)\" title=\"굴뚝 (윤동주)\">굴뚝</a>, <a class=\"mw-redirect\" href=\"/wiki/%ED%96%87%EB%B9%84\" title=\"햇비\">햇비</a>, <a class=\"mw-redirect\" href=\"/wiki/%EB%B9%97%EC%9E%90%EB%A3%A8\" title=\"빗자루\">빗자루</a>, <a class=\"mw-redirect\" href=\"/wiki/%EA%B8%B0%EC%99%93%EC%9E%A5_%EB%82%B4%EC%99%B8\" title=\"기왓장 내외\">기왓장 내외</a>, <a class=\"mw-redirect\" href=\"/wiki/%EC%98%A4%EC%A4%8C%EC%8B%B8%EA%B0%9C_%EC%A7%80%EB%8F%84\" title=\"오줌싸개 지도\">오줌싸개 지도</a>, <a class=\"mw-redirect\" href=\"/wiki/%EB%B3%91%EC%95%84%EB%A6%AC\" title=\"병아리\">병아리</a>, <a class=\"mw-redirect\" href=\"/wiki/%EC%A1%B0%EA%B0%9C%EA%BB%8D%EC%A7%88\" title=\"조개껍질\">조개껍질</a>, <a class=\"mw-redirect\" href=\"/wiki/%EA%B2%A8%EC%9A%B8_(%EC%9C%A4%EB%8F%99%EC%A3%BC)\" title=\"겨울 (윤동주)\">겨울</a>, <a class=\"mw-redirect\" href=\"/wiki/%ED%8A%B8%EB%A3%A8%EA%B2%8C%EB%84%A4%ED%94%84%EC%9D%98_%EC%96%B8%EB%8D%95\" title=\"트루게네프의 언덕\">트루게네프의 언덕</a>, <a href=\"/wiki/%EB%8B%AC%EC%9D%84_%EC%8F%98%EB%8B%A4\" title=\"달을 쏘다\">달을 쏘다</a>, <a href=\"/wiki/%EB%B3%84%EB%98%A5_%EB%96%A8%EC%96%B4%EC%A7%84_%EB%8D%B0\" title=\"별똥 떨어진 데\">별똥 떨어진 데</a>, <a class=\"mw-redirect\" href=\"/wiki/%ED%99%94%EC%9B%90%EC%97%90_%EA%BD%83%EC%9D%B4_%ED%95%80%EB%8B%A4\" title=\"화원에 꽃이 핀다\">화원에 꽃이 핀다</a>, <a href=\"/wiki/%EC%A2%85%EC%8B%9C\" title=\"종시\">종시</a>]\n"
     ]
    }
   ],
   "source": [
    "\n",
    "poem_list = soup.select(\"div.mw-parser-output > ul li a\")\n",
    "print(poem_list)\n",
    "    # 만약 a 클래스 안에있는 타이틀을 가져오고 싶을때 attrs[] 사용하자\n",
    "        # poem_list1[0].attrs['title']"
   ]
  },
  {
   "cell_type": "code",
   "execution_count": 41,
   "metadata": {},
   "outputs": [
    {
     "name": "stdout",
     "output_type": "stream",
     "text": [
      "- 하늘과 바람과 별과 시\n",
      "- 서시\n",
      "- 자화상\n",
      "- 소년\n",
      "- 눈 오는 지도\n",
      "- 돌아와 보는 밤\n",
      "- 병원\n",
      "- 새로운 길\n",
      "- 간판 없는 거리\n",
      "- 태초의 아침\n",
      "- 또 태초의 아침\n",
      "- 새벽이 올 때까지\n",
      "- 무서운 시간\n",
      "- 십자가\n",
      "- 바람이 불어\n",
      "- 슬픈 족속\n",
      "- 눈감고 간다\n",
      "- 또 다른 고향\n",
      "- 길\n",
      "- 별 헤는 밤\n",
      "- 흰 그림자\n",
      "- 사랑스런 추억\n",
      "- 흐르는 거리\n",
      "- 쉽게 씌어진 시\n",
      "- 봄\n",
      "- 참회록\n",
      "- 간(肝)\n",
      "- 위로\n",
      "- 팔복\n",
      "- 못자는밤\n",
      "- 달같이\n",
      "- 고추밭\n",
      "- 아우의 인상화\n",
      "- 사랑의 전당\n",
      "- 이적\n",
      "- 비오는 밤\n",
      "- 산골물\n",
      "- 유언\n",
      "- 창\n",
      "- 바다\n",
      "- 비로봉\n",
      "- 산협의 오후\n",
      "- 명상\n",
      "- 소낙비\n",
      "- 한난계\n",
      "- 풍경\n",
      "- 달밤\n",
      "- 장\n",
      "- 밤\n",
      "- 황혼이 바다가 되어\n",
      "- 아침\n",
      "- 빨래\n",
      "- 꿈은 깨어지고\n",
      "- 산림\n",
      "- 이런날\n",
      "- 산상\n",
      "- 양지쪽\n",
      "- 닭\n",
      "- 가슴 1\n",
      "- 가슴 2\n",
      "- 비둘기\n",
      "- 황혼\n",
      "- 남쪽 하늘\n",
      "- 창공\n",
      "- 거리에서\n",
      "- 삶과 죽음\n",
      "- 초한대\n",
      "- 산울림\n",
      "- 해바라기 얼굴\n",
      "- 귀뚜라미와 나와\n",
      "- 애기의 새벽\n",
      "- 햇빛·바람\n",
      "- 반디불\n",
      "- 둘 다\n",
      "- 거짓부리\n",
      "- 눈\n",
      "- 참새\n",
      "- 버선본\n",
      "- 편지\n",
      "- 봄\n",
      "- 무얼 먹구 사나\n",
      "- 굴뚝\n",
      "- 햇비\n",
      "- 빗자루\n",
      "- 기왓장 내외\n",
      "- 오줌싸개 지도\n",
      "- 병아리\n",
      "- 조개껍질\n",
      "- 겨울\n",
      "- 트루게네프의 언덕\n",
      "- 달을 쏘다\n",
      "- 별똥 떨어진 데\n",
      "- 화원에 꽃이 핀다\n",
      "- 종시\n"
     ]
    }
   ],
   "source": [
    "for i in range(len(poem_list)):\n",
    "    if i != 1:\n",
    "        print('-',poem_list[i].string)"
   ]
  },
  {
   "cell_type": "code",
   "execution_count": 42,
   "metadata": {},
   "outputs": [],
   "source": [
    "# 쌤 풀이버전\n",
    "\n",
    "# Library\n",
    "\n",
    "from bs4 import BeautifulSoup\n",
    "import urllib.request as req\n",
    "\n",
    "# Site Address\n",
    "\n",
    "url = \"https://ko.wikisource.org/wiki/%EC%A0%80%EC%9E%90:%EC%9C%A4%EB%8F%99%EC%A3%BC\"\n",
    "\n",
    "# urlOpen\n",
    "res = req.urlopen(url)\n",
    "\n",
    "# BeautifulSoup으로 분석하기\n",
    "soup = BeautifulSoup(res, \"html.parser\")   "
   ]
  },
  {
   "cell_type": "code",
   "execution_count": null,
   "metadata": {},
   "outputs": [],
   "source": [
    "# 하늘과 바람과 별과 시 부분\n",
    "#mw-content-text > div.mw-parser-output > ul:nth-child(6) > li > a\n",
    "# 서시 부분\n",
    "#mw-content-text > div.mw-parser-output > ul:nth-child(6) > li > ul > li:nth-child(1) > a"
   ]
  },
  {
   "cell_type": "code",
   "execution_count": 47,
   "metadata": {},
   "outputs": [
    {
     "name": "stdout",
     "output_type": "stream",
     "text": [
      "<a href=\"/wiki/%ED%95%98%EB%8A%98%EA%B3%BC_%EB%B0%94%EB%9E%8C%EA%B3%BC_%EB%B3%84%EA%B3%BC_%EC%8B%9C\" title=\"하늘과 바람과 별과 시\">하늘과 바람과 별과 시</a>\n",
      "\n",
      "하늘과 바람과 별과 시\n"
     ]
    }
   ],
   "source": [
    "# \n",
    "a_list = soup.select(\"#mw-content-text > div.mw-parser-output > ul > li a\")\n",
    "# a 클래스로 감싸져있는 값\n",
    "print(a_list[0])\n",
    "print()\n",
    "# a 클래스안에 title값\n",
    "print(a_list[0]['title'])"
   ]
  },
  {
   "cell_type": "code",
   "execution_count": 49,
   "metadata": {},
   "outputs": [
    {
     "name": "stdout",
     "output_type": "stream",
     "text": [
      "_ 하늘과 바람과 별과 시\n",
      "_ 서시\n",
      "_ 자화상\n",
      "_ 소년\n",
      "_ 눈 오는 지도\n",
      "_ 돌아와 보는 밤\n",
      "_ 병원\n",
      "_ 새로운 길\n",
      "_ 간판 없는 거리\n",
      "_ 태초의 아침\n",
      "_ 또 태초의 아침\n",
      "_ 새벽이 올 때까지\n",
      "_ 무서운 시간\n",
      "_ 십자가\n",
      "_ 바람이 불어\n",
      "_ 슬픈 족속\n",
      "_ 눈감고 간다\n",
      "_ 또 다른 고향\n",
      "_ 길\n",
      "_ 별 헤는 밤\n",
      "_ 흰 그림자\n",
      "_ 사랑스런 추억\n",
      "_ 흐르는 거리\n",
      "_ 쉽게 씌어진 시\n",
      "_ 봄\n",
      "_ 참회록\n",
      "_ 간(肝)\n",
      "_ 위로\n",
      "_ 팔복\n",
      "_ 못자는밤\n",
      "_ 달같이\n",
      "_ 고추밭\n",
      "_ 아우의 인상화\n",
      "_ 사랑의 전당\n",
      "_ 이적\n",
      "_ 비오는 밤\n",
      "_ 산골물\n",
      "_ 유언\n",
      "_ 창\n",
      "_ 바다\n",
      "_ 비로봉\n",
      "_ 산협의 오후\n",
      "_ 명상\n",
      "_ 소낙비\n",
      "_ 한난계\n",
      "_ 풍경\n",
      "_ 달밤\n",
      "_ 장\n",
      "_ 밤\n",
      "_ 황혼이 바다가 되어\n",
      "_ 아침\n",
      "_ 빨래\n",
      "_ 꿈은 깨어지고\n",
      "_ 산림\n",
      "_ 이런날\n",
      "_ 산상\n",
      "_ 양지쪽\n",
      "_ 닭\n",
      "_ 가슴 1\n",
      "_ 가슴 2\n",
      "_ 비둘기\n",
      "_ 황혼\n",
      "_ 남쪽 하늘\n",
      "_ 창공\n",
      "_ 거리에서\n",
      "_ 삶과 죽음\n",
      "_ 초한대\n",
      "_ 산울림\n",
      "_ 해바라기 얼굴\n",
      "_ 귀뚜라미와 나와\n",
      "_ 애기의 새벽\n",
      "_ 햇빛·바람\n",
      "_ 반디불\n",
      "_ 둘 다\n",
      "_ 거짓부리\n",
      "_ 눈\n",
      "_ 참새\n",
      "_ 버선본\n",
      "_ 편지\n",
      "_ 봄\n",
      "_ 무얼 먹구 사나\n",
      "_ 굴뚝\n",
      "_ 햇비\n",
      "_ 빗자루\n",
      "_ 기왓장 내외\n",
      "_ 오줌싸개 지도\n",
      "_ 병아리\n",
      "_ 조개껍질\n",
      "_ 겨울\n",
      "_ 트루게네프의 언덕\n",
      "_ 달을 쏘다\n",
      "_ 별똥 떨어진 데\n",
      "_ 화원에 꽃이 핀다\n",
      "_ 종시\n"
     ]
    }
   ],
   "source": [
    "for a in a_list:\n",
    "    name = a.string\n",
    "    if name == '증보판':\n",
    "        # continue : ›name이 증보판이면 print로 가지말고 위로 다시 올라가라\n",
    "        continue\n",
    "    print(\"_\",name)"
   ]
  },
  {
   "cell_type": "code",
   "execution_count": null,
   "metadata": {},
   "outputs": [],
   "source": []
  }
 ],
 "metadata": {
  "kernelspec": {
   "display_name": "Python 3.9.7 ('base')",
   "language": "python",
   "name": "python3"
  },
  "language_info": {
   "codemirror_mode": {
    "name": "ipython",
    "version": 3
   },
   "file_extension": ".py",
   "mimetype": "text/x-python",
   "name": "python",
   "nbconvert_exporter": "python",
   "pygments_lexer": "ipython3",
   "version": "3.9.7"
  },
  "orig_nbformat": 4,
  "vscode": {
   "interpreter": {
    "hash": "c34e8390e776d2ee205b71ed5a6130fee3cef8da5e87e926ce18e14f4a070d72"
   }
  }
 },
 "nbformat": 4,
 "nbformat_minor": 2
}
