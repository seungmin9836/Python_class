{
 "cells": [
  {
   "cell_type": "markdown",
   "metadata": {},
   "source": [
    "# 몬테카를로 시뮬레이션\n",
    ": 자료가 없을 경우 난수를 통해서 가설 증명"
   ]
  },
  {
   "cell_type": "code",
   "execution_count": 1,
   "metadata": {},
   "outputs": [],
   "source": [
    "# 동전의 앞면과 뒷면이 나올 확률이 같다는 것을 증명"
   ]
  },
  {
   "cell_type": "code",
   "execution_count": 2,
   "metadata": {},
   "outputs": [],
   "source": [
    "import random"
   ]
  },
  {
   "cell_type": "code",
   "execution_count": 3,
   "metadata": {},
   "outputs": [
    {
     "data": {
      "text/plain": [
       "6"
      ]
     },
     "execution_count": 3,
     "metadata": {},
     "output_type": "execute_result"
    }
   ],
   "source": [
    "random.randint(1,10)"
   ]
  },
  {
   "cell_type": "code",
   "execution_count": 4,
   "metadata": {},
   "outputs": [],
   "source": [
    "def coinF(n):\n",
    "    coinFront = coinRear = 0\n",
    "    for i in range(1, n+1):\n",
    "        x = random.randint(1,2)\n",
    "        if x == 1:\n",
    "            coinFront += 1\n",
    "        else:\n",
    "            coinRear += 1\n",
    "    print(\"%7d번 시도시 동전의 앞면은 %6d번이고 동전의 뒷면은 %6d번 입니다.\"%(n, coinFront, coinRear))"
   ]
  },
  {
   "cell_type": "code",
   "execution_count": 5,
   "metadata": {},
   "outputs": [
    {
     "name": "stdout",
     "output_type": "stream",
     "text": [
      "     10번 시도시 동전의 앞면은      4번이고 동전의 뒷면은      6번 입니다.\n",
      "    100번 시도시 동전의 앞면은     52번이고 동전의 뒷면은     48번 입니다.\n",
      "   1000번 시도시 동전의 앞면은    472번이고 동전의 뒷면은    528번 입니다.\n",
      "  10000번 시도시 동전의 앞면은   4927번이고 동전의 뒷면은   5073번 입니다.\n",
      " 100000번 시도시 동전의 앞면은  50031번이고 동전의 뒷면은  49969번 입니다.\n",
      "1000000번 시도시 동전의 앞면은 499714번이고 동전의 뒷면은 500286번 입니다.\n"
     ]
    }
   ],
   "source": [
    "coinF(10)\n",
    "coinF(100)\n",
    "coinF(1000)\n",
    "coinF(10000)\n",
    "coinF(100000)\n",
    "coinF(1000000)"
   ]
  },
  {
   "cell_type": "code",
   "execution_count": 10,
   "metadata": {},
   "outputs": [],
   "source": [
    "def RockPaperScissorsF(n):\n",
    "    Rocks = Papers = Scissors = 0\n",
    "    for i in range(1, n+2):\n",
    "        x = random.randint(1,3)\n",
    "        if x == 1:\n",
    "            Rocks += 1\n",
    "        elif x == 2:\n",
    "            Scissors += 1\n",
    "        else:\n",
    "            Papers += 1\n",
    "    print(\"%7d번 시도시 가위는 %6d번이고 바위는 %6d번이고 보는 %6d번 입니다.\"%(n, Rocks, Scissors, Papers))"
   ]
  },
  {
   "cell_type": "code",
   "execution_count": 11,
   "metadata": {},
   "outputs": [
    {
     "name": "stdout",
     "output_type": "stream",
     "text": [
      "     10번 시도시 가위는      4번이고 바위는      4번이고 보는      3번 입니다.\n",
      "    100번 시도시 가위는     34번이고 바위는     38번이고 보는     29번 입니다.\n",
      "   1000번 시도시 가위는    351번이고 바위는    312번이고 보는    338번 입니다.\n",
      "  10000번 시도시 가위는   3334번이고 바위는   3366번이고 보는   3301번 입니다.\n",
      " 100000번 시도시 가위는  33153번이고 바위는  33274번이고 보는  33574번 입니다.\n",
      "1000000번 시도시 가위는 333848번이고 바위는 334196번이고 보는 331957번 입니다.\n"
     ]
    }
   ],
   "source": [
    "RockPaperScissorsF(10)\n",
    "RockPaperScissorsF(100)\n",
    "RockPaperScissorsF(1000)\n",
    "RockPaperScissorsF(10000)\n",
    "RockPaperScissorsF(100000)\n",
    "RockPaperScissorsF(1000000)"
   ]
  },
  {
   "cell_type": "code",
   "execution_count": null,
   "metadata": {},
   "outputs": [],
   "source": []
  }
 ],
 "metadata": {
  "kernelspec": {
   "display_name": "Python 3.9.7 ('base')",
   "language": "python",
   "name": "python3"
  },
  "language_info": {
   "codemirror_mode": {
    "name": "ipython",
    "version": 3
   },
   "file_extension": ".py",
   "mimetype": "text/x-python",
   "name": "python",
   "nbconvert_exporter": "python",
   "pygments_lexer": "ipython3",
   "version": "3.9.7"
  },
  "orig_nbformat": 4,
  "vscode": {
   "interpreter": {
    "hash": "c34e8390e776d2ee205b71ed5a6130fee3cef8da5e87e926ce18e14f4a070d72"
   }
  }
 },
 "nbformat": 4,
 "nbformat_minor": 2
}
