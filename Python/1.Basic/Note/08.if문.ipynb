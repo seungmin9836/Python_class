{
 "cells": [
  {
   "cell_type": "code",
   "execution_count": 1,
   "metadata": {},
   "outputs": [],
   "source": [
    "from random import randint"
   ]
  },
  {
   "cell_type": "code",
   "execution_count": 2,
   "metadata": {},
   "outputs": [
    {
     "data": {
      "text/plain": [
       "8"
      ]
     },
     "execution_count": 2,
     "metadata": {},
     "output_type": "execute_result"
    }
   ],
   "source": [
    "randint(1, 100)"
   ]
  },
  {
   "cell_type": "code",
   "execution_count": 11,
   "metadata": {},
   "outputs": [
    {
     "name": "stdout",
     "output_type": "stream",
     "text": [
      "50보다 큽니다.\n"
     ]
    }
   ],
   "source": [
    "# if문, elif문( = else if), else문\n",
    "\n",
    "x = randint(1, 100)\n",
    "\n",
    "if x > 70:\n",
    "    print(\"70보다 큽니다.\")\n",
    "elif x > 50:\n",
    "    print(\"50보다 큽니다.\")\n",
    "elif x > 30:\n",
    "    print(\"30보다 큽니다.\")\n",
    "else:\n",
    "    print(\"0보다 큽니다.\")"
   ]
  },
  {
   "cell_type": "code",
   "execution_count": 12,
   "metadata": {},
   "outputs": [
    {
     "name": "stdout",
     "output_type": "stream",
     "text": [
      "x는 홀수 입니다.\n"
     ]
    }
   ],
   "source": [
    "# 홀짝수 구분\n",
    "\n",
    "x = 9\n",
    "\n",
    "if x % 2 == 0:\n",
    "    print(\"x는 짝수 입니다.\")\n",
    "else:\n",
    "    print(\"x는 홀수 입니다.\")"
   ]
  },
  {
   "cell_type": "code",
   "execution_count": 14,
   "metadata": {},
   "outputs": [
    {
     "data": {
      "text/plain": [
       "int"
      ]
     },
     "execution_count": 14,
     "metadata": {},
     "output_type": "execute_result"
    }
   ],
   "source": [
    "# 사용자로 부터 숫자를 입력받자!\n",
    "number = int(input(\"숫자를 입력하세요 : \"))\n",
    "type(number)"
   ]
  },
  {
   "cell_type": "code",
   "execution_count": 17,
   "metadata": {},
   "outputs": [
    {
     "name": "stdout",
     "output_type": "stream",
     "text": [
      "숫자를 입력하세요 :  12\n",
      "12 는 짝수 입니다.\n"
     ]
    }
   ],
   "source": [
    "number = int(input(\"숫자를 입력하세요 : \"))\n",
    "\n",
    "if number % 2 == 0:\n",
    "    print(\"숫자를 입력하세요 : \",number)\n",
    "    print(number,\"는 짝수 입니다.\")\n",
    "else:\n",
    "    print(\"숫자를 입력하세요 : \",number)\n",
    "    print(number,\"는 홀수 입니다.\")"
   ]
  },
  {
   "cell_type": "code",
   "execution_count": 24,
   "metadata": {},
   "outputs": [
    {
     "name": "stdout",
     "output_type": "stream",
     "text": [
      "점수를 입력하세요 :  85\n",
      "점수는 85 이고 B 학점 입니다.\n"
     ]
    }
   ],
   "source": [
    "score = int(input(\"점수를 입력하세요 : \"))\n",
    "credit = ''\n",
    "\n",
    "if score / 10 >= 9:\n",
    "    credit = 'A'\n",
    "    print(\"점수를 입력하세요 : \",score)\n",
    "    print(\"점수는\",score,\"이고\",credit,\"학점 입니다.\")\n",
    "elif score / 10 >= 8:\n",
    "    credit = 'B'\n",
    "    print(\"점수를 입력하세요 : \",score)\n",
    "    print(\"점수는\",score,\"이고\",credit,\"학점 입니다.\")\n",
    "elif score / 10 >= 7:\n",
    "    credit = 'C'\n",
    "    print(\"점수를 입력하세요 : \",score)\n",
    "    print(\"점수는\",score,\"이고\",credit,\"학점 입니다.\")\n",
    "elif score / 10 >= 6:\n",
    "    credit = 'D'\n",
    "    print(\"점수를 입력하세요 : \",score)\n",
    "    print(\"점수는\",score,\"이고\",credit,\"학점 입니다.\")\n",
    "else:\n",
    "    credit = 'F'\n",
    "    print(\"점수를 입력하세요 : \",score)\n",
    "    print(\"점수는\",score,\"이고\",credit,\"학점 입니다.\")"
   ]
  },
  {
   "cell_type": "code",
   "execution_count": 35,
   "metadata": {},
   "outputs": [
    {
     "name": "stdout",
     "output_type": "stream",
     "text": [
      "입력하신 숫자는 5의 배수가 아닙니다. 원래 수 : 6\n"
     ]
    }
   ],
   "source": [
    "# 사용자로 부터 숫자를 입력받아 5의 배수이면 제곱근을 구하고 그렇지 않으면 원래 수를 출력하기\n",
    "import math\n",
    "\n",
    "number = int(input(\"숫자를 입력하세요 : \"))\n",
    "\n",
    "if number % 5 == 0:\n",
    "    number = math.sqrt(number)\n",
    "    print(\"입력하신 숫자는 5의 배수입니다. 제곱근 :\", number)\n",
    "else:\n",
    "    print(\"입력하신 숫자는 5의 배수가 아닙니다. 원래 수 :\", number)\n"
   ]
  },
  {
   "cell_type": "code",
   "execution_count": 37,
   "metadata": {},
   "outputs": [
    {
     "name": "stdout",
     "output_type": "stream",
     "text": [
      "신용카드를 사용한 택시타기!\n",
      "--- End ---\n"
     ]
    }
   ],
   "source": [
    "# list의 내용을 if문으로 판별하기\n",
    "\n",
    "pocket = ['paper', 'smartphone']\n",
    "card = 1\n",
    "\n",
    "if 'money' in pocket:\n",
    "    print(\"현금으로 택시타기!\")\n",
    "elif card:\n",
    "    print(\"신용카드를 사용한 택시타기!\")\n",
    "else:\n",
    "    print(\"튼튼한 다리를 사용!\")\n",
    "\n",
    "print(\"--- End ---\")"
   ]
  },
  {
   "cell_type": "code",
   "execution_count": 38,
   "metadata": {},
   "outputs": [
    {
     "name": "stdout",
     "output_type": "stream",
     "text": [
      "18\n"
     ]
    }
   ],
   "source": [
    "# 삼항 연산자\n",
    "# 변수 = 참인경우 if(조건문) else (거짓인 경우)\n",
    "num = 9\n",
    "result = 0\n",
    "\n",
    "result = num * 2 if num >= 5 else num + 2\n",
    "print(result)"
   ]
  }
 ],
 "metadata": {
  "kernelspec": {
   "display_name": "Python 3.9.7 ('base')",
   "language": "python",
   "name": "python3"
  },
  "language_info": {
   "codemirror_mode": {
    "name": "ipython",
    "version": 3
   },
   "file_extension": ".py",
   "mimetype": "text/x-python",
   "name": "python",
   "nbconvert_exporter": "python",
   "pygments_lexer": "ipython3",
   "version": "3.9.7"
  },
  "orig_nbformat": 4,
  "vscode": {
   "interpreter": {
    "hash": "c34e8390e776d2ee205b71ed5a6130fee3cef8da5e87e926ce18e14f4a070d72"
   }
  }
 },
 "nbformat": 4,
 "nbformat_minor": 2
}
