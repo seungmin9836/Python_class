{
 "cells": [
  {
   "cell_type": "markdown",
   "metadata": {},
   "source": [
    "# Class"
   ]
  },
  {
   "cell_type": "code",
   "execution_count": 2,
   "metadata": {},
   "outputs": [],
   "source": [
    "# class 선언\n",
    "\n",
    "class Services:\n",
    "    secret = \"임금님 귀는 당나귀 귀다!\""
   ]
  },
  {
   "cell_type": "code",
   "execution_count": 3,
   "metadata": {},
   "outputs": [
    {
     "name": "stdout",
     "output_type": "stream",
     "text": [
      "임금님 귀는 당나귀 귀다!\n"
     ]
    }
   ],
   "source": [
    "# instance를 만들어서 class를 사용\n",
    "\n",
    "instance01 = Services()\n",
    "print(instance01.secret)"
   ]
  },
  {
   "cell_type": "code",
   "execution_count": 43,
   "metadata": {},
   "outputs": [],
   "source": [
    "class Services:\n",
    "    secret = \"임금님 귀는 당나귀 귀다!\"\n",
    "    def sum(self, num01, num02):\n",
    "        result = num01 + num02\n",
    "        print(\"%d + %d = %d 입니다.\"%(num01, num02, result))"
   ]
  },
  {
   "cell_type": "code",
   "execution_count": 47,
   "metadata": {},
   "outputs": [
    {
     "name": "stdout",
     "output_type": "stream",
     "text": [
      "2 + 3 = 5 입니다.\n",
      "임금님 귀는 당나귀 귀다! None\n",
      "\n"
     ]
    }
   ],
   "source": [
    "instance01 = Services()\n",
    "print(instance01.secret, instance01.sum(2,3))\n",
    "print()\n"
   ]
  },
  {
   "cell_type": "code",
   "execution_count": 11,
   "metadata": {},
   "outputs": [],
   "source": [
    "class Services:\n",
    "    secret = \"임금님 귀는 당나귀 귀다!\"\n",
    "    def setname(self, name):\n",
    "        self.name = name\n",
    "    def sum(self, num01, num02):\n",
    "        result = num01 + num02\n",
    "        print(\"%s님! %d + %d = %d 입니다.\"%(self.name, num01, num02, result))"
   ]
  },
  {
   "cell_type": "code",
   "execution_count": 12,
   "metadata": {},
   "outputs": [
    {
     "name": "stdout",
     "output_type": "stream",
     "text": [
      "유비님! 2 + 3 = 5 입니다.\n"
     ]
    }
   ],
   "source": [
    "instance01 = Services()\n",
    "instance01.setname(\"유비\")\n",
    "instance01.sum(2,3)"
   ]
  },
  {
   "cell_type": "code",
   "execution_count": 18,
   "metadata": {},
   "outputs": [],
   "source": [
    "class Services:\n",
    "    name = \"\"\n",
    "    secret = \"임금님 귀는 당나귀 귀다!\"\n",
    "    def __init__(self, name):\n",
    "        self.name = name\n",
    "    def sum(self, num01, num02):\n",
    "        result = num01 + num02\n",
    "        print(\"%s님! %d + %d = %d 입니다.\"%(self.name, num01, num02, result))"
   ]
  },
  {
   "cell_type": "code",
   "execution_count": 19,
   "metadata": {},
   "outputs": [
    {
     "name": "stdout",
     "output_type": "stream",
     "text": [
      "관우님! 2 + 3 = 5 입니다.\n"
     ]
    }
   ],
   "source": [
    "instance01 = Services(\"관우\")\n",
    "instance01.sum(2,3)"
   ]
  },
  {
   "cell_type": "code",
   "execution_count": 56,
   "metadata": {},
   "outputs": [],
   "source": [
    "class Calc:\n",
    "    def setData(self, num01, num02):\n",
    "        self.num01 = num01\n",
    "        self.num02 = num02\n",
    "    def sum(self):\n",
    "        result_sum = self.num01 + self.num02\n",
    "        return result_sum\n",
    "    def mul(self):\n",
    "        result_mul = self.num01 * self.num02\n",
    "        return result_mul\n",
    "    def sub(self):\n",
    "        result_sub = self.num01 - self.num02\n",
    "        return result_sub\n",
    "    def div(self):\n",
    "        result_div = self.num01 / self.num02\n",
    "        return result_div\n",
    "\n"
   ]
  },
  {
   "cell_type": "code",
   "execution_count": 57,
   "metadata": {},
   "outputs": [
    {
     "name": "stdout",
     "output_type": "stream",
     "text": [
      "덧셈 6\n",
      "곱셈 8\n",
      "뺄셈 2\n",
      "나눗셈 2.0\n"
     ]
    }
   ],
   "source": [
    "calc01 = Calc()\n",
    "calc01.setData(4, 2)\n",
    "print(\"덧셈\", calc01.sum())\n",
    "print(\"곱셈\", calc01.mul())\n",
    "print(\"뺄셈\", calc01.sub())\n",
    "print(\"나눗셈\", calc01.div())"
   ]
  },
  {
   "cell_type": "code",
   "execution_count": null,
   "metadata": {},
   "outputs": [],
   "source": []
  }
 ],
 "metadata": {
  "kernelspec": {
   "display_name": "Python 3.9.7 ('base')",
   "language": "python",
   "name": "python3"
  },
  "language_info": {
   "codemirror_mode": {
    "name": "ipython",
    "version": 3
   },
   "file_extension": ".py",
   "mimetype": "text/x-python",
   "name": "python",
   "nbconvert_exporter": "python",
   "pygments_lexer": "ipython3",
   "version": "3.9.7"
  },
  "orig_nbformat": 4,
  "vscode": {
   "interpreter": {
    "hash": "c34e8390e776d2ee205b71ed5a6130fee3cef8da5e87e926ce18e14f4a070d72"
   }
  }
 },
 "nbformat": 4,
 "nbformat_minor": 2
}
