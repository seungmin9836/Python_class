{
 "cells": [
  {
   "cell_type": "markdown",
   "metadata": {},
   "source": [
    "# SVM(Support Vector Machine)"
   ]
  },
  {
   "cell_type": "markdown",
   "metadata": {},
   "source": [
    "### SVM을 활용한 비만도 (BMI) 측정예측\n",
    "- BMI = 몸무게 (Kg) / 키 (m) * 키 (m)\n",
    "- BMI가 18.5 이상 25 미만일때가 표준몸무게입니다."
   ]
  },
  {
   "cell_type": "code",
   "execution_count": 3,
   "metadata": {},
   "outputs": [
    {
     "name": "stdout",
     "output_type": "stream",
     "text": [
      "ok :  {'thin': 6336, 'normal': 5937, 'fat': 7727}\n"
     ]
    }
   ],
   "source": [
    "# 데이터를 획득하기 위해 무작위로 2만명 데이터를 생성\n",
    "# 키(cm), 몸무게(kg), Label(저체중(thin), 정상체중(normal), 비만(fat))의 csv 생성\n",
    "\n",
    "import random\n",
    "\n",
    "# BMI를 계사내서 Label을 return하는 함수\n",
    "def calc_bmi(h, w):\n",
    "    # 키가 M(미터)이기에 100을 나눠줘야된다.\n",
    "    bmi = w / (h/100) ** 2\n",
    "    # return을 쓰면 값을 가지고 날라가기때문에 굳이 elif 등을 쓸 필요가 없다.\n",
    "    if bmi < 18.5 : return \"thin\"\n",
    "    if bmi < 25 : return \"normal\"\n",
    "    return \"fat\"\n",
    "\n",
    "# 저장 파일 준비하기\n",
    "fp = open(\"../Data/bmi.csv\",'w', encoding='utf-8')\n",
    "# 헤더(header) 만들어서 저장하기\n",
    "fp.write(\"height,weight,label\\r\\n\")\n",
    "\n",
    "# 무작위로 데이터 생성하기\n",
    "    # 딕셔너리 생성\n",
    "cnt = {\"thin\":0, \"normal\":0, \"fat\":0}\n",
    "\n",
    "for i in range(20000):\n",
    "    # height를 120~200cm로 랜덤으로 생성\n",
    "    h = random.randint(120, 200)\n",
    "    w = random.randint(35, 80)\n",
    "    # label은 위에서 만들었던 함수에다가 h,w를 넣어줘야된다.\n",
    "    label = calc_bmi(h, w)\n",
    "    cnt[label] += 1\n",
    "    fp.write(\"{0},{1},{2}\\r\\n\".format(h,w,label))\n",
    "# 다 되면 닫으면서 ok를 찍어주고 cnt를 찍어준다.\n",
    "fp.close()\n",
    "print(\"ok : \", cnt)"
   ]
  },
  {
   "cell_type": "markdown",
   "metadata": {},
   "source": [
    "### BMI 공식을 사용하지 않고 BMI 예측\n"
   ]
  },
  {
   "cell_type": "code",
   "execution_count": 4,
   "metadata": {},
   "outputs": [
    {
     "data": {
      "text/html": [
       "<div>\n",
       "<style scoped>\n",
       "    .dataframe tbody tr th:only-of-type {\n",
       "        vertical-align: middle;\n",
       "    }\n",
       "\n",
       "    .dataframe tbody tr th {\n",
       "        vertical-align: top;\n",
       "    }\n",
       "\n",
       "    .dataframe thead th {\n",
       "        text-align: right;\n",
       "    }\n",
       "</style>\n",
       "<table border=\"1\" class=\"dataframe\">\n",
       "  <thead>\n",
       "    <tr style=\"text-align: right;\">\n",
       "      <th></th>\n",
       "      <th>height</th>\n",
       "      <th>weight</th>\n",
       "      <th>label</th>\n",
       "    </tr>\n",
       "  </thead>\n",
       "  <tbody>\n",
       "    <tr>\n",
       "      <th>0</th>\n",
       "      <td>182</td>\n",
       "      <td>77</td>\n",
       "      <td>normal</td>\n",
       "    </tr>\n",
       "    <tr>\n",
       "      <th>1</th>\n",
       "      <td>125</td>\n",
       "      <td>38</td>\n",
       "      <td>normal</td>\n",
       "    </tr>\n",
       "    <tr>\n",
       "      <th>2</th>\n",
       "      <td>161</td>\n",
       "      <td>61</td>\n",
       "      <td>normal</td>\n",
       "    </tr>\n",
       "    <tr>\n",
       "      <th>3</th>\n",
       "      <td>170</td>\n",
       "      <td>67</td>\n",
       "      <td>normal</td>\n",
       "    </tr>\n",
       "    <tr>\n",
       "      <th>4</th>\n",
       "      <td>143</td>\n",
       "      <td>70</td>\n",
       "      <td>fat</td>\n",
       "    </tr>\n",
       "  </tbody>\n",
       "</table>\n",
       "</div>"
      ],
      "text/plain": [
       "   height  weight   label\n",
       "0     182      77  normal\n",
       "1     125      38  normal\n",
       "2     161      61  normal\n",
       "3     170      67  normal\n",
       "4     143      70     fat"
      ]
     },
     "execution_count": 4,
     "metadata": {},
     "output_type": "execute_result"
    }
   ],
   "source": [
    "# 데이터 불러오기\n",
    "import pandas as pd\n",
    "\n",
    "tbl = pd.read_csv(\"../Data/bmi.csv\")\n",
    "tbl.head()"
   ]
  },
  {
   "cell_type": "code",
   "execution_count": 6,
   "metadata": {},
   "outputs": [],
   "source": [
    "# 컬럼을 분리하여 정규화하기\n",
    "\n",
    "label = tbl['label']\n",
    "w = tbl['weight'] / 80\n",
    "h = tbl['height'] / 200"
   ]
  },
  {
   "cell_type": "code",
   "execution_count": 19,
   "metadata": {},
   "outputs": [],
   "source": [
    "w = pd.DataFrame(w)\n",
    "h = pd.DataFrame(h)\n",
    "label = pd.DataFrame(label)"
   ]
  },
  {
   "cell_type": "code",
   "execution_count": 20,
   "metadata": {},
   "outputs": [
    {
     "data": {
      "text/html": [
       "<div>\n",
       "<style scoped>\n",
       "    .dataframe tbody tr th:only-of-type {\n",
       "        vertical-align: middle;\n",
       "    }\n",
       "\n",
       "    .dataframe tbody tr th {\n",
       "        vertical-align: top;\n",
       "    }\n",
       "\n",
       "    .dataframe thead th {\n",
       "        text-align: right;\n",
       "    }\n",
       "</style>\n",
       "<table border=\"1\" class=\"dataframe\">\n",
       "  <thead>\n",
       "    <tr style=\"text-align: right;\">\n",
       "      <th></th>\n",
       "      <th>height</th>\n",
       "      <th>weight</th>\n",
       "    </tr>\n",
       "  </thead>\n",
       "  <tbody>\n",
       "    <tr>\n",
       "      <th>0</th>\n",
       "      <td>0.910</td>\n",
       "      <td>0.9625</td>\n",
       "    </tr>\n",
       "    <tr>\n",
       "      <th>1</th>\n",
       "      <td>0.625</td>\n",
       "      <td>0.4750</td>\n",
       "    </tr>\n",
       "    <tr>\n",
       "      <th>2</th>\n",
       "      <td>0.805</td>\n",
       "      <td>0.7625</td>\n",
       "    </tr>\n",
       "    <tr>\n",
       "      <th>3</th>\n",
       "      <td>0.850</td>\n",
       "      <td>0.8375</td>\n",
       "    </tr>\n",
       "    <tr>\n",
       "      <th>4</th>\n",
       "      <td>0.715</td>\n",
       "      <td>0.8750</td>\n",
       "    </tr>\n",
       "  </tbody>\n",
       "</table>\n",
       "</div>"
      ],
      "text/plain": [
       "   height  weight\n",
       "0   0.910  0.9625\n",
       "1   0.625  0.4750\n",
       "2   0.805  0.7625\n",
       "3   0.850  0.8375\n",
       "4   0.715  0.8750"
      ]
     },
     "execution_count": 20,
     "metadata": {},
     "output_type": "execute_result"
    }
   ],
   "source": [
    "w_h = pd.concat([h,w],axis=1)\n",
    "w_h.head()"
   ]
  },
  {
   "cell_type": "code",
   "execution_count": 21,
   "metadata": {},
   "outputs": [
    {
     "data": {
      "text/html": [
       "<div>\n",
       "<style scoped>\n",
       "    .dataframe tbody tr th:only-of-type {\n",
       "        vertical-align: middle;\n",
       "    }\n",
       "\n",
       "    .dataframe tbody tr th {\n",
       "        vertical-align: top;\n",
       "    }\n",
       "\n",
       "    .dataframe thead th {\n",
       "        text-align: right;\n",
       "    }\n",
       "</style>\n",
       "<table border=\"1\" class=\"dataframe\">\n",
       "  <thead>\n",
       "    <tr style=\"text-align: right;\">\n",
       "      <th></th>\n",
       "      <th>label</th>\n",
       "    </tr>\n",
       "  </thead>\n",
       "  <tbody>\n",
       "    <tr>\n",
       "      <th>0</th>\n",
       "      <td>normal</td>\n",
       "    </tr>\n",
       "    <tr>\n",
       "      <th>1</th>\n",
       "      <td>normal</td>\n",
       "    </tr>\n",
       "    <tr>\n",
       "      <th>2</th>\n",
       "      <td>normal</td>\n",
       "    </tr>\n",
       "    <tr>\n",
       "      <th>3</th>\n",
       "      <td>normal</td>\n",
       "    </tr>\n",
       "    <tr>\n",
       "      <th>4</th>\n",
       "      <td>fat</td>\n",
       "    </tr>\n",
       "  </tbody>\n",
       "</table>\n",
       "</div>"
      ],
      "text/plain": [
       "    label\n",
       "0  normal\n",
       "1  normal\n",
       "2  normal\n",
       "3  normal\n",
       "4     fat"
      ]
     },
     "execution_count": 21,
     "metadata": {},
     "output_type": "execute_result"
    }
   ],
   "source": [
    "label.head()"
   ]
  },
  {
   "cell_type": "code",
   "execution_count": 23,
   "metadata": {},
   "outputs": [],
   "source": [
    "# 학습용과 훈련용으로 나누기\n",
    "from sklearn.model_selection import train_test_split\n",
    "\n",
    "train_data, test_data, train_label, test_label = train_test_split(\n",
    "    # 1열부터 마지막까지 열 -> dataTemp해당\n",
    "    w_h,\n",
    "    # 0열 -> datalabel해당\n",
    "    label\n",
    ")"
   ]
  },
  {
   "cell_type": "code",
   "execution_count": 29,
   "metadata": {},
   "outputs": [
    {
     "name": "stderr",
     "output_type": "stream",
     "text": [
      "/Users/tj/opt/anaconda3/lib/python3.9/site-packages/sklearn/utils/validation.py:63: DataConversionWarning: A column-vector y was passed when a 1d array was expected. Please change the shape of y to (n_samples, ), for example using ravel().\n",
      "  return f(*args, **kwargs)\n"
     ]
    },
    {
     "data": {
      "text/plain": [
       "SVC()"
      ]
     },
     "execution_count": 29,
     "metadata": {},
     "output_type": "execute_result"
    }
   ],
   "source": [
    "# 데이터 학습하기\n",
    "from sklearn.svm import SVC\n",
    "clf = SVC()\n",
    "clf.fit(train_data, train_label)"
   ]
  },
  {
   "cell_type": "code",
   "execution_count": 30,
   "metadata": {},
   "outputs": [
    {
     "data": {
      "text/plain": [
       "0.9946"
      ]
     },
     "execution_count": 30,
     "metadata": {},
     "output_type": "execute_result"
    }
   ],
   "source": [
    "# 정확도 구하기\n",
    "clf.score(test_data, test_label)"
   ]
  },
  {
   "cell_type": "code",
   "execution_count": 31,
   "metadata": {},
   "outputs": [
    {
     "name": "stdout",
     "output_type": "stream",
     "text": [
      "              precision    recall  f1-score   support\n",
      "\n",
      "         fat       1.00      1.00      1.00      1941\n",
      "      normal       0.99      0.99      0.99      1461\n",
      "        thin       0.99      0.99      0.99      1598\n",
      "\n",
      "    accuracy                           0.99      5000\n",
      "   macro avg       0.99      0.99      0.99      5000\n",
      "weighted avg       0.99      0.99      0.99      5000\n",
      "\n"
     ]
    }
   ],
   "source": [
    "# Confusion Matrix 출력하기\n",
    "# 혼동 행렬(Confusion Matrix)\n",
    "from sklearn import metrics\n",
    "cl_report = metrics.classification_report(test_label, clf.predict(test_data))\n",
    "print(cl_report)"
   ]
  },
  {
   "cell_type": "code",
   "execution_count": 32,
   "metadata": {},
   "outputs": [
    {
     "data": {
      "text/plain": [
       "array([[1936,    5,    0],\n",
       "       [   2, 1448,   11],\n",
       "       [   0,    9, 1589]])"
      ]
     },
     "execution_count": 32,
     "metadata": {},
     "output_type": "execute_result"
    }
   ],
   "source": [
    "metrics.confusion_matrix(test_label, clf.predict(test_data))"
   ]
  },
  {
   "cell_type": "code",
   "execution_count": 26,
   "metadata": {},
   "outputs": [
    {
     "data": {
      "image/png": "[encoded data removed]",
      "text/plain": [
       "<Figure size 432x288 with 1 Axes>"
      ]
     },
     "metadata": {
      "needs_background": "light"
     },
     "output_type": "display_data"
    }
   ],
   "source": [
    "# 시각화 해보기\n",
    "import matplotlib.pyplot as plt\n",
    "# index_col=2는 인덱스\n",
    "tbl = pd.read_csv('../Data/bmi.csv', index_col=2)\n",
    "fig = plt.figure()\n",
    "ax = fig.add_subplot(1,1,1)\n",
    "\n",
    "def scatter(lbl, color):\n",
    "    b = tbl.loc[lbl]\n",
    "    ax.scatter(b['weight'], b['height'], c=color, label=lbl)\n",
    "\n",
    "scatter('thin', 'purple')\n",
    "scatter('normal', 'yellow')\n",
    "scatter('fat', 'red')\n",
    "ax.legend()\n",
    "plt.savefig(\"../Data/bmi-test.png\")\n",
    "plt.show()\n"
   ]
  },
  {
   "cell_type": "markdown",
   "metadata": {},
   "source": [
    "---\n",
    "# SVM의 종류\n",
    "- SVC(Classification)\n",
    "- NuSVC : \"\n",
    "- LinearSVC : SVM 중에서 가장 빠름, SVC 대비 약 3배정도 빠르다"
   ]
  },
  {
   "cell_type": "code",
   "execution_count": 34,
   "metadata": {},
   "outputs": [
    {
     "name": "stderr",
     "output_type": "stream",
     "text": [
      "/Users/tj/opt/anaconda3/lib/python3.9/site-packages/sklearn/utils/validation.py:63: DataConversionWarning: A column-vector y was passed when a 1d array was expected. Please change the shape of y to (n_samples, ), for example using ravel().\n",
      "  return f(*args, **kwargs)\n"
     ]
    },
    {
     "data": {
      "text/plain": [
       "LinearSVC()"
      ]
     },
     "execution_count": 34,
     "metadata": {},
     "output_type": "execute_result"
    }
   ],
   "source": [
    "# 데이터 학습하기\n",
    "clf = svm.LinearSVC()\n",
    "clf.fit(train_data, train_label)"
   ]
  },
  {
   "cell_type": "code",
   "execution_count": 35,
   "metadata": {},
   "outputs": [
    {
     "data": {
      "text/plain": [
       "0.9326"
      ]
     },
     "execution_count": 35,
     "metadata": {},
     "output_type": "execute_result"
    }
   ],
   "source": [
    "# 정확도 구하기\n",
    "clf.score(test_data, test_label)"
   ]
  },
  {
   "cell_type": "code",
   "execution_count": null,
   "metadata": {},
   "outputs": [],
   "source": []
  }
 ],
 "metadata": {
  "kernelspec": {
   "display_name": "Python 3.9.7 ('base')",
   "language": "python",
   "name": "python3"
  },
  "language_info": {
   "codemirror_mode": {
    "name": "ipython",
    "version": 3
   },
   "file_extension": ".py",
   "mimetype": "text/x-python",
   "name": "python",
   "nbconvert_exporter": "python",
   "pygments_lexer": "ipython3",
   "version": "3.9.7"
  },
  "orig_nbformat": 4,
  "vscode": {
   "interpreter": {
    "hash": "c34e8390e776d2ee205b71ed5a6130fee3cef8da5e87e926ce18e14f4a070d72"
   }
  }
 },
 "nbformat": 4,
 "nbformat_minor": 2
}
